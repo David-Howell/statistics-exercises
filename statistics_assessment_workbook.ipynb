{
 "cells": [
  {
   "cell_type": "code",
   "execution_count": 1,
   "id": "946e5283",
   "metadata": {},
   "outputs": [],
   "source": [
    "from env import my_setup"
   ]
  },
  {
   "cell_type": "code",
   "execution_count": 3,
   "id": "4ab87c0f",
   "metadata": {},
   "outputs": [
    {
     "name": "stdout",
     "output_type": "stream",
     "text": [
      "\n",
      "import os\n",
      "from pydataset import data\n",
      "import seaborn as sns\n",
      "import matplotlib.pyplot as plt\n",
      "import pandas as pd\n",
      "import numpy as np\n",
      "import math as m\n",
      "from scipy import stats\n",
      "from env import gdb\n",
      "from env import Percent\n",
      "from env import output_chi_contingency\n",
      "    \n"
     ]
    }
   ],
   "source": [
    "my_setup()"
   ]
  },
  {
   "cell_type": "code",
   "execution_count": 5,
   "id": "b76fd3c6",
   "metadata": {},
   "outputs": [],
   "source": [
    "import os\n",
    "from pydataset import data\n",
    "import seaborn as sns\n",
    "import matplotlib.pyplot as plt\n",
    "import pandas as pd\n",
    "import numpy as np\n",
    "import math as m\n",
    "from scipy import stats\n",
    "from env import gdb\n",
    "from env import Percent\n",
    "from env import output_chi2_contingency"
   ]
  },
  {
   "cell_type": "code",
   "execution_count": 7,
   "id": "ae49250e",
   "metadata": {},
   "outputs": [
    {
     "data": {
      "text/plain": [
       "0.15107528710209764"
      ]
     },
     "execution_count": 7,
     "metadata": {},
     "output_type": "execute_result"
    }
   ],
   "source": [
    "stats.binom(618, .1).sf(69)"
   ]
  },
  {
   "cell_type": "markdown",
   "id": "33092e2b",
   "metadata": {},
   "source": [
    "The clerks at the Walgreens on Houston Street have to tell every customer to take the survey \n",
    "that's printed on their receipt. Walgreens knows that only 10% of customers complete the survey. \n",
    "If Walgreens has 618 customers today, what is the likelihood that 70 or more people take the survey?"
   ]
  },
  {
   "cell_type": "code",
   "execution_count": null,
   "id": "85b7445d",
   "metadata": {},
   "outputs": [],
   "source": [
    "stats.pearsonr()"
   ]
  },
  {
   "cell_type": "code",
   "execution_count": null,
   "id": "7b6e01fb",
   "metadata": {},
   "outputs": [],
   "source": [
    "Assume that the time it takes to order and eat the burger special \n",
    "at the Esquire is normally distributed with a \n",
    "\n",
    "mean of 40 minutes and a standard deviation of 15 minutes. \n",
    "If it takes 5 minutes to walk from Codeup to the restaurant, \n",
    "\n",
    "what is the likelihood that you can go eat at The Esquire \n",
    "during your lunch hour and not be late back to class?"
   ]
  },
  {
   "cell_type": "code",
   "execution_count": 13,
   "id": "8d75cf59",
   "metadata": {},
   "outputs": [
    {
     "data": {
      "text/plain": [
       "0.7475074624530771"
      ]
     },
     "execution_count": 13,
     "metadata": {},
     "output_type": "execute_result"
    }
   ],
   "source": [
    "stats.norm(40, 15).cdf(50)"
   ]
  },
  {
   "cell_type": "code",
   "execution_count": null,
   "id": "263de2fc",
   "metadata": {},
   "outputs": [],
   "source": []
  }
 ],
 "metadata": {
  "kernelspec": {
   "display_name": "Python 3 (ipykernel)",
   "language": "python",
   "name": "python3"
  },
  "language_info": {
   "codemirror_mode": {
    "name": "ipython",
    "version": 3
   },
   "file_extension": ".py",
   "mimetype": "text/x-python",
   "name": "python",
   "nbconvert_exporter": "python",
   "pygments_lexer": "ipython3",
   "version": "3.9.12"
  }
 },
 "nbformat": 4,
 "nbformat_minor": 5
}
