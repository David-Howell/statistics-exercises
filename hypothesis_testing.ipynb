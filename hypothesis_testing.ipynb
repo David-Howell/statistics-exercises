{
 "cells": [
  {
   "cell_type": "code",
   "execution_count": 1,
   "id": "7d4dc930",
   "metadata": {},
   "outputs": [],
   "source": [
    "from env import my_setup"
   ]
  },
  {
   "cell_type": "code",
   "execution_count": 2,
   "id": "70fc8960",
   "metadata": {},
   "outputs": [
    {
     "name": "stdout",
     "output_type": "stream",
     "text": [
      "\n",
      "import os\n",
      "from pydataset import data\n",
      "import seaborn as sns\n",
      "import matplotlib.pyplot as plt\n",
      "import pandas as pd\n",
      "import numpy as np\n",
      "import math as m\n",
      "from env import gdb\n",
      "from env import Percent\n",
      "    \n"
     ]
    }
   ],
   "source": [
    "my_setup()"
   ]
  },
  {
   "cell_type": "code",
   "execution_count": 3,
   "id": "8f574ecd",
   "metadata": {},
   "outputs": [],
   "source": [
    "import os\n",
    "from pydataset import data\n",
    "import seaborn as sns\n",
    "import matplotlib.pyplot as plt\n",
    "import pandas as pd\n",
    "import numpy as np\n",
    "import math as m\n",
    "from scipy import stats\n",
    "from env import gdb\n",
    "from env import Percent"
   ]
  },
  {
   "cell_type": "markdown",
   "id": "4452b8bc",
   "metadata": {},
   "source": [
    "# Exercises\n",
    "Do your work for this exercise in a jupyter notebook named `hypothesis_testing.ipynb`.\n",
    "\n",
    "For each of the following questions, formulate a null and alternative hypothesis (be as specific as you can be), then give an example of what a true positive, true negative, type I and type II errors would look like. Note that some of the questions are intentionally phrased in a vague way. It is your job to reword these as more precise questions that could be tested."
   ]
  },
  {
   "cell_type": "code",
   "execution_count": null,
   "id": "c4cb87c0",
   "metadata": {},
   "outputs": [],
   "source": []
  },
  {
   "cell_type": "markdown",
   "id": "e4630bfb",
   "metadata": {},
   "source": [
    "- Has the network latency gone up since we switched internet service providers?"
   ]
  },
  {
   "cell_type": "code",
   "execution_count": null,
   "id": "9fcd685a",
   "metadata": {},
   "outputs": [],
   "source": [
    "Hₒ = The latency is the same from ISPₒ and ISPᵦ\n",
    "Hₐ = The Latency has changed from ISPₒ and ISPᵦ"
   ]
  },
  {
   "cell_type": "markdown",
   "id": "ed67c459",
   "metadata": {},
   "source": [
    "- Is the website redesign any good?"
   ]
  },
  {
   "cell_type": "code",
   "execution_count": null,
   "id": "bff99a61",
   "metadata": {},
   "outputs": [],
   "source": [
    "Hₒ = The Websiteₙ is creating no different user engagement than Websiteₒ\n",
    "Hₐ = The Websiteₙ is creating a different user engagement metric than Websiteₒ"
   ]
  },
  {
   "cell_type": "markdown",
   "id": "53884a2f",
   "metadata": {},
   "source": [
    "- Is our television ad driving more sales?"
   ]
  },
  {
   "cell_type": "code",
   "execution_count": null,
   "id": "b60f940e",
   "metadata": {},
   "outputs": [],
   "source": [
    "Hₒ = Average sales for this time of year follows the established model with no statistical difference\n",
    "Hₐ = Average sales for this time of year are different from the established model"
   ]
  },
  {
   "cell_type": "markdown",
   "id": "6b6e7c40",
   "metadata": {},
   "source": [
    "# Exercises\n",
    "Continue working in your `hypothesis_testing` notebook."
   ]
  },
  {
   "cell_type": "markdown",
   "id": "091674a6",
   "metadata": {},
   "source": [
    "- Ace Realty wants to determine whether the average time it takes to sell homes is different for its two offices. A sample of 40 sales from office #1 revealed a mean of 90 days and a standard deviation of 15 days. A sample of 50 sales from office #2 revealed a mean of 100 days and a standard deviation of 20 days. Use a .05 level of significance."
   ]
  },
  {
   "cell_type": "markdown",
   "id": "419ea652",
   "metadata": {},
   "source": [
    "### Setting the Hypotheses\n",
    "\n",
    "  * $H{0}$: There is no difference in the means of the time it takes to sell homes in office #1 vs #2\n",
    "  \n",
    "  * $H{a}$: The average time it takes to sell a home in office #1 and #2 are different."
   ]
  },
  {
   "cell_type": "code",
   "execution_count": 4,
   "id": "feb18617",
   "metadata": {},
   "outputs": [
    {
     "data": {
      "text/plain": [
       "Ttest_indResult(statistic=-2.6252287036468456, pvalue=0.01020985244923939)"
      ]
     },
     "execution_count": 4,
     "metadata": {},
     "output_type": "execute_result"
    }
   ],
   "source": [
    "α = .05\n",
    "μᵢ, σᵢ, nobsᵢ = 90, 15, 40\n",
    "μⱼ, σⱼ, nobsⱼ = 100, 20, 50\n",
    "stats.ttest_ind_from_stats(μᵢ, σᵢ, nobsᵢ, μⱼ, σⱼ, nobsⱼ)\n"
   ]
  },
  {
   "cell_type": "code",
   "execution_count": 6,
   "id": "36d444d8",
   "metadata": {},
   "outputs": [
    {
     "data": {
      "text/plain": [
       "Ttest_indResult(statistic=2.6252287036468456, pvalue=0.01020985244923939)"
      ]
     },
     "execution_count": 6,
     "metadata": {},
     "output_type": "execute_result"
    }
   ],
   "source": [
    "stats.ttest_ind_from_stats(μⱼ, σⱼ, nobsⱼ, μᵢ, σᵢ, nobsᵢ)"
   ]
  },
  {
   "cell_type": "code",
   "execution_count": 98,
   "id": "69258f1f",
   "metadata": {},
   "outputs": [],
   "source": [
    "t , p = stats.ttest_ind_from_stats(μⱼ, σⱼ, nobsⱼ, μᵢ, σᵢ, nobsᵢ)"
   ]
  },
  {
   "cell_type": "code",
   "execution_count": 99,
   "id": "98670ff5",
   "metadata": {},
   "outputs": [
    {
     "name": "stdout",
     "output_type": "stream",
     "text": [
      "We can REJECT the Null Hypothesis\n"
     ]
    }
   ],
   "source": [
    "if (p < α):\n",
    "    print('We can REJECT the Null Hypothesis')\n",
    "else:\n",
    "    print('We CANNOT reject the Null Hypothesis')"
   ]
  },
  {
   "cell_type": "markdown",
   "id": "adb7cee6",
   "metadata": {},
   "source": [
    "- Load the mpg dataset and use it to answer the following questions:"
   ]
  },
  {
   "cell_type": "code",
   "execution_count": 8,
   "id": "e3b9cf9b",
   "metadata": {},
   "outputs": [
    {
     "data": {
      "text/plain": [
       "array([70, 71, 72, 73, 74, 75, 76, 77, 78, 79, 80, 81, 82])"
      ]
     },
     "execution_count": 8,
     "metadata": {},
     "output_type": "execute_result"
    }
   ],
   "source": [
    "mpg = sns.load_dataset('mpg')\n",
    "mpg.model_year.unique()"
   ]
  },
  {
   "cell_type": "code",
   "execution_count": 9,
   "id": "3e84a35f",
   "metadata": {
    "collapsed": true
   },
   "outputs": [
    {
     "name": "stdout",
     "output_type": "stream",
     "text": [
      "mpg\n",
      "\n",
      "PyDataset Documentation (adopted from R Documentation. The displayed examples are in R)\n",
      "\n",
      "## Fuel economy data from 1999 and 2008 for 38 popular models of car\n",
      "\n",
      "### Description\n",
      "\n",
      "This dataset contains a subset of the fuel economy data that the EPA makes\n",
      "available on http://fueleconomy.gov. It contains only models which had a new\n",
      "release every year between 1999 and 2008 - this was used as a proxy for the\n",
      "popularity of the car.\n",
      "\n",
      "### Usage\n",
      "\n",
      "    data(mpg)\n",
      "\n",
      "### Format\n",
      "\n",
      "A data frame with 234 rows and 11 variables\n",
      "\n",
      "### Details\n",
      "\n",
      "  * manufacturer. \n",
      "\n",
      "  * model. \n",
      "\n",
      "  * displ. engine displacement, in litres \n",
      "\n",
      "  * year. \n",
      "\n",
      "  * cyl. number of cylinders \n",
      "\n",
      "  * trans. type of transmission \n",
      "\n",
      "  * drv. f = front-wheel drive, r = rear wheel drive, 4 = 4wd \n",
      "\n",
      "  * cty. city miles per gallon \n",
      "\n",
      "  * hwy. highway miles per gallon \n",
      "\n",
      "  * fl. \n",
      "\n",
      "  * class. \n",
      "\n",
      "\n"
     ]
    }
   ],
   "source": [
    "data('mpg', show_doc='True')"
   ]
  },
  {
   "cell_type": "code",
   "execution_count": 11,
   "id": "d3cceb14",
   "metadata": {},
   "outputs": [
    {
     "data": {
      "text/html": [
       "<div>\n",
       "<style scoped>\n",
       "    .dataframe tbody tr th:only-of-type {\n",
       "        vertical-align: middle;\n",
       "    }\n",
       "\n",
       "    .dataframe tbody tr th {\n",
       "        vertical-align: top;\n",
       "    }\n",
       "\n",
       "    .dataframe thead th {\n",
       "        text-align: right;\n",
       "    }\n",
       "</style>\n",
       "<table border=\"1\" class=\"dataframe\">\n",
       "  <thead>\n",
       "    <tr style=\"text-align: right;\">\n",
       "      <th></th>\n",
       "      <th>manufacturer</th>\n",
       "      <th>model</th>\n",
       "      <th>displ</th>\n",
       "      <th>year</th>\n",
       "      <th>cyl</th>\n",
       "      <th>trans</th>\n",
       "      <th>drv</th>\n",
       "      <th>cty</th>\n",
       "      <th>hwy</th>\n",
       "      <th>fl</th>\n",
       "      <th>class</th>\n",
       "    </tr>\n",
       "  </thead>\n",
       "  <tbody>\n",
       "    <tr>\n",
       "      <th>1</th>\n",
       "      <td>audi</td>\n",
       "      <td>a4</td>\n",
       "      <td>1.8</td>\n",
       "      <td>1999</td>\n",
       "      <td>4</td>\n",
       "      <td>auto(l5)</td>\n",
       "      <td>f</td>\n",
       "      <td>18</td>\n",
       "      <td>29</td>\n",
       "      <td>p</td>\n",
       "      <td>compact</td>\n",
       "    </tr>\n",
       "    <tr>\n",
       "      <th>2</th>\n",
       "      <td>audi</td>\n",
       "      <td>a4</td>\n",
       "      <td>1.8</td>\n",
       "      <td>1999</td>\n",
       "      <td>4</td>\n",
       "      <td>manual(m5)</td>\n",
       "      <td>f</td>\n",
       "      <td>21</td>\n",
       "      <td>29</td>\n",
       "      <td>p</td>\n",
       "      <td>compact</td>\n",
       "    </tr>\n",
       "    <tr>\n",
       "      <th>3</th>\n",
       "      <td>audi</td>\n",
       "      <td>a4</td>\n",
       "      <td>2.0</td>\n",
       "      <td>2008</td>\n",
       "      <td>4</td>\n",
       "      <td>manual(m6)</td>\n",
       "      <td>f</td>\n",
       "      <td>20</td>\n",
       "      <td>31</td>\n",
       "      <td>p</td>\n",
       "      <td>compact</td>\n",
       "    </tr>\n",
       "    <tr>\n",
       "      <th>4</th>\n",
       "      <td>audi</td>\n",
       "      <td>a4</td>\n",
       "      <td>2.0</td>\n",
       "      <td>2008</td>\n",
       "      <td>4</td>\n",
       "      <td>auto(av)</td>\n",
       "      <td>f</td>\n",
       "      <td>21</td>\n",
       "      <td>30</td>\n",
       "      <td>p</td>\n",
       "      <td>compact</td>\n",
       "    </tr>\n",
       "    <tr>\n",
       "      <th>5</th>\n",
       "      <td>audi</td>\n",
       "      <td>a4</td>\n",
       "      <td>2.8</td>\n",
       "      <td>1999</td>\n",
       "      <td>6</td>\n",
       "      <td>auto(l5)</td>\n",
       "      <td>f</td>\n",
       "      <td>16</td>\n",
       "      <td>26</td>\n",
       "      <td>p</td>\n",
       "      <td>compact</td>\n",
       "    </tr>\n",
       "  </tbody>\n",
       "</table>\n",
       "</div>"
      ],
      "text/plain": [
       "  manufacturer model  displ  year  cyl       trans drv  cty  hwy fl    class\n",
       "1         audi    a4    1.8  1999    4    auto(l5)   f   18   29  p  compact\n",
       "2         audi    a4    1.8  1999    4  manual(m5)   f   21   29  p  compact\n",
       "3         audi    a4    2.0  2008    4  manual(m6)   f   20   31  p  compact\n",
       "4         audi    a4    2.0  2008    4    auto(av)   f   21   30  p  compact\n",
       "5         audi    a4    2.8  1999    6    auto(l5)   f   16   26  p  compact"
      ]
     },
     "execution_count": 11,
     "metadata": {},
     "output_type": "execute_result"
    }
   ],
   "source": [
    "mpg = data('mpg')\n",
    "mpg.head()"
   ]
  },
  {
   "cell_type": "markdown",
   "id": "9a24ea5e",
   "metadata": {},
   "source": [
    "- Is there a difference in fuel-efficiency in cars from 2008 vs 1999?"
   ]
  },
  {
   "cell_type": "markdown",
   "id": "99c9641c",
   "metadata": {},
   "source": [
    "**Set the _Hypothesis_:**\n",
    "\n",
    "  * $H_{0}$: The average fuel efficiency of cars from 2008 == The average fuel efficiency of cars from 1999\n",
    "  \n",
    "  * $H_{a}$: The average fuel efficiency of cars from 2008 != The avaerage fuel efficiency of cars from 1999"
   ]
  },
  {
   "cell_type": "code",
   "execution_count": 12,
   "id": "bbb0310b",
   "metadata": {},
   "outputs": [
    {
     "name": "stdout",
     "output_type": "stream",
     "text": [
      "<class 'pandas.core.frame.DataFrame'>\n",
      "Int64Index: 234 entries, 1 to 234\n",
      "Data columns (total 11 columns):\n",
      " #   Column        Non-Null Count  Dtype  \n",
      "---  ------        --------------  -----  \n",
      " 0   manufacturer  234 non-null    object \n",
      " 1   model         234 non-null    object \n",
      " 2   displ         234 non-null    float64\n",
      " 3   year          234 non-null    int64  \n",
      " 4   cyl           234 non-null    int64  \n",
      " 5   trans         234 non-null    object \n",
      " 6   drv           234 non-null    object \n",
      " 7   cty           234 non-null    int64  \n",
      " 8   hwy           234 non-null    int64  \n",
      " 9   fl            234 non-null    object \n",
      " 10  class         234 non-null    object \n",
      "dtypes: float64(1), int64(4), object(6)\n",
      "memory usage: 21.9+ KB\n"
     ]
    }
   ],
   "source": [
    "mpg.info()"
   ]
  },
  {
   "cell_type": "code",
   "execution_count": 16,
   "id": "2b2fee9f",
   "metadata": {},
   "outputs": [
    {
     "data": {
      "text/plain": [
       "pandas.core.frame.DataFrame"
      ]
     },
     "execution_count": 16,
     "metadata": {},
     "output_type": "execute_result"
    }
   ],
   "source": [
    "type(mpg)"
   ]
  },
  {
   "cell_type": "code",
   "execution_count": 21,
   "id": "d9ccea6f",
   "metadata": {},
   "outputs": [],
   "source": [
    "oh_eight_fuel = mpg[['cty', 'hwy']][mpg.year == 2008]\n",
    "# oh_eight_fuel = mpg[mpg.year == 2008]['cty', 'hwy']\n",
    "# \n",
    "ninety_nine_fuel = mpg[['cty', 'hwy']][mpg.year == 1999]\n"
   ]
  },
  {
   "cell_type": "code",
   "execution_count": 24,
   "id": "ddc3d395",
   "metadata": {},
   "outputs": [
    {
     "data": {
      "text/plain": [
       "(117, 117)"
      ]
     },
     "execution_count": 24,
     "metadata": {},
     "output_type": "execute_result"
    }
   ],
   "source": [
    "len(oh_eight_fuel), len(ninety_nine_fuel)"
   ]
  },
  {
   "cell_type": "code",
   "execution_count": 26,
   "id": "ee387ba6",
   "metadata": {},
   "outputs": [],
   "source": [
    "av_oh_eight_fuel = (oh_eight_fuel.cty * .55) + (oh_eight_fuel.hwy * .45)"
   ]
  },
  {
   "cell_type": "code",
   "execution_count": 28,
   "id": "ddb2685a",
   "metadata": {},
   "outputs": [
    {
     "data": {
      "text/plain": [
       "3     24.95\n",
       "4     25.05\n",
       "7     22.05\n",
       "10    23.60\n",
       "11    22.60\n",
       "dtype: float64"
      ]
     },
     "execution_count": 28,
     "metadata": {},
     "output_type": "execute_result"
    }
   ],
   "source": [
    "av_oh_eight_fuel.head()"
   ]
  },
  {
   "cell_type": "code",
   "execution_count": 29,
   "id": "777295db",
   "metadata": {},
   "outputs": [],
   "source": [
    "av_ninety_nine_fuel = (ninety_nine_fuel.cty * .55) + (ninety_nine_fuel.hwy * .45)"
   ]
  },
  {
   "cell_type": "code",
   "execution_count": 31,
   "id": "734ac96a",
   "metadata": {},
   "outputs": [
    {
     "data": {
      "text/plain": [
       "<AxesSubplot:>"
      ]
     },
     "execution_count": 31,
     "metadata": {},
     "output_type": "execute_result"
    },
    {
     "data": {
      "image/png": "[encoded data removed]",
      "text/plain": [
       "<Figure size 864x432 with 1 Axes>"
      ]
     },
     "metadata": {
      "needs_background": "light"
     },
     "output_type": "display_data"
    }
   ],
   "source": [
    "plt.figure(figsize=(12,6))\n",
    "av_ninety_nine_fuel.hist()\n",
    "av_oh_eight_fuel.hist()"
   ]
  },
  {
   "cell_type": "code",
   "execution_count": null,
   "id": "944b9eef",
   "metadata": {},
   "outputs": [],
   "source": []
  },
  {
   "cell_type": "code",
   "execution_count": 32,
   "id": "b32c89f0",
   "metadata": {},
   "outputs": [
    {
     "data": {
      "text/plain": [
       "LeveneResult(statistic=0.013979152127153255, pvalue=0.9059849780909971)"
      ]
     },
     "execution_count": 32,
     "metadata": {},
     "output_type": "execute_result"
    }
   ],
   "source": [
    "# we are using a two-sample ttest because the samples are independent and of sufficient size CLT\n",
    "# lets use the levene to see if the varience is equal or not...\n",
    "stats.levene(av_oh_eight_fuel, av_ninety_nine_fuel, center='mean')"
   ]
  },
  {
   "cell_type": "code",
   "execution_count": null,
   "id": "77ab2237",
   "metadata": {},
   "outputs": [],
   "source": [
    "# The very low tstat and pvalue near 1 means the varience is very simular"
   ]
  },
  {
   "cell_type": "code",
   "execution_count": 34,
   "id": "73876fde",
   "metadata": {},
   "outputs": [],
   "source": [
    "t, p = stats.ttest_ind(av_oh_eight_fuel, av_ninety_nine_fuel)"
   ]
  },
  {
   "cell_type": "code",
   "execution_count": 35,
   "id": "170ac9da",
   "metadata": {},
   "outputs": [
    {
     "name": "stdout",
     "output_type": "stream",
     "text": [
      "We CANNOT reject the null Hypothesis\n"
     ]
    }
   ],
   "source": [
    "if (p < α):\n",
    "    print('We can REJECT the null Hypothesis')\n",
    "else:\n",
    "    print('We CANNOT reject the null Hypothesis')"
   ]
  },
  {
   "cell_type": "markdown",
   "id": "a7b78dce",
   "metadata": {},
   "source": [
    "- Are compact cars more fuel-efficient than the average car?"
   ]
  },
  {
   "cell_type": "markdown",
   "id": "f02828bb",
   "metadata": {},
   "source": [
    "**Let's set the _Hypotheses_**\n",
    "\n",
    " * $H_{0}$: Compact cars average fuel efficiency <= average fuel efficiency for cars\n",
    " \n",
    " * $H_{a}$: Compact cars average fuel efficiency > average fuel efficiency for cars\n",
    " \n",
    "   * for this we will use a single sample ttest with 1 tails"
   ]
  },
  {
   "cell_type": "code",
   "execution_count": 46,
   "id": "dfdf6792",
   "metadata": {},
   "outputs": [],
   "source": [
    "# first lets set up our arrays\n",
    "mpg['class'].unique()\n",
    "\n",
    "compact_fuel_efficiency = mpg[['cty', 'hwy']][mpg['class'] == 'compact']\n",
    "all_fuel_efficiency = mpg[['cty', 'hwy']]"
   ]
  },
  {
   "cell_type": "code",
   "execution_count": 49,
   "id": "213556be",
   "metadata": {},
   "outputs": [],
   "source": [
    "av_compact_fuel_efficiency = compact_fuel_efficiency.cty * .55 + compact_fuel_efficiency.hwy * .45\n",
    "av_all_fuel_efficiency = mpg.cty * .55 + mpg.hwy * .45"
   ]
  },
  {
   "cell_type": "code",
   "execution_count": 53,
   "id": "5b2d0ff6",
   "metadata": {},
   "outputs": [],
   "source": [
    "t, p = stats.ttest_1samp(av_compact_fuel_efficiency, av_all_fuel_efficiency.mean())"
   ]
  },
  {
   "cell_type": "code",
   "execution_count": 55,
   "id": "0981b8a7",
   "metadata": {},
   "outputs": [
    {
     "name": "stdout",
     "output_type": "stream",
     "text": [
      "We can REJECT the Null Hypothesis\n"
     ]
    }
   ],
   "source": [
    "if (t > 0) and ((p/2) < α):\n",
    "    print('We can REJECT the Null Hypothesis')\n",
    "else:\n",
    "    print('We CANNOT reject the Null Hypothesis')"
   ]
  },
  {
   "cell_type": "markdown",
   "id": "4f954cf8",
   "metadata": {},
   "source": [
    "- Do manual cars get better gas mileage than automatic cars?"
   ]
  },
  {
   "cell_type": "markdown",
   "id": "c87b33bc",
   "metadata": {},
   "source": [
    "### Let's look at manual vs automatic cars...\n",
    "##### Do manual cars get better gass milage than automatic cars?\n",
    "\n",
    " * $H_{0}$: Average Gas mileage of manual cars <= Average Gas Mileage of automatic cars\n",
    " \n",
    " * $H_{a}$: Average gas mileage of manual cars > Average gas mileage of automatic cars\n",
    " \\n\\n\n",
    "   * This will be a 2-sample ttest with one tail and we will test the varience before running it"
   ]
  },
  {
   "cell_type": "code",
   "execution_count": 56,
   "id": "3a251bab",
   "metadata": {},
   "outputs": [
    {
     "name": "stdout",
     "output_type": "stream",
     "text": [
      "<class 'pandas.core.frame.DataFrame'>\n",
      "Int64Index: 234 entries, 1 to 234\n",
      "Data columns (total 11 columns):\n",
      " #   Column        Non-Null Count  Dtype  \n",
      "---  ------        --------------  -----  \n",
      " 0   manufacturer  234 non-null    object \n",
      " 1   model         234 non-null    object \n",
      " 2   displ         234 non-null    float64\n",
      " 3   year          234 non-null    int64  \n",
      " 4   cyl           234 non-null    int64  \n",
      " 5   trans         234 non-null    object \n",
      " 6   drv           234 non-null    object \n",
      " 7   cty           234 non-null    int64  \n",
      " 8   hwy           234 non-null    int64  \n",
      " 9   fl            234 non-null    object \n",
      " 10  class         234 non-null    object \n",
      "dtypes: float64(1), int64(4), object(6)\n",
      "memory usage: 21.9+ KB\n"
     ]
    }
   ],
   "source": [
    "mpg.info()"
   ]
  },
  {
   "cell_type": "code",
   "execution_count": 72,
   "id": "2cd32ce6",
   "metadata": {},
   "outputs": [],
   "source": [
    "# mpg.trans = mpg.trans.replace('(15)','', regex=True)"
   ]
  },
  {
   "cell_type": "code",
   "execution_count": 76,
   "id": "bd0ea721",
   "metadata": {},
   "outputs": [],
   "source": [
    "# mpg.trans = mpg.trans.apply(lambda x: x.replace('(15)',''))\n",
    "mpg.trans = mpg.trans.str.replace(r'\\(.*?\\)', '', regex=True)"
   ]
  },
  {
   "cell_type": "code",
   "execution_count": 79,
   "id": "46353a88",
   "metadata": {},
   "outputs": [],
   "source": [
    "mpg['avg_mpg'] = mpg.cty * .55 + mpg.hwy * .45"
   ]
  },
  {
   "cell_type": "code",
   "execution_count": 82,
   "id": "5ec74fe2",
   "metadata": {},
   "outputs": [],
   "source": [
    "manual_avg_mpg = mpg.avg_mpg[mpg.trans == 'manual']\n",
    "auto_avg_mpg = mpg.avg_mpg[mpg.trans == 'auto']"
   ]
  },
  {
   "cell_type": "code",
   "execution_count": 84,
   "id": "10e74268",
   "metadata": {},
   "outputs": [
    {
     "data": {
      "text/plain": [
       "True"
      ]
     },
     "execution_count": 84,
     "metadata": {},
     "output_type": "execute_result"
    }
   ],
   "source": [
    "len(auto_avg_mpg) + len(manual_avg_mpg) == len(mpg)"
   ]
  },
  {
   "cell_type": "code",
   "execution_count": 91,
   "id": "5214be7e",
   "metadata": {},
   "outputs": [
    {
     "data": {
      "text/plain": [
       "<AxesSubplot:>"
      ]
     },
     "execution_count": 91,
     "metadata": {},
     "output_type": "execute_result"
    },
    {
     "data": {
      "image/png": "[encoded data removed]",
      "text/plain": [
       "<Figure size 432x288 with 1 Axes>"
      ]
     },
     "metadata": {
      "needs_background": "light"
     },
     "output_type": "display_data"
    }
   ],
   "source": [
    "manual_avg_mpg.hist()"
   ]
  },
  {
   "cell_type": "code",
   "execution_count": 92,
   "id": "eb877bc5",
   "metadata": {},
   "outputs": [
    {
     "data": {
      "text/plain": [
       "<AxesSubplot:>"
      ]
     },
     "execution_count": 92,
     "metadata": {},
     "output_type": "execute_result"
    },
    {
     "data": {
      "image/png": "[encoded data removed]",
      "text/plain": [
       "<Figure size 432x288 with 1 Axes>"
      ]
     },
     "metadata": {
      "needs_background": "light"
     },
     "output_type": "display_data"
    }
   ],
   "source": [
    "auto_avg_mpg.hist()"
   ]
  },
  {
   "cell_type": "code",
   "execution_count": 85,
   "id": "7a8b3b78",
   "metadata": {},
   "outputs": [
    {
     "data": {
      "text/plain": [
       "LeveneResult(statistic=0.12914686962840874, pvalue=0.7196451122833001)"
      ]
     },
     "execution_count": 85,
     "metadata": {},
     "output_type": "execute_result"
    }
   ],
   "source": [
    "# Verified that these are independent smaples\n",
    "# Now let's check the varience\n",
    "stats.levene(manual_avg_mpg, auto_avg_mpg)"
   ]
  },
  {
   "cell_type": "code",
   "execution_count": 86,
   "id": "b9d20cd9",
   "metadata": {},
   "outputs": [],
   "source": [
    "# <!-- with a very low tstat and pvalue approaching 1 we can say that the varience is simular -->"
   ]
  },
  {
   "cell_type": "code",
   "execution_count": 95,
   "id": "22225802",
   "metadata": {},
   "outputs": [
    {
     "data": {
      "text/plain": [
       "Ttest_indResult(statistic=4.615440431437591, pvalue=3.247026140700206e-06)"
      ]
     },
     "execution_count": 95,
     "metadata": {},
     "output_type": "execute_result"
    }
   ],
   "source": [
    "stats.ttest_ind(manual_avg_mpg, auto_avg_mpg, alternative='greater')"
   ]
  },
  {
   "cell_type": "code",
   "execution_count": 96,
   "id": "2ae539d7",
   "metadata": {},
   "outputs": [],
   "source": [
    "t, p = stats.ttest_ind(manual_avg_mpg, auto_avg_mpg)"
   ]
  },
  {
   "cell_type": "code",
   "execution_count": 97,
   "id": "3c1ec21b",
   "metadata": {},
   "outputs": [
    {
     "name": "stdout",
     "output_type": "stream",
     "text": [
      "We can REJECT the Null Hypothesis\n"
     ]
    }
   ],
   "source": [
    "if (t > 0) and ((p / 2) < α):\n",
    "    print('We can REJECT the Null Hypothesis')\n",
    "else:\n",
    "    print('We CANNOT reject the Null Hypothesis')"
   ]
  },
  {
   "cell_type": "markdown",
   "id": "5a1b5cd7",
   "metadata": {},
   "source": [
    "# Exercises - Section III - Correlation\n",
    "Continue working in your `hypothesis_testing` notebook.\n",
    "\n",
    "1. Use the `telco_churn` data. "
   ]
  },
  {
   "cell_type": "code",
   "execution_count": null,
   "id": "660d4b7b",
   "metadata": {},
   "outputs": [],
   "source": []
  },
  {
   "cell_type": "markdown",
   "id": "21869f20",
   "metadata": {},
   "source": [
    "  * Does tenure correlate with monthly charges? "
   ]
  },
  {
   "cell_type": "code",
   "execution_count": null,
   "id": "08d75d8f",
   "metadata": {},
   "outputs": [],
   "source": []
  },
  {
   "cell_type": "markdown",
   "id": "02c4b6f0",
   "metadata": {},
   "source": [
    "  * Total charges? "
   ]
  },
  {
   "cell_type": "code",
   "execution_count": null,
   "id": "c83b69a7",
   "metadata": {},
   "outputs": [],
   "source": []
  },
  {
   "cell_type": "markdown",
   "id": "313382dc",
   "metadata": {},
   "source": [
    "  * What happens if you control for phone and internet service?"
   ]
  },
  {
   "cell_type": "code",
   "execution_count": null,
   "id": "c57efb4e",
   "metadata": {},
   "outputs": [],
   "source": []
  },
  {
   "cell_type": "markdown",
   "id": "764c4399",
   "metadata": {},
   "source": [
    "2. Use the employees database."
   ]
  },
  {
   "cell_type": "code",
   "execution_count": null,
   "id": "97506ff8",
   "metadata": {},
   "outputs": [],
   "source": []
  },
  {
   "cell_type": "markdown",
   "id": "825715f2",
   "metadata": {},
   "source": [
    "  * Is there a relationship between how long an employee has been with the company and their salary?"
   ]
  },
  {
   "cell_type": "code",
   "execution_count": null,
   "id": "aa466cf2",
   "metadata": {},
   "outputs": [],
   "source": []
  },
  {
   "cell_type": "markdown",
   "id": "b5aa83a0",
   "metadata": {},
   "source": [
    "  * Is there a relationship between how long an employee has been with the company and the number of titles they have had?"
   ]
  },
  {
   "cell_type": "code",
   "execution_count": null,
   "id": "32dfa5ef",
   "metadata": {},
   "outputs": [],
   "source": []
  },
  {
   "cell_type": "markdown",
   "id": "44e1f624",
   "metadata": {},
   "source": [
    "3. Use the sleepstudy data. Is there a relationship between days and reaction time?"
   ]
  },
  {
   "cell_type": "code",
   "execution_count": null,
   "id": "c0cd8bed",
   "metadata": {},
   "outputs": [],
   "source": []
  }
 ],
 "metadata": {
  "kernelspec": {
   "display_name": "Python 3 (ipykernel)",
   "language": "python",
   "name": "python3"
  },
  "language_info": {
   "codemirror_mode": {
    "name": "ipython",
    "version": 3
   },
   "file_extension": ".py",
   "mimetype": "text/x-python",
   "name": "python",
   "nbconvert_exporter": "python",
   "pygments_lexer": "ipython3",
   "version": "3.9.12"
  }
 },
 "nbformat": 4,
 "nbformat_minor": 5
}
