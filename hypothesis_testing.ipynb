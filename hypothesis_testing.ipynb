{
 "cells": [
  {
   "cell_type": "markdown",
   "id": "3a904e9f",
   "metadata": {},
   "source": [
    "# Exercises\n",
    "Do your work for this exercise in a jupyter notebook named `hypothesis_testing.ipynb`.\n",
    "\n",
    "For each of the following questions, formulate a null and alternative hypothesis (be as specific as you can be), then give an example of what a true positive, true negative, type I and type II errors would look like. Note that some of the questions are intentionally phrased in a vague way. It is your job to reword these as more precise questions that could be tested."
   ]
  },
  {
   "cell_type": "code",
   "execution_count": null,
   "id": "4ff3b7de",
   "metadata": {},
   "outputs": [],
   "source": []
  },
  {
   "cell_type": "markdown",
   "id": "f4ac22c6",
   "metadata": {},
   "source": [
    "- Has the network latency gone up since we switched internet service providers?"
   ]
  },
  {
   "cell_type": "code",
   "execution_count": null,
   "id": "369b373e",
   "metadata": {},
   "outputs": [],
   "source": [
    "Hₒ = The latency is the same from ISPₒ and ISPᵦ\n",
    "Hₐ = The Latency has changed from ISPₒ and ISPᵦ"
   ]
  },
  {
   "cell_type": "markdown",
   "id": "d499ac38",
   "metadata": {},
   "source": [
    "- Is the website redesign any good?"
   ]
  },
  {
   "cell_type": "code",
   "execution_count": null,
   "id": "126a0c20",
   "metadata": {},
   "outputs": [],
   "source": [
    "Hₒ = The Websiteₙ is creating no different user engagement than Websiteₒ\n",
    "Hₐ = The Websiteₙ is creating a different user engagement metric than Websiteₒ"
   ]
  },
  {
   "cell_type": "markdown",
   "id": "d493d899",
   "metadata": {},
   "source": [
    "- Is our television ad driving more sales?"
   ]
  },
  {
   "cell_type": "code",
   "execution_count": null,
   "id": "05058100",
   "metadata": {},
   "outputs": [],
   "source": [
    "Hₒ = Average sales for this time of year follows the established model with no statistical difference\n",
    "Hₐ = Average sales for this time of year are different from the established model"
   ]
  }
 ],
 "metadata": {
  "kernelspec": {
   "display_name": "Python 3 (ipykernel)",
   "language": "python",
   "name": "python3"
  },
  "language_info": {
   "codemirror_mode": {
    "name": "ipython",
    "version": 3
   },
   "file_extension": ".py",
   "mimetype": "text/x-python",
   "name": "python",
   "nbconvert_exporter": "python",
   "pygments_lexer": "ipython3",
   "version": "3.9.12"
  }
 },
 "nbformat": 4,
 "nbformat_minor": 5
}
