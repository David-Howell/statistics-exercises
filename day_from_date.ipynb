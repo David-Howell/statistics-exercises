{
 "cells": [
  {
   "cell_type": "code",
   "execution_count": 12,
   "id": "2906061a",
   "metadata": {},
   "outputs": [
    {
     "name": "stdout",
     "output_type": "stream",
     "text": [
      "\n",
      "import os\n",
      "from pydataset import data\n",
      "import seaborn as sns\n",
      "import matplotlib.pyplot as plt\n",
      "import pandas as pd\n",
      "import numpy as np\n",
      "import math as m\n",
      "from env import gdb\n",
      "    \n"
     ]
    }
   ],
   "source": [
    "from env import my_setup\n",
    "my_setup()"
   ]
  },
  {
   "cell_type": "code",
   "execution_count": 13,
   "id": "79dde57c",
   "metadata": {},
   "outputs": [],
   "source": [
    "import os\n",
    "# from pydataset import data\n",
    "import seaborn as sns\n",
    "import matplotlib.pyplot as plt\n",
    "import pandas as pd\n",
    "import numpy as np\n",
    "import math as m\n",
    "from env import gdb"
   ]
  },
  {
   "cell_type": "markdown",
   "id": "eb9ac92e",
   "metadata": {},
   "source": [
    "### (Year Code + Month Code + Century Code + Date Number - Leap Year Code) mod 7"
   ]
  },
  {
   "cell_type": "markdown",
   "id": "32b2dd52",
   "metadata": {},
   "source": [
    "# The Formula\n",
    "- The formula is:\n",
    "\n",
    "**(Year Code + Month Code + Century Code + Date Number - Leap Year Code) mod 7\n",
    "\n",
    "### Here's How it Works\n",
    "I’ll run through an example with the date, 14 March 1897 — Einstein’s birthday.\n",
    "\n",
    "**The Year Code\n",
    "To calculate the Year Code, use this formula:\n",
    "\n",
    "`(YY + (YY div 4)) mod 7`\n",
    "\n",
    "YY is the last two digits of the year. For the year `1897`, it’s `97`.\n",
    "\n",
    "First, divide `YY` by `4` and discard the remainder: `97 / 4 = 24`.\n",
    "\n",
    "Then add `24` back into the `YY` number, which is `97` in this case, resulting in `121`.\n",
    "\n",
    "The next step is: `121 mod 7`.\n",
    "\n",
    "**”Mod” means to divide the number and keep only the remainder. `For 121 mod 7`, start removing sevens:\n",
    "\n",
    "`10 x 7` is `70`, leaving us with `51`, because `121 - 70 = 51`.\n",
    "`7 x 7 = 49`, and `51 - 49 = 2`.\n",
    "We’ve removed all the sevens from `121` until we are left with a remainder of `2`. That is the `Year Code` for `1897`.\n",
    "\n",
    "You could use a number shape image like a swan to hold that in memory while you calculate the items below."
   ]
  },
  {
   "cell_type": "code",
   "execution_count": 3,
   "id": "a4994317",
   "metadata": {},
   "outputs": [
    {
     "data": {
      "text/plain": [
       "2"
      ]
     },
     "execution_count": 3,
     "metadata": {},
     "output_type": "execute_result"
    }
   ],
   "source": [
    "year_code = 97\n",
    "year_code = (year_code + round(year_code / 4)) % 7\n",
    "year_code"
   ]
  },
  {
   "cell_type": "markdown",
   "id": "e811e57a",
   "metadata": {},
   "source": [
    "## The Month Code\n",
    "This is easy -- just memorize the number `033614625035`:\n",
    "\n",
    "`January = 0\n",
    "February = 3\n",
    "March = 3\n",
    "April = 6\n",
    "May = 1\n",
    "June = 4\n",
    "July = 6\n",
    "August = 2\n",
    "September = 5\n",
    "October = 0\n",
    "November = 3\n",
    "December = 5`\n",
    "Now you have the Month Code. For Einsteins birthday in `March`, it is `3`."
   ]
  },
  {
   "cell_type": "code",
   "execution_count": 19,
   "id": "1e73288b",
   "metadata": {},
   "outputs": [
    {
     "data": {
      "text/plain": [
       "6"
      ]
     },
     "execution_count": 19,
     "metadata": {},
     "output_type": "execute_result"
    }
   ],
   "source": [
    "# months = [[0],[3],[3],[6],[1],[4],[6],[2],[5],[0],[3],[5]]\n",
    "# months\n",
    "\n",
    "'''\n",
    ">>> d = {'a': 1, 'b': 2, 'c': 3}\n",
    ">>> ser = pd.Series(data=d, index=['a', 'b', 'c'])\n",
    ">>> ser\n",
    "a   1\n",
    "b   2\n",
    "c   3\n",
    "dtype: int64\n",
    "'''\n",
    "\n",
    "mm = 'July'\n",
    "months = pd.Series({'January': 0,\n",
    "          'February': 3, \n",
    "          'March': 3, \n",
    "          'April': 6, \n",
    "          'May': 1, \n",
    "          'June': 4, \n",
    "          'July': 6, \n",
    "          'August': 2, \n",
    "          'September': 5, \n",
    "          'October': 0,\n",
    "          'November': 3,\n",
    "          'December': 5}\n",
    "         )\n",
    "months[mm]"
   ]
  },
  {
   "cell_type": "markdown",
   "id": "43c9e7ec",
   "metadata": {},
   "source": [
    "A Quick Note on Memorizing Numbers\n",
    "If you don't know how to memorize a number like 033614625035, you could either use repetition or learn a mnemonic system like the Major System or Dominic System. I use my Ben System images: Samwise (033) throws a glass of beer (614) on George Boole (625) who falls backwards on Sally (035).\n",
    "A way to quickly memorize 033614625035 without a complex mnemonic system would be to use a number shape system to associate images with each month. For example, you could picture a game of soccer (football) in January, with ball being a mnemonic image for zero. You could picture a butterfly in February and March, if you use a butterfly image for the number three. If the number six is represented by the image of an elephant, picture an elephant in April and July, and so on. If you are having trouble associating the images with the months, pick an aspect of each month to associate the image with. For example, Halloween is in October, so to remember that October has a Month Code of zero (represented by an image of a ball), you could picture a group of people in Halloween costumes doing something with a ball. That would link the month of October with the number zero."
   ]
  },
  {
   "cell_type": "markdown",
   "id": "0f7102ab",
   "metadata": {},
   "source": [
    "The Century Code\n",
    "You then need to apply an adjustment based on the century. In Great Britain, and what was to become the USA, the calendar system changed from the Julian Calendar to the Gregorian Calendar on 2 September 1752. The Gregorian Calendar began on 14 September 1752, skipping 11 days."
   ]
  },
  {
   "cell_type": "markdown",
   "id": "0de5f385",
   "metadata": {},
   "source": [
    "Gregorian Dates\n",
    "For the Gregorian Calendar, remember the number 4206420:\n",
    "\n",
    "1700s = 4\n",
    "1800s = 2\n",
    "1900s = 0\n",
    "2000s = 6\n",
    "2100s = 4\n",
    "2200s = 2\n",
    "2300s = 0\n",
    "If you are only doing this calendar trick with friends’ birthdays, you could probably leave this step out, because dates that fall in the 1900s get a Century Code of zero and don’t affect the outcome of the calculation."
   ]
  },
  {
   "cell_type": "markdown",
   "id": "f3f884b3",
   "metadata": {},
   "source": [
    "Julian Dates\n",
    "If you are looking at a Julian date, the formula is to take the century number and subtract it from 18 and then mod 7."
   ]
  },
  {
   "cell_type": "markdown",
   "id": "8fb80093",
   "metadata": {},
   "source": [
    "Example 1: if the year is 852 CE, take the century number, 8, and subtract it from 18, leaving 10. Then, 10 mod 7 =3.Example 2: if the year is 1625 CE, take the century number, 16, and subtract it from 18, leaving 2. 2 mod 7 = 2, so in this case the Century Code is 2.\n",
    "For Einsteins birthday in 1897, the Century Code is 2, because it’s a Gregorian date, and the chart above shows that dates in the 1800s get an adjustment of 2."
   ]
  },
  {
   "cell_type": "markdown",
   "id": "c4843754",
   "metadata": {},
   "source": [
    "Leap Year Code\n",
    "The other thing to take into account is whether you are dealing with a leap year. EDIT: If the date is in a January or February of a leap year, you have to subtract one from your total before the final step."
   ]
  },
  {
   "cell_type": "markdown",
   "id": "8c6f964c",
   "metadata": {},
   "source": [
    "Gregorian Calendar\n",
    "If you can divide a Gregorian year by 4, it’s a leap year, unless it’s divisible by 100. But it is a leap year if it’s divisible by 400."
   ]
  },
  {
   "cell_type": "markdown",
   "id": "2fc020ae",
   "metadata": {},
   "source": [
    "1992 is a leap year because you can divide it by four. 1900 is not a leap year because you can divide it by 100. 2000 is a leap year because you can divide it by 400."
   ]
  },
  {
   "cell_type": "markdown",
   "id": "fcab0fd1",
   "metadata": {},
   "source": [
    "Julian Calendar\n",
    "If you can divide a Julian year by 4, it’s a leap year."
   ]
  },
  {
   "cell_type": "markdown",
   "id": "114be114",
   "metadata": {},
   "source": [
    "Einstein’s birthday was in 1897 which was not a leap year (0), so it doesn’t affect the outcome."
   ]
  },
  {
   "cell_type": "markdown",
   "id": "e64f3fcb",
   "metadata": {},
   "source": [
    "Calculating the Day\n",
    "Back to the original formula:\n",
    "\n",
    "(Year Code + Month Code + Century Code + Date Number - Leap Year Code) mod 7\n",
    "\n",
    "For 14 March 1897, here are the results:\n",
    "\n",
    "Year Code: 2\n",
    "Month Code: 3\n",
    "Century Code: 2\n",
    "Date Number: 14 (the 14th of the month)\n",
    "Leap Year Code: 0\n",
    "So:\n",
    "\n",
    "`(2 + 3 + 2 + 14) mod 7 = 21 mod 7 = 0`\n",
    "\n",
    "Match the resulting number in the list below, and you’ll have the day of the week:\n",
    "\n",
    "`0 = Sunday\n",
    "1 = Monday\n",
    "2 = Tuesday\n",
    "3 = Wednesday\n",
    "4 = Thursday\n",
    "5 = Friday\n",
    "6 = Saturday`\n",
    "Einstein was born on a `Sunday`."
   ]
  },
  {
   "cell_type": "markdown",
   "id": "6983613e",
   "metadata": {},
   "source": [
    "More Examples\n",
    "Here are three more examples from different centuries:"
   ]
  },
  {
   "cell_type": "markdown",
   "id": "dd308b33",
   "metadata": {},
   "source": [
    "The Moon Landing\n",
    "Humans set foot on the moon: 20 July 1969:\n",
    "\n",
    "Take '69 and divide by 4, discarding the remainder. That leaves 17. Add 69 to 17 to get 86. Then, 86 mod 7 = 2. The Year Code is 2.\n",
    "The Month Code for July is 6.\n",
    "The Century Code for the 1900s is zero.\n",
    "The Date Number is 20, because it's the 20th of July.\n",
    "1969 wasn't a leap year since it can't be divided by 4.\n",
    "2 + 6 + 0 + 20 = 28\n",
    "28 mod 7 = 0\n",
    "20 July 1969 was a Sunday."
   ]
  },
  {
   "cell_type": "markdown",
   "id": "ed6f4c78",
   "metadata": {},
   "source": [
    "The Battle of Hastings\n",
    "The Battle of Hastings took place on 14 October 1066.\n",
    "\n",
    "Take '66 and divide by 4, ignoring the remainder: 16. Add 66 to 16 to make 82. 82 mod 7 makes a Year Code of 5.\n",
    "October has a Month Code of zero.\n",
    "The Day Number is 14.\n",
    "The Century Code for this Julian date is 18 - 10 = 8. 8 mod 7 = 1.\n",
    "1066 was not a leap year.\n",
    "Answer: 5 + 0 + 14 + 1 = 20. 20 mod 7 = 6\n",
    "14 October 1066 was a Saturday."
   ]
  },
  {
   "cell_type": "markdown",
   "id": "575ab114",
   "metadata": {},
   "source": [
    "Beginning of the 21st Century\n",
    "1 January 2000:\n",
    "\n",
    "Start with '00, leaving a Year Code of zero.\n",
    "January has a Month Code of zero.\n",
    "The Day Number is 1.\n",
    "The Century Code for dates in the 2000s is 6.\n",
    "2000 is a leap year, since it can be divided by 400, and the date is in a January or February, so subtract 1 from the total in the final step.\n",
    "Answer: 0 + 0 + 1 + 6 - 1 = 6.\n",
    "1 January 2000 was a Saturday."
   ]
  },
  {
   "cell_type": "markdown",
   "id": "105587a9",
   "metadata": {},
   "source": [
    "If you have any questions, please leave a comment below. There are also some shortcuts and tips in the Mentat Wiki — scroll down to the section titled, “The Classic Formula”."
   ]
  }
 ],
 "metadata": {
  "kernelspec": {
   "display_name": "Python 3 (ipykernel)",
   "language": "python",
   "name": "python3"
  },
  "language_info": {
   "codemirror_mode": {
    "name": "ipython",
    "version": 3
   },
   "file_extension": ".py",
   "mimetype": "text/x-python",
   "name": "python",
   "nbconvert_exporter": "python",
   "pygments_lexer": "ipython3",
   "version": "3.9.12"
  }
 },
 "nbformat": 4,
 "nbformat_minor": 5
}
