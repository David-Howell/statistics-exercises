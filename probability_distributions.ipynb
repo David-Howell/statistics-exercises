{
 "cells": [
  {
   "cell_type": "code",
   "execution_count": 1,
   "id": "7a680715",
   "metadata": {},
   "outputs": [],
   "source": [
    "import matplotlib.pyplot as plt\n",
    "import numpy as np\n",
    "import pandas as pd\n",
    "from scipy import stats\n",
    "from env import Percent\n",
    "from env import gdb"
   ]
  },
  {
   "cell_type": "markdown",
   "id": "1fb25170",
   "metadata": {},
   "source": [
    "# Exercises\n",
    "Do your work for this exercise in either a python script named `probability_distributions.py` or a jupyter notebook named `probability_distributions.ipynb`.\n",
    "\n",
    "For the following problems, use python to simulate the problem and calculate an experimental probability, then compare that to the theoretical probability."
   ]
  },
  {
   "cell_type": "markdown",
   "id": "3aa6c394",
   "metadata": {},
   "source": [
    "1. A bank found that the average number of cars waiting during the noon hour at a drive-up window follows a Poisson distribution with a mean of 2 cars. Make a chart of this distribution and answer these questions concerning the probability of cars waiting at the drive-up window."
   ]
  },
  {
   "cell_type": "code",
   "execution_count": 2,
   "id": "66b99602",
   "metadata": {},
   "outputs": [],
   "source": [
    "# The number of cars driving through is a rate so we use poisson\n",
    "λ = 2\n",
    "noon_cars = stats.poisson(λ)"
   ]
  },
  {
   "cell_type": "markdown",
   "id": "3bd98f49",
   "metadata": {},
   "source": [
    "- What is the probability that no cars drive up in the noon hour?"
   ]
  },
  {
   "cell_type": "code",
   "execution_count": 3,
   "id": "ce618a66",
   "metadata": {},
   "outputs": [
    {
     "data": {
      "text/plain": [
       "13.53%"
      ]
     },
     "execution_count": 3,
     "metadata": {},
     "output_type": "execute_result"
    }
   ],
   "source": [
    "# because we have a whole number of cars and not a continuous distribution\n",
    "# we use the .pmf probability mass function to find the probability that 0 cars drive up\n",
    "Percent(noon_cars.pmf(0))"
   ]
  },
  {
   "cell_type": "markdown",
   "id": "7cd34a11",
   "metadata": {},
   "source": [
    "- What is the probability that 3 or more cars come through the drive through?"
   ]
  },
  {
   "cell_type": "code",
   "execution_count": 4,
   "id": "6d57b56b",
   "metadata": {},
   "outputs": [
    {
     "data": {
      "text/plain": [
       "32.33%"
      ]
     },
     "execution_count": 4,
     "metadata": {},
     "output_type": "execute_result"
    }
   ],
   "source": [
    "# Now we want to find probabilty that 3 or more drive through\n",
    "# 3 or more means we want the .sf survivor function\n",
    "# remeber that the survivor function gives us the probability of the > not >=\n",
    "#  so 3 or more means we use .sf(2)\n",
    "Percent(noon_cars.sf(2))"
   ]
  },
  {
   "cell_type": "markdown",
   "id": "789083fa",
   "metadata": {},
   "source": [
    "- How likely is it that the drive through gets at least 1 car?"
   ]
  },
  {
   "cell_type": "code",
   "execution_count": 5,
   "id": "2f1a3807",
   "metadata": {},
   "outputs": [
    {
     "data": {
      "text/plain": [
       "86.47%"
      ]
     },
     "execution_count": 5,
     "metadata": {},
     "output_type": "execute_result"
    }
   ],
   "source": [
    "# here again we want 1 or greater so the .sf(0) will tell us\n",
    "Percent(noon_cars.sf(0))"
   ]
  },
  {
   "cell_type": "markdown",
   "id": "75c84501",
   "metadata": {},
   "source": [
    "2. Grades of State University graduates are normally distributed with a mean of 3.0 and a standard deviation of .3. Calculate the following:"
   ]
  },
  {
   "cell_type": "code",
   "execution_count": 6,
   "id": "a3164072",
   "metadata": {},
   "outputs": [],
   "source": [
    "# here we create a normal distribution with μ = 3.0 and σ = 0.3\n",
    "μ = 3\n",
    "σ = .3\n",
    "grades = stats.norm(μ, σ)"
   ]
  },
  {
   "cell_type": "markdown",
   "id": "5ca9506f",
   "metadata": {},
   "source": [
    "- What grade point average is required to be in the top 5% of the graduating class?"
   ]
  },
  {
   "cell_type": "code",
   "execution_count": 7,
   "id": "e6eaf27b",
   "metadata": {},
   "outputs": [
    {
     "data": {
      "text/plain": [
       "3.4934560880854417"
      ]
     },
     "execution_count": 7,
     "metadata": {},
     "output_type": "execute_result"
    }
   ],
   "source": [
    "# since we know the percentage we're looking for and\n",
    "# it's a greater than, we use the inverse survivor function .isf(.05)\n",
    "# to be in the top 5% the grade would need to be at least...\n",
    "grades.isf(.05)"
   ]
  },
  {
   "cell_type": "markdown",
   "id": "83419cfc",
   "metadata": {},
   "source": [
    "- What GPA constitutes the bottom 15% of the class?"
   ]
  },
  {
   "cell_type": "code",
   "execution_count": 8,
   "id": "bdc9d629",
   "metadata": {},
   "outputs": [
    {
     "data": {
      "text/plain": [
       "2.689069983151863"
      ]
     },
     "execution_count": 8,
     "metadata": {},
     "output_type": "execute_result"
    }
   ],
   "source": [
    "# for this we're looking for everything below 15%\n",
    "# by using the .isf(.85) inverse survivor function with the inverse percentage of 85%\n",
    "# we know that this GPA or lower is in the bottom 15%\n",
    "grades.isf(.85)"
   ]
  },
  {
   "cell_type": "code",
   "execution_count": 49,
   "id": "9a60a8dc",
   "metadata": {},
   "outputs": [
    {
     "data": {
      "text/plain": [
       "2.689069983151863"
      ]
     },
     "execution_count": 49,
     "metadata": {},
     "output_type": "execute_result"
    }
   ],
   "source": [
    "# we also get the same answer with .ppf of 15%\n",
    "grades.ppf(.15)"
   ]
  },
  {
   "cell_type": "markdown",
   "id": "b72b904e",
   "metadata": {},
   "source": [
    "- An eccentric alumnus left scholarship money for students in the third decile from the bottom of their class. Determine the range of the third decile. Would a student with a 2.8 grade point average qualify for this scholarship?"
   ]
  },
  {
   "cell_type": "code",
   "execution_count": 48,
   "id": "97e6f132",
   "metadata": {},
   "outputs": [
    {
     "data": {
      "text/plain": [
       "array([2.74751363, 2.84267985])"
      ]
     },
     "execution_count": 48,
     "metadata": {},
     "output_type": "execute_result"
    }
   ],
   "source": [
    "# the third decile from the bottom would be anything from 20% - 30%\n",
    "# using the .ppf we can get the range\n",
    "grades.ppf([.2,.3])"
   ]
  },
  {
   "cell_type": "code",
   "execution_count": 46,
   "id": "595b3625",
   "metadata": {},
   "outputs": [
    {
     "data": {
      "text/plain": [
       "2.7475136299281258"
      ]
     },
     "execution_count": 46,
     "metadata": {},
     "output_type": "execute_result"
    }
   ],
   "source": [
    "grades.isf(.8)"
   ]
  },
  {
   "cell_type": "code",
   "execution_count": 47,
   "id": "839a0461",
   "metadata": {},
   "outputs": [
    {
     "data": {
      "text/plain": [
       "2.842679846187588"
      ]
     },
     "execution_count": 47,
     "metadata": {},
     "output_type": "execute_result"
    }
   ],
   "source": [
    "grades.isf(.7)"
   ]
  },
  {
   "cell_type": "code",
   "execution_count": null,
   "id": "1ee969b4",
   "metadata": {},
   "outputs": [],
   "source": [
    "# Since a 2.8 GPA is in the range they would qualify == True"
   ]
  },
  {
   "cell_type": "markdown",
   "id": "cf42a114",
   "metadata": {},
   "source": [
    "- If I have a GPA of 3.5, what percentile am I in?"
   ]
  },
  {
   "cell_type": "code",
   "execution_count": 50,
   "id": "0aea18a1",
   "metadata": {},
   "outputs": [
    {
     "data": {
      "text/plain": [
       "95.22%"
      ]
     },
     "execution_count": 50,
     "metadata": {},
     "output_type": "execute_result"
    }
   ],
   "source": [
    "# by taking the survivor function of a 3.5 and subtracting that from 100% we are left with\n",
    "# the percentile \n",
    "Percent(1 - grades.sf(3.5))"
   ]
  },
  {
   "cell_type": "markdown",
   "id": "e74ec086",
   "metadata": {},
   "source": [
    "3. A marketing website has an average click-through rate of 2%. One day they observe 4326 visitors and 97 click-throughs. How likely is it that this many people or more click through?"
   ]
  },
  {
   "cell_type": "code",
   "execution_count": 11,
   "id": "261c90ba",
   "metadata": {},
   "outputs": [],
   "source": [
    "# because this is a success or failure situation, \n",
    "# we will use a binomial distribution with 4326 trials and 2% probability\n",
    "t = 4326\n",
    "p = .02\n",
    "clicks = stats.binom(t,p)"
   ]
  },
  {
   "cell_type": "code",
   "execution_count": 51,
   "id": "b515ef5a",
   "metadata": {},
   "outputs": [
    {
     "data": {
      "text/plain": [
       "13.98%"
      ]
     },
     "execution_count": 51,
     "metadata": {},
     "output_type": "execute_result"
    }
   ],
   "source": [
    "# using the survivor function we can find the percentage chance that\n",
    "# at least 97 people or more click through. Which means we need >96 so \n",
    "# .sf(96)\n",
    "Percent(clicks.sf(96))"
   ]
  },
  {
   "cell_type": "markdown",
   "id": "8e72737f",
   "metadata": {},
   "source": [
    "4. You are working on some statistics homework consisting of 100 questions where all of the answers are a probability rounded to the hundreths place. Looking to save time, you put down random probabilities as the answer to each question."
   ]
  },
  {
   "cell_type": "code",
   "execution_count": 56,
   "id": "fa307639",
   "metadata": {},
   "outputs": [
    {
     "data": {
      "text/plain": [
       "63.40%"
      ]
     },
     "execution_count": 56,
     "metadata": {},
     "output_type": "execute_result"
    }
   ],
   "source": [
    "# Oh lordy... Why would anyone do this smh\n",
    "# so we have 100 trials and a 1 in 100 chance probabilty of getting a right answer\n",
    "# because percentiles are probability rounded to the hundredth place\n",
    "# and this will be a binomial distribution\n",
    "t = 100\n",
    "p = 1/100\n",
    "homework = stats.binom(t,p)\n",
    "Percent(homework.sf(0))\n",
    "# chance of getting one right"
   ]
  },
  {
   "cell_type": "code",
   "execution_count": 57,
   "id": "09937262",
   "metadata": {},
   "outputs": [
    {
     "data": {
      "text/plain": [
       "26.42%"
      ]
     },
     "execution_count": 57,
     "metadata": {},
     "output_type": "execute_result"
    }
   ],
   "source": [
    "Percent(homework.sf(1))"
   ]
  },
  {
   "cell_type": "code",
   "execution_count": 58,
   "id": "4c237006",
   "metadata": {},
   "outputs": [
    {
     "data": {
      "text/plain": [
       "7.94%"
      ]
     },
     "execution_count": 58,
     "metadata": {},
     "output_type": "execute_result"
    }
   ],
   "source": [
    "Percent(homework.sf(2))"
   ]
  },
  {
   "cell_type": "markdown",
   "id": "5bdb35a2",
   "metadata": {},
   "source": [
    "- What is the probability that at least one of your first 60 answers is correct?"
   ]
  },
  {
   "cell_type": "code",
   "execution_count": 59,
   "id": "d85f3049",
   "metadata": {},
   "outputs": [
    {
     "data": {
      "text/plain": [
       "45.28%"
      ]
     },
     "execution_count": 59,
     "metadata": {},
     "output_type": "execute_result"
    }
   ],
   "source": [
    "# to see the chance of getting one right in the first 60 questions we will just change the trials to 60\n",
    "t = 60\n",
    "homework = stats.binom(t,p)\n",
    "Percent(homework.sf(0))"
   ]
  },
  {
   "cell_type": "markdown",
   "id": "9f68dfd7",
   "metadata": {},
   "source": [
    "5. The codeup staff tends to get upset when the student break area is not cleaned up. Suppose that there's a 3% chance that any one student cleans the break area when they visit it, and, on any given day, about 90% of the 3 active cohorts of 22 students visit the break area. How likely is it that the break area gets cleaned up each day? How likely is it that it goes two days without getting cleaned up? All week?"
   ]
  },
  {
   "cell_type": "code",
   "execution_count": 15,
   "id": "18a3a2e6",
   "metadata": {},
   "outputs": [
    {
     "data": {
      "text/plain": [
       "53.54%"
      ]
     },
     "execution_count": 15,
     "metadata": {},
     "output_type": "execute_result"
    }
   ],
   "source": [
    "# 3% probability of success\n",
    "# 90% of 3 * 22 is the number of trials in a day\n",
    "# since we want to look at multiple days, we can\n",
    "# multiply the number of days by the calculated trials per day\n",
    "# and this again being success or failure, we create a binomial distibution\n",
    "\n",
    "p = .03\n",
    "t = .9 * 3 * 22\n",
    "d = 1\n",
    "cleaned = stats.binom(t*d,p)\n",
    "Percent(cleaned.sf(1))"
   ]
  },
  {
   "cell_type": "code",
   "execution_count": 16,
   "id": "eff76b05",
   "metadata": {},
   "outputs": [
    {
     "data": {
      "text/plain": [
       "12.54%"
      ]
     },
     "execution_count": 16,
     "metadata": {},
     "output_type": "execute_result"
    }
   ],
   "source": [
    "d = 2\n",
    "cleaner = stats.binom(t*d,p)\n",
    "Percent(1-cleaner.sf(1))"
   ]
  },
  {
   "cell_type": "code",
   "execution_count": 17,
   "id": "4c704e97",
   "metadata": {},
   "outputs": [
    {
     "data": {
      "text/plain": [
       "0.00%"
      ]
     },
     "execution_count": 17,
     "metadata": {},
     "output_type": "execute_result"
    }
   ],
   "source": [
    "d = 7\n",
    "cleanest = stats.binom(t*d,p)\n",
    "Percent(1-cleanest.sf(1))"
   ]
  },
  {
   "cell_type": "markdown",
   "id": "fb4b24b5",
   "metadata": {},
   "source": [
    "6. You want to get lunch at La Panaderia, but notice that the line is usually very long at lunchtime. After several weeks of careful observation, you notice that the average number of people in line when your lunch break starts is normally distributed with a mean of 15 and standard deviation of 3. If it takes 2 minutes for each person to order, and 10 minutes from ordering to getting your food, what is the likelihood that you have at least 15 minutes left to eat your food before you have to go back to class? Assume you have one hour for lunch, and ignore travel time to and from La Panaderia."
   ]
  },
  {
   "cell_type": "code",
   "execution_count": 18,
   "id": "62fe9fd1",
   "metadata": {},
   "outputs": [
    {
     "data": {
      "text/plain": [
       "0.5"
      ]
     },
     "execution_count": 18,
     "metadata": {},
     "output_type": "execute_result"
    }
   ],
   "source": [
    "μ = 15\n",
    "σ = 3\n",
    "\n",
    "line_length = stats.norm(μ, σ)\n",
    "\n",
    "line_length.cdf(15)"
   ]
  },
  {
   "cell_type": "code",
   "execution_count": 19,
   "id": "bcf2ad99",
   "metadata": {},
   "outputs": [
    {
     "data": {
      "text/plain": [
       "45"
      ]
     },
     "execution_count": 19,
     "metadata": {},
     "output_type": "execute_result"
    }
   ],
   "source": [
    "#  at least 15 minutes to eat means that we have \n",
    "# 45 minutes to wait through the line order our food and get the food\n",
    "60 - 15"
   ]
  },
  {
   "cell_type": "code",
   "execution_count": 20,
   "id": "226dd239",
   "metadata": {},
   "outputs": [
    {
     "data": {
      "text/plain": [
       "33"
      ]
     },
     "execution_count": 20,
     "metadata": {},
     "output_type": "execute_result"
    }
   ],
   "source": [
    "# it takes 2 minute to order our food, and 10 minutes to get it\n",
    "# this leaves us 33 minutes to wait in line\n",
    "45 - 12"
   ]
  },
  {
   "cell_type": "code",
   "execution_count": 21,
   "id": "df922dd7",
   "metadata": {},
   "outputs": [
    {
     "data": {
      "text/plain": [
       "16.5"
      ]
     },
     "execution_count": 21,
     "metadata": {},
     "output_type": "execute_result"
    }
   ],
   "source": [
    "# each person takes 2 minutes to order meaning that 16.5 people can order in 33 minutes\n",
    "33 / 2"
   ]
  },
  {
   "cell_type": "code",
   "execution_count": 22,
   "id": "06d7d6f1",
   "metadata": {},
   "outputs": [
    {
     "data": {
      "text/plain": [
       "63.06%"
      ]
     },
     "execution_count": 22,
     "metadata": {},
     "output_type": "execute_result"
    }
   ],
   "source": [
    "# if we want at least 15 minutes to eat, there can't be more than 16 people in line\n",
    "Percent(line_length.cdf(16))"
   ]
  },
  {
   "cell_type": "markdown",
   "id": "dd63c77f",
   "metadata": {},
   "source": [
    "7. Connect to the employees database and find the average salary of current employees, along with the standard deviation. For the following questions, calculate the answer based on modeling the employees salaries with a normal distribution defined by the calculated mean and standard deviation then compare this answer to the actual values present in the salaries dataset."
   ]
  },
  {
   "cell_type": "code",
   "execution_count": 23,
   "id": "f3e95cb4",
   "metadata": {},
   "outputs": [],
   "source": [
    "salaries = gdb('employees', 'SELECT s.salary FROM salaries s')"
   ]
  },
  {
   "cell_type": "code",
   "execution_count": 24,
   "id": "3d2390bc",
   "metadata": {},
   "outputs": [],
   "source": [
    "# from env import get_db_url"
   ]
  },
  {
   "cell_type": "code",
   "execution_count": 25,
   "id": "55f3abb4",
   "metadata": {},
   "outputs": [],
   "source": [
    "# url = get_db_url('employees')\n",
    "# query = 'SELECT s.salary FROM salaries s'\n",
    "\n",
    "# salaries = pd.read_sql(query, url)"
   ]
  },
  {
   "cell_type": "code",
   "execution_count": 26,
   "id": "09d242ba",
   "metadata": {},
   "outputs": [],
   "source": [
    "μ = salaries.mean()[0]\n",
    "σ = salaries.std()[0]\n",
    "\n",
    "sal_dist = stats.norm(μ, σ)"
   ]
  },
  {
   "cell_type": "markdown",
   "id": "30bc1a8c",
   "metadata": {},
   "source": [
    "def gdb(db_name, query):\n",
    "    '''\n",
    "    gdb(db_name, query):\n",
    "    \n",
    "        takes in    a (db_name) schema name from the codeup database ;dtype int\n",
    "        and         a (query) to the MySQL server ;dtype int\n",
    "\n",
    "        and         returns the query using pd.read_sql(query, url)\n",
    "        having      created the url from my environment file\n",
    "    '''\n",
    "    from pandas import read_sql\n",
    "    from env import get_db_url\n",
    "    url = get_db_url(db_name)\n",
    "    return read_sql(query, url)"
   ]
  },
  {
   "cell_type": "markdown",
   "id": "a002e6a2",
   "metadata": {},
   "source": [
    "get_it_right = gdb('employees', 'SELECT s.salary FROM salaries s')\n",
    "get_it_right"
   ]
  },
  {
   "cell_type": "code",
   "execution_count": null,
   "id": "d13f9df8",
   "metadata": {},
   "outputs": [],
   "source": []
  },
  {
   "cell_type": "markdown",
   "id": "13d71311",
   "metadata": {},
   "source": [
    "- What percent of employees earn less than 60,000?"
   ]
  },
  {
   "cell_type": "code",
   "execution_count": 27,
   "id": "59a35795",
   "metadata": {},
   "outputs": [
    {
     "data": {
      "text/plain": [
       "41.08%"
      ]
     },
     "execution_count": 27,
     "metadata": {},
     "output_type": "execute_result"
    }
   ],
   "source": [
    "Percent(sal_dist.cdf(60_000))"
   ]
  },
  {
   "cell_type": "code",
   "execution_count": 28,
   "id": "24878cd2",
   "metadata": {},
   "outputs": [
    {
     "data": {
      "text/plain": [
       "47.40%"
      ]
     },
     "execution_count": 28,
     "metadata": {},
     "output_type": "execute_result"
    }
   ],
   "source": [
    "Percent((salaries['salary'] <= 60_000).mean())"
   ]
  },
  {
   "cell_type": "markdown",
   "id": "e58e9d7e",
   "metadata": {},
   "source": [
    "- What percent of employees earn more than 95,000?"
   ]
  },
  {
   "cell_type": "code",
   "execution_count": 29,
   "id": "5cf37103",
   "metadata": {},
   "outputs": [
    {
     "data": {
      "text/plain": [
       "3.25%"
      ]
     },
     "execution_count": 29,
     "metadata": {},
     "output_type": "execute_result"
    }
   ],
   "source": [
    "Percent(sal_dist.sf(95_000))"
   ]
  },
  {
   "cell_type": "code",
   "execution_count": 30,
   "id": "03e04926",
   "metadata": {},
   "outputs": [
    {
     "data": {
      "text/plain": [
       "5.36%"
      ]
     },
     "execution_count": 30,
     "metadata": {},
     "output_type": "execute_result"
    }
   ],
   "source": [
    "Percent((salaries['salary'] > 95_000).mean())"
   ]
  },
  {
   "cell_type": "markdown",
   "id": "f73030bd",
   "metadata": {},
   "source": [
    "#### scipy distribution object: What can we calculate from distribution?\n",
    "\n",
    "\n",
    "- value -> probability  \n",
    "   -- pmf: probability at a particular value of random variable (only for discrete distributions!)  \n",
    "    -- pdf: probability at a particular value of random variable (for continuous distributions)  \n",
    "   -- cdf: cumulative probablity for less than or equal to value of random variable     \n",
    "   -- sf:  probability for a random variable **greater than** certain value\n",
    "- probability -> value  \n",
    "   -- ppf: less than or equal to a point   \n",
    "   -- isf: greater than a point  \n",
    "- rvs for random values \n",
    "\n",
    "**Hint:** You can feed more than one value into\n",
    "- cdf\n",
    "- ppf\n",
    "- ex: some_distribution.cdf([4,7])"
   ]
  },
  {
   "cell_type": "markdown",
   "id": "b28a2aac",
   "metadata": {},
   "source": [
    "- What percent of employees earn between 65,000 and 80,000?"
   ]
  },
  {
   "cell_type": "code",
   "execution_count": 31,
   "id": "30efd716",
   "metadata": {},
   "outputs": [
    {
     "data": {
      "text/plain": [
       "41.13%"
      ]
     },
     "execution_count": 31,
     "metadata": {},
     "output_type": "execute_result"
    }
   ],
   "source": [
    "a = 65_000\n",
    "b = 90_000\n",
    "slice_sal = sal_dist.cdf([a,b])\n",
    "Percent(slice_sal[1] - slice_sal[0])"
   ]
  },
  {
   "cell_type": "code",
   "execution_count": 32,
   "id": "a2ffd5c8",
   "metadata": {},
   "outputs": [
    {
     "data": {
      "text/plain": [
       "24.33%"
      ]
     },
     "execution_count": 32,
     "metadata": {},
     "output_type": "execute_result"
    }
   ],
   "source": [
    "Percent(((salaries['salary'] > 65_000) & (salaries['salary'] < 80_000)).mean())"
   ]
  },
  {
   "cell_type": "markdown",
   "id": "f18e2c73",
   "metadata": {},
   "source": [
    "- What do the top 5% of employees make?"
   ]
  },
  {
   "cell_type": "code",
   "execution_count": 33,
   "id": "c91ca2c3",
   "metadata": {},
   "outputs": [
    {
     "data": {
      "text/plain": [
       "91616.72"
      ]
     },
     "execution_count": 33,
     "metadata": {},
     "output_type": "execute_result"
    }
   ],
   "source": [
    "round(sal_dist.isf(.05),2)"
   ]
  },
  {
   "cell_type": "code",
   "execution_count": 34,
   "id": "4c7b9f4f",
   "metadata": {},
   "outputs": [],
   "source": [
    "salaries['sal_with_20_quantile'] = pd.qcut(salaries['salary'],20, labels=['bottom 5%',\n",
    "                                       '5% - 10%',\n",
    "                                       '10% - 15%',\n",
    "                                       '15% - 20%',\n",
    "                                       '20% - 25%',\n",
    "                                       '25% - 30%',\n",
    "                                       '30% - 35%',\n",
    "                                       '35% - 40%',\n",
    "                                       '40% - 45%',\n",
    "                                       '45% - 50%',\n",
    "                                       '50% - 55%',\n",
    "                                       '55% - 60%',\n",
    "                                       '60% - 65%',\n",
    "                                       '65% - 70%',\n",
    "                                       '70% - 75%',\n",
    "                                       '75% - 80%',\n",
    "                                       '80% - 85%',\n",
    "                                       '85% - 90%',\n",
    "                                       '90% - 95%',\n",
    "                                       '95% - 100%'\n",
    "                                      ])"
   ]
  },
  {
   "cell_type": "code",
   "execution_count": 35,
   "id": "e8e35d79",
   "metadata": {},
   "outputs": [
    {
     "data": {
      "text/html": [
       "<div>\n",
       "<style scoped>\n",
       "    .dataframe tbody tr th:only-of-type {\n",
       "        vertical-align: middle;\n",
       "    }\n",
       "\n",
       "    .dataframe tbody tr th {\n",
       "        vertical-align: top;\n",
       "    }\n",
       "\n",
       "    .dataframe thead th {\n",
       "        text-align: right;\n",
       "    }\n",
       "</style>\n",
       "<table border=\"1\" class=\"dataframe\">\n",
       "  <thead>\n",
       "    <tr style=\"text-align: right;\">\n",
       "      <th></th>\n",
       "      <th>salary</th>\n",
       "      <th>sal_with_20_quantile</th>\n",
       "    </tr>\n",
       "  </thead>\n",
       "  <tbody>\n",
       "    <tr>\n",
       "      <th>0</th>\n",
       "      <td>60117</td>\n",
       "      <td>45% - 50%</td>\n",
       "    </tr>\n",
       "    <tr>\n",
       "      <th>1</th>\n",
       "      <td>62102</td>\n",
       "      <td>50% - 55%</td>\n",
       "    </tr>\n",
       "    <tr>\n",
       "      <th>2</th>\n",
       "      <td>66074</td>\n",
       "      <td>60% - 65%</td>\n",
       "    </tr>\n",
       "    <tr>\n",
       "      <th>3</th>\n",
       "      <td>66596</td>\n",
       "      <td>60% - 65%</td>\n",
       "    </tr>\n",
       "    <tr>\n",
       "      <th>4</th>\n",
       "      <td>66961</td>\n",
       "      <td>60% - 65%</td>\n",
       "    </tr>\n",
       "    <tr>\n",
       "      <th>...</th>\n",
       "      <td>...</td>\n",
       "      <td>...</td>\n",
       "    </tr>\n",
       "    <tr>\n",
       "      <th>2844042</th>\n",
       "      <td>63707</td>\n",
       "      <td>55% - 60%</td>\n",
       "    </tr>\n",
       "    <tr>\n",
       "      <th>2844043</th>\n",
       "      <td>67043</td>\n",
       "      <td>60% - 65%</td>\n",
       "    </tr>\n",
       "    <tr>\n",
       "      <th>2844044</th>\n",
       "      <td>70745</td>\n",
       "      <td>65% - 70%</td>\n",
       "    </tr>\n",
       "    <tr>\n",
       "      <th>2844045</th>\n",
       "      <td>74327</td>\n",
       "      <td>75% - 80%</td>\n",
       "    </tr>\n",
       "    <tr>\n",
       "      <th>2844046</th>\n",
       "      <td>77303</td>\n",
       "      <td>75% - 80%</td>\n",
       "    </tr>\n",
       "  </tbody>\n",
       "</table>\n",
       "<p>2844047 rows × 2 columns</p>\n",
       "</div>"
      ],
      "text/plain": [
       "         salary sal_with_20_quantile\n",
       "0         60117            45% - 50%\n",
       "1         62102            50% - 55%\n",
       "2         66074            60% - 65%\n",
       "3         66596            60% - 65%\n",
       "4         66961            60% - 65%\n",
       "...         ...                  ...\n",
       "2844042   63707            55% - 60%\n",
       "2844043   67043            60% - 65%\n",
       "2844044   70745            65% - 70%\n",
       "2844045   74327            75% - 80%\n",
       "2844046   77303            75% - 80%\n",
       "\n",
       "[2844047 rows x 2 columns]"
      ]
     },
     "execution_count": 35,
     "metadata": {},
     "output_type": "execute_result"
    }
   ],
   "source": [
    "salaries"
   ]
  },
  {
   "cell_type": "code",
   "execution_count": 36,
   "id": "22ddfefd",
   "metadata": {},
   "outputs": [
    {
     "data": {
      "text/html": [
       "<div>\n",
       "<style scoped>\n",
       "    .dataframe tbody tr th:only-of-type {\n",
       "        vertical-align: middle;\n",
       "    }\n",
       "\n",
       "    .dataframe tbody tr th {\n",
       "        vertical-align: top;\n",
       "    }\n",
       "\n",
       "    .dataframe thead th {\n",
       "        text-align: right;\n",
       "    }\n",
       "</style>\n",
       "<table border=\"1\" class=\"dataframe\">\n",
       "  <thead>\n",
       "    <tr style=\"text-align: right;\">\n",
       "      <th></th>\n",
       "      <th>salary</th>\n",
       "      <th>sal_with_20_quantile</th>\n",
       "    </tr>\n",
       "  </thead>\n",
       "  <tbody>\n",
       "    <tr>\n",
       "      <th>168</th>\n",
       "      <td>96122</td>\n",
       "      <td>95% - 100%</td>\n",
       "    </tr>\n",
       "    <tr>\n",
       "      <th>169</th>\n",
       "      <td>98522</td>\n",
       "      <td>95% - 100%</td>\n",
       "    </tr>\n",
       "    <tr>\n",
       "      <th>170</th>\n",
       "      <td>99651</td>\n",
       "      <td>95% - 100%</td>\n",
       "    </tr>\n",
       "    <tr>\n",
       "      <th>221</th>\n",
       "      <td>96646</td>\n",
       "      <td>95% - 100%</td>\n",
       "    </tr>\n",
       "    <tr>\n",
       "      <th>482</th>\n",
       "      <td>97571</td>\n",
       "      <td>95% - 100%</td>\n",
       "    </tr>\n",
       "    <tr>\n",
       "      <th>...</th>\n",
       "      <td>...</td>\n",
       "      <td>...</td>\n",
       "    </tr>\n",
       "    <tr>\n",
       "      <th>2843949</th>\n",
       "      <td>120013</td>\n",
       "      <td>95% - 100%</td>\n",
       "    </tr>\n",
       "    <tr>\n",
       "      <th>2843950</th>\n",
       "      <td>119906</td>\n",
       "      <td>95% - 100%</td>\n",
       "    </tr>\n",
       "    <tr>\n",
       "      <th>2843965</th>\n",
       "      <td>96198</td>\n",
       "      <td>95% - 100%</td>\n",
       "    </tr>\n",
       "    <tr>\n",
       "      <th>2843966</th>\n",
       "      <td>98836</td>\n",
       "      <td>95% - 100%</td>\n",
       "    </tr>\n",
       "    <tr>\n",
       "      <th>2843967</th>\n",
       "      <td>102085</td>\n",
       "      <td>95% - 100%</td>\n",
       "    </tr>\n",
       "  </tbody>\n",
       "</table>\n",
       "<p>142199 rows × 2 columns</p>\n",
       "</div>"
      ],
      "text/plain": [
       "         salary sal_with_20_quantile\n",
       "168       96122           95% - 100%\n",
       "169       98522           95% - 100%\n",
       "170       99651           95% - 100%\n",
       "221       96646           95% - 100%\n",
       "482       97571           95% - 100%\n",
       "...         ...                  ...\n",
       "2843949  120013           95% - 100%\n",
       "2843950  119906           95% - 100%\n",
       "2843965   96198           95% - 100%\n",
       "2843966   98836           95% - 100%\n",
       "2843967  102085           95% - 100%\n",
       "\n",
       "[142199 rows x 2 columns]"
      ]
     },
     "execution_count": 36,
     "metadata": {},
     "output_type": "execute_result"
    }
   ],
   "source": [
    "salaries[salaries['sal_with_20_quantile'] == '95% - 100%']"
   ]
  },
  {
   "cell_type": "code",
   "execution_count": 37,
   "id": "c03dcd1b",
   "metadata": {},
   "outputs": [
    {
     "data": {
      "text/plain": [
       "0.04999882210104123"
      ]
     },
     "execution_count": 37,
     "metadata": {},
     "output_type": "execute_result"
    }
   ],
   "source": [
    "(salaries['sal_with_20_quantile'] == '95% - 100%').mean()"
   ]
  },
  {
   "cell_type": "code",
   "execution_count": 38,
   "id": "7d66c537",
   "metadata": {},
   "outputs": [],
   "source": [
    "top_5 = salaries[salaries['sal_with_20_quantile'] == '95% - 100%']"
   ]
  },
  {
   "cell_type": "code",
   "execution_count": 39,
   "id": "7ee7b611",
   "metadata": {},
   "outputs": [
    {
     "data": {
      "text/plain": [
       "95762"
      ]
     },
     "execution_count": 39,
     "metadata": {},
     "output_type": "execute_result"
    }
   ],
   "source": [
    "top_5['salary'].min()"
   ]
  },
  {
   "cell_type": "code",
   "execution_count": 40,
   "id": "52c116a0",
   "metadata": {},
   "outputs": [
    {
     "data": {
      "text/plain": [
       "158220"
      ]
     },
     "execution_count": 40,
     "metadata": {},
     "output_type": "execute_result"
    }
   ],
   "source": [
    "top_5['salary'].max()"
   ]
  },
  {
   "cell_type": "code",
   "execution_count": 41,
   "id": "c30f3393",
   "metadata": {},
   "outputs": [
    {
     "data": {
      "text/plain": [
       "Text(130000, 52000, '**You see the steps\\n are still steep**')"
      ]
     },
     "execution_count": 41,
     "metadata": {},
     "output_type": "execute_result"
    },
    {
     "data": {
      "image/png": "[encoded data removed]",
      "text/plain": [
       "<Figure size 432x288 with 1 Axes>"
      ]
     },
     "metadata": {
      "needs_background": "light"
     },
     "output_type": "display_data"
    }
   ],
   "source": [
    "plt.figsize=(12,6)\n",
    "\n",
    "top_5.salary.hist()\n",
    "plt.title(f'Are the Top 5%\\nReally at the Top?')\n",
    "plt.xlabel('$10s of Thousands\\n$95,762<>$158,220')\n",
    "plt.ylabel('10s of Thousands of\\nIndividual Salaries')\n",
    "plt.annotate('**You see the steps\\n are still steep**', \n",
    "             xy = (111_000, 25_000), \n",
    "             xytext = (130_000, 52_000),\n",
    "             arrowprops=dict(facecolor='black')\n",
    "            )\n",
    "\n",
    "# plt.arrow(130_000, 55_000, -20_000, -30_000)"
   ]
  },
  {
   "cell_type": "code",
   "execution_count": 42,
   "id": "7b327200",
   "metadata": {},
   "outputs": [
    {
     "data": {
      "text/plain": [
       "1.1701836388176888e-08"
      ]
     },
     "execution_count": 42,
     "metadata": {},
     "output_type": "execute_result"
    }
   ],
   "source": [
    "sal_dist.sf(158_220)"
   ]
  },
  {
   "cell_type": "code",
   "execution_count": 43,
   "id": "6430d8b7",
   "metadata": {},
   "outputs": [
    {
     "data": {
      "text/plain": [
       "array([[<AxesSubplot:title={'center':'salary'}>]], dtype=object)"
      ]
     },
     "execution_count": 43,
     "metadata": {},
     "output_type": "execute_result"
    },
    {
     "data": {
      "image/png": "[encoded data removed]",
      "text/plain": [
       "<Figure size 432x288 with 1 Axes>"
      ]
     },
     "metadata": {
      "needs_background": "light"
     },
     "output_type": "display_data"
    }
   ],
   "source": [
    "salaries[['salary']].hist()"
   ]
  },
  {
   "cell_type": "markdown",
   "id": "a19a359e",
   "metadata": {},
   "source": [
    "**Hint:** If you're looking at this exercise and wondering \"How do I get pandas to talk the database, again?\", remember that you'll need 3 things: your `.gitignore`, your `env.py`, and to use `pd.read_sql`. Copy over your `.gitignore` and `env.py` from your data science libraries exercises folder, and connect to the employees database like so:"
   ]
  },
  {
   "cell_type": "markdown",
   "id": "05d26ffa",
   "metadata": {},
   "source": [
    "import pandas as pd\n",
    "import env\n",
    "\n",
    "url = f'mysql+pymysql://{env.user}:{env.password}@{env.host}/employees'\n",
    "pd.read_sql('SELECT * FROM departments', url)\n",
    "While time is the most common interval used, the poisson distribution can also be used for intervals like distance, area, or volume. "
   ]
  }
 ],
 "metadata": {
  "kernelspec": {
   "display_name": "Python 3 (ipykernel)",
   "language": "python",
   "name": "python3"
  },
  "language_info": {
   "codemirror_mode": {
    "name": "ipython",
    "version": 3
   },
   "file_extension": ".py",
   "mimetype": "text/x-python",
   "name": "python",
   "nbconvert_exporter": "python",
   "pygments_lexer": "ipython3",
   "version": "3.9.12"
  }
 },
 "nbformat": 4,
 "nbformat_minor": 5
}
