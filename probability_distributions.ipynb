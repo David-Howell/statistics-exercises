{
 "cells": [
  {
   "cell_type": "code",
   "execution_count": 1,
   "id": "533215b9",
   "metadata": {},
   "outputs": [],
   "source": [
    "import matplotlib.pyplot as plt\n",
    "import numpy as np\n",
    "import pandas as pd\n",
    "from scipy import stats\n",
    "from env import Percent\n",
    "from env import gdb"
   ]
  },
  {
   "cell_type": "markdown",
   "id": "9071f0a8",
   "metadata": {},
   "source": [
    "# Exercises\n",
    "Do your work for this exercise in either a python script named `probability_distributions.py` or a jupyter notebook named `probability_distributions.ipynb`.\n",
    "\n",
    "For the following problems, use python to simulate the problem and calculate an experimental probability, then compare that to the theoretical probability."
   ]
  },
  {
   "cell_type": "markdown",
   "id": "80d643bf",
   "metadata": {},
   "source": [
    "1. A bank found that the average number of cars waiting during the noon hour at a drive-up window follows a Poisson distribution with a mean of 2 cars. Make a chart of this distribution and answer these questions concerning the probability of cars waiting at the drive-up window."
   ]
  },
  {
   "cell_type": "code",
   "execution_count": 2,
   "id": "1a179427",
   "metadata": {},
   "outputs": [],
   "source": [
    "λ = 2\n",
    "noon_cars = stats.poisson(λ)"
   ]
  },
  {
   "cell_type": "markdown",
   "id": "fc7912c9",
   "metadata": {},
   "source": [
    "- What is the probability that no cars drive up in the noon hour?"
   ]
  },
  {
   "cell_type": "code",
   "execution_count": 3,
   "id": "cad288ef",
   "metadata": {},
   "outputs": [
    {
     "data": {
      "text/plain": [
       "13.53%"
      ]
     },
     "execution_count": 3,
     "metadata": {},
     "output_type": "execute_result"
    }
   ],
   "source": [
    "Percent(noon_cars.pmf(0))"
   ]
  },
  {
   "cell_type": "markdown",
   "id": "0556d779",
   "metadata": {},
   "source": [
    "- What is the probability that 3 or more cars come through the drive through?"
   ]
  },
  {
   "cell_type": "code",
   "execution_count": 4,
   "id": "5f89f936",
   "metadata": {},
   "outputs": [
    {
     "data": {
      "text/plain": [
       "32.33%"
      ]
     },
     "execution_count": 4,
     "metadata": {},
     "output_type": "execute_result"
    }
   ],
   "source": [
    "Percent(noon_cars.sf(2))"
   ]
  },
  {
   "cell_type": "markdown",
   "id": "f2b7720d",
   "metadata": {},
   "source": [
    "- How likely is it that the drive through gets at least 1 car?"
   ]
  },
  {
   "cell_type": "code",
   "execution_count": 6,
   "id": "1fca0983",
   "metadata": {},
   "outputs": [
    {
     "data": {
      "text/plain": [
       "86.47%"
      ]
     },
     "execution_count": 6,
     "metadata": {},
     "output_type": "execute_result"
    }
   ],
   "source": [
    "Percent(noon_cars.sf(0))"
   ]
  },
  {
   "cell_type": "markdown",
   "id": "249038aa",
   "metadata": {},
   "source": [
    "2. Grades of State University graduates are normally distributed with a mean of 3.0 and a standard deviation of .3. Calculate the following:"
   ]
  },
  {
   "cell_type": "code",
   "execution_count": 7,
   "id": "cfc69a68",
   "metadata": {},
   "outputs": [],
   "source": [
    "μ = 3\n",
    "σ = .3\n",
    "grades = stats.norm(μ, σ)"
   ]
  },
  {
   "cell_type": "markdown",
   "id": "fc74658c",
   "metadata": {},
   "source": [
    "- What grade point average is required to be in the top 5% of the graduating class?"
   ]
  },
  {
   "cell_type": "code",
   "execution_count": 8,
   "id": "e6f5b51d",
   "metadata": {},
   "outputs": [
    {
     "data": {
      "text/plain": [
       "3.4934560880854417"
      ]
     },
     "execution_count": 8,
     "metadata": {},
     "output_type": "execute_result"
    }
   ],
   "source": [
    "grades.isf(.05)"
   ]
  },
  {
   "cell_type": "markdown",
   "id": "dd8e6ee2",
   "metadata": {},
   "source": [
    "- What GPA constitutes the bottom 15% of the class?"
   ]
  },
  {
   "cell_type": "code",
   "execution_count": 9,
   "id": "fbb3f8f8",
   "metadata": {},
   "outputs": [
    {
     "data": {
      "text/plain": [
       "2.689069983151863"
      ]
     },
     "execution_count": 9,
     "metadata": {},
     "output_type": "execute_result"
    }
   ],
   "source": [
    "grades.isf(.85)"
   ]
  },
  {
   "cell_type": "markdown",
   "id": "21d89303",
   "metadata": {},
   "source": [
    "- An eccentric alumnus left scholarship money for students in the third decile from the bottom of their class. Determine the range of the third decile. Would a student with a 2.8 grade point average qualify for this scholarship?"
   ]
  },
  {
   "cell_type": "code",
   "execution_count": 14,
   "id": "0f28c2d1",
   "metadata": {},
   "outputs": [
    {
     "data": {
      "text/plain": [
       "array([2.84267985, 2.92399587])"
      ]
     },
     "execution_count": 14,
     "metadata": {},
     "output_type": "execute_result"
    }
   ],
   "source": [
    "grades.ppf([.3,.4])"
   ]
  },
  {
   "cell_type": "markdown",
   "id": "df63540f",
   "metadata": {},
   "source": [
    "- If I have a GPA of 3.5, what percentile am I in?"
   ]
  },
  {
   "cell_type": "code",
   "execution_count": 21,
   "id": "ebc2cf1c",
   "metadata": {},
   "outputs": [
    {
     "data": {
      "text/plain": [
       "4.78%"
      ]
     },
     "execution_count": 21,
     "metadata": {},
     "output_type": "execute_result"
    }
   ],
   "source": [
    "Percent(grades.sf(3.5))"
   ]
  },
  {
   "cell_type": "markdown",
   "id": "5300a3f8",
   "metadata": {},
   "source": [
    "3. A marketing website has an average click-through rate of 2%. One day they observe 4326 visitors and 97 click-throughs. How likely is it that this many people or more click through?"
   ]
  },
  {
   "cell_type": "code",
   "execution_count": 22,
   "id": "8af1fcaf",
   "metadata": {},
   "outputs": [],
   "source": [
    "t = 4326\n",
    "p = .02\n",
    "clicks = stats.binom(t,p)"
   ]
  },
  {
   "cell_type": "code",
   "execution_count": 24,
   "id": "505843fd",
   "metadata": {},
   "outputs": [
    {
     "data": {
      "text/plain": [
       "11.78%"
      ]
     },
     "execution_count": 24,
     "metadata": {},
     "output_type": "execute_result"
    }
   ],
   "source": [
    "Percent(clicks.sf(97))"
   ]
  },
  {
   "cell_type": "markdown",
   "id": "a24ed156",
   "metadata": {},
   "source": [
    "4. You are working on some statistics homework consisting of 100 questions where all of the answers are a probability rounded to the hundreths place. Looking to save time, you put down random probabilities as the answer to each question."
   ]
  },
  {
   "cell_type": "code",
   "execution_count": 28,
   "id": "a14d6a3b",
   "metadata": {},
   "outputs": [
    {
     "data": {
      "text/plain": [
       "26.42%"
      ]
     },
     "execution_count": 28,
     "metadata": {},
     "output_type": "execute_result"
    }
   ],
   "source": [
    "t = 100\n",
    "p = 1/100\n",
    "homework = stats.binom(t,p)\n",
    "Percent(homework.sf(1))\n",
    "# chance of getting one right"
   ]
  },
  {
   "cell_type": "markdown",
   "id": "ac05b154",
   "metadata": {},
   "source": [
    "- What is the probability that at least one of your first 60 answers is correct?"
   ]
  },
  {
   "cell_type": "code",
   "execution_count": 29,
   "id": "4c8c863b",
   "metadata": {},
   "outputs": [
    {
     "data": {
      "text/plain": [
       "12.12%"
      ]
     },
     "execution_count": 29,
     "metadata": {},
     "output_type": "execute_result"
    }
   ],
   "source": [
    "t = 60\n",
    "homework = stats.binom(t,p)\n",
    "Percent(homework.sf(1))"
   ]
  },
  {
   "cell_type": "markdown",
   "id": "1be54320",
   "metadata": {},
   "source": [
    "5. The codeup staff tends to get upset when the student break area is not cleaned up. Suppose that there's a 3% chance that any one student cleans the break area when they visit it, and, on any given day, about 90% of the 3 active cohorts of 22 students visit the break area. How likely is it that the break area gets cleaned up each day? How likely is it that it goes two days without getting cleaned up? All week?"
   ]
  },
  {
   "cell_type": "code",
   "execution_count": 31,
   "id": "49780ae9",
   "metadata": {},
   "outputs": [
    {
     "data": {
      "text/plain": [
       "53.54%"
      ]
     },
     "execution_count": 31,
     "metadata": {},
     "output_type": "execute_result"
    }
   ],
   "source": [
    "p = .03\n",
    "t = .9 * 3 * 22\n",
    "d = 1\n",
    "cleaned = stats.binom(t*d,p)\n",
    "Percent(cleaned.sf(1))"
   ]
  },
  {
   "cell_type": "code",
   "execution_count": 35,
   "id": "b0c3cb96",
   "metadata": {},
   "outputs": [
    {
     "data": {
      "text/plain": [
       "12.54%"
      ]
     },
     "execution_count": 35,
     "metadata": {},
     "output_type": "execute_result"
    }
   ],
   "source": [
    "d = 2\n",
    "cleaner = stats.binom(t*d,p)\n",
    "Percent(1-cleaner.sf(1))"
   ]
  },
  {
   "cell_type": "code",
   "execution_count": 42,
   "id": "fdb5504c",
   "metadata": {},
   "outputs": [
    {
     "data": {
      "text/plain": [
       "0.00%"
      ]
     },
     "execution_count": 42,
     "metadata": {},
     "output_type": "execute_result"
    }
   ],
   "source": [
    "d = 7\n",
    "cleanest = stats.binom(t*d,p)\n",
    "Percent(1-cleanest.sf(1))"
   ]
  },
  {
   "cell_type": "markdown",
   "id": "d9313857",
   "metadata": {},
   "source": [
    "6. You want to get lunch at La Panaderia, but notice that the line is usually very long at lunchtime. After several weeks of careful observation, you notice that the average number of people in line when your lunch break starts is normally distributed with a mean of 15 and standard deviation of 3. If it takes 2 minutes for each person to order, and 10 minutes from ordering to getting your food, what is the likelihood that you have at least 15 minutes left to eat your food before you have to go back to class? Assume you have one hour for lunch, and ignore travel time to and from La Panaderia."
   ]
  },
  {
   "cell_type": "code",
   "execution_count": 45,
   "id": "5b892545",
   "metadata": {},
   "outputs": [
    {
     "data": {
      "text/plain": [
       "0.5"
      ]
     },
     "execution_count": 45,
     "metadata": {},
     "output_type": "execute_result"
    }
   ],
   "source": [
    "μ = 15\n",
    "σ = 3\n",
    "\n",
    "line_length = stats.norm(μ, σ)\n",
    "\n",
    "line_length.cdf(15)"
   ]
  },
  {
   "cell_type": "code",
   "execution_count": 46,
   "id": "f3a0d559",
   "metadata": {},
   "outputs": [
    {
     "data": {
      "text/plain": [
       "45"
      ]
     },
     "execution_count": 46,
     "metadata": {},
     "output_type": "execute_result"
    }
   ],
   "source": [
    "#  at least 15 minutes to eat means that we have \n",
    "# 45 minutes to wait through the line order our food and get the food\n",
    "60 - 15"
   ]
  },
  {
   "cell_type": "code",
   "execution_count": 48,
   "id": "b906c09e",
   "metadata": {},
   "outputs": [
    {
     "data": {
      "text/plain": [
       "33"
      ]
     },
     "execution_count": 48,
     "metadata": {},
     "output_type": "execute_result"
    }
   ],
   "source": [
    "# it takes 2 minute to order our food, and 10 minutes to get it\n",
    "# this leaves us 33 minutes to wait in line\n",
    "45 - 12"
   ]
  },
  {
   "cell_type": "code",
   "execution_count": 50,
   "id": "ae8f7dd6",
   "metadata": {},
   "outputs": [
    {
     "data": {
      "text/plain": [
       "16.5"
      ]
     },
     "execution_count": 50,
     "metadata": {},
     "output_type": "execute_result"
    }
   ],
   "source": [
    "# each person takes 2 minutes to order meaning that 16.5 people can order in 33 minutes\n",
    "33 / 2"
   ]
  },
  {
   "cell_type": "code",
   "execution_count": 51,
   "id": "f2aef408",
   "metadata": {},
   "outputs": [
    {
     "data": {
      "text/plain": [
       "63.06%"
      ]
     },
     "execution_count": 51,
     "metadata": {},
     "output_type": "execute_result"
    }
   ],
   "source": [
    "# if we want at least 15 minutes to eat, there can't be more than 16 people in line\n",
    "Percent(line_length.cdf(16))"
   ]
  },
  {
   "cell_type": "markdown",
   "id": "1609fe09",
   "metadata": {},
   "source": [
    "7. Connect to the employees database and find the average salary of current employees, along with the standard deviation. For the following questions, calculate the answer based on modeling the employees salaries with a normal distribution defined by the calculated mean and standard deviation then compare this answer to the actual values present in the salaries dataset."
   ]
  },
  {
   "cell_type": "code",
   "execution_count": 55,
   "id": "f28dea81",
   "metadata": {},
   "outputs": [
    {
     "ename": "NameError",
     "evalue": "name 'employees' is not defined",
     "output_type": "error",
     "traceback": [
      "\u001b[0;31m---------------------------------------------------------------------------\u001b[0m",
      "\u001b[0;31mNameError\u001b[0m                                 Traceback (most recent call last)",
      "Input \u001b[0;32mIn [55]\u001b[0m, in \u001b[0;36m<cell line: 1>\u001b[0;34m()\u001b[0m\n\u001b[0;32m----> 1\u001b[0m gdb(\u001b[43memployees\u001b[49m, \u001b[38;5;124m'\u001b[39m\u001b[38;5;124mSELECT s.salary FROM salaries s\u001b[39m\u001b[38;5;124m'\u001b[39m)\n",
      "\u001b[0;31mNameError\u001b[0m: name 'employees' is not defined"
     ]
    }
   ],
   "source": [
    "# gdb('employees', 'SELECT s.salary FROM salaries s')"
   ]
  },
  {
   "cell_type": "code",
   "execution_count": 54,
   "id": "5eb075b2",
   "metadata": {},
   "outputs": [],
   "source": [
    "from env import get_db_url"
   ]
  },
  {
   "cell_type": "code",
   "execution_count": 57,
   "id": "fd1e125d",
   "metadata": {},
   "outputs": [],
   "source": [
    "url = get_db_url('employees')\n",
    "query = 'SELECT s.salary FROM salaries s'\n",
    "\n",
    "salaries = pd.read_sql(query, url)"
   ]
  },
  {
   "cell_type": "code",
   "execution_count": 63,
   "id": "d49ebb0d",
   "metadata": {},
   "outputs": [],
   "source": [
    "μ = salaries.mean()[0]\n",
    "σ = salaries.std()[0]\n",
    "\n",
    "sal_dist = stats.norm(μ, σ)"
   ]
  },
  {
   "cell_type": "code",
   "execution_count": null,
   "id": "627efb5c",
   "metadata": {},
   "outputs": [],
   "source": []
  },
  {
   "cell_type": "markdown",
   "id": "0da21bbf",
   "metadata": {},
   "source": [
    "- What percent of employees earn less than 60,000?"
   ]
  },
  {
   "cell_type": "code",
   "execution_count": 65,
   "id": "1d81e9aa",
   "metadata": {},
   "outputs": [
    {
     "data": {
      "text/plain": [
       "41.08%"
      ]
     },
     "execution_count": 65,
     "metadata": {},
     "output_type": "execute_result"
    }
   ],
   "source": [
    "Percent(sal_dist.cdf(60_000))"
   ]
  },
  {
   "cell_type": "code",
   "execution_count": 75,
   "id": "7a2718df",
   "metadata": {},
   "outputs": [
    {
     "data": {
      "text/plain": [
       "47.40%"
      ]
     },
     "execution_count": 75,
     "metadata": {},
     "output_type": "execute_result"
    }
   ],
   "source": [
    "Percent((salaries['salary'] <= 60_000).mean())"
   ]
  },
  {
   "cell_type": "markdown",
   "id": "9966d29f",
   "metadata": {},
   "source": [
    "- What percent of employees earn more than 95,000?"
   ]
  },
  {
   "cell_type": "code",
   "execution_count": 77,
   "id": "ee43a8d0",
   "metadata": {},
   "outputs": [
    {
     "data": {
      "text/plain": [
       "3.25%"
      ]
     },
     "execution_count": 77,
     "metadata": {},
     "output_type": "execute_result"
    }
   ],
   "source": [
    "Percent(sal_dist.sf(95_000))"
   ]
  },
  {
   "cell_type": "code",
   "execution_count": 79,
   "id": "c2c26c4c",
   "metadata": {},
   "outputs": [
    {
     "data": {
      "text/plain": [
       "5.36%"
      ]
     },
     "execution_count": 79,
     "metadata": {},
     "output_type": "execute_result"
    }
   ],
   "source": [
    "Percent((salaries['salary'] > 95_000).mean())"
   ]
  },
  {
   "cell_type": "markdown",
   "id": "96645052",
   "metadata": {},
   "source": [
    "#### scipy distribution object: What can we calculate from distribution?\n",
    "\n",
    "\n",
    "- value -> probability  \n",
    "   -- pmf: probability at a particular value of random variable (only for discrete distributions!)  \n",
    "    -- pdf: probability at a particular value of random variable (for continuous distributions)  \n",
    "   -- cdf: cumulative probablity for less than or equal to value of random variable     \n",
    "   -- sf:  probability for a random variable **greater than** certain value\n",
    "- probability -> value  \n",
    "   -- ppf: less than or equal to a point   \n",
    "   -- isf: greater than a point  \n",
    "- rvs for random values \n",
    "\n",
    "**Hint:** You can feed more than one value into\n",
    "- cdf\n",
    "- ppf\n",
    "- ex: some_distribution.cdf([4,7])"
   ]
  },
  {
   "cell_type": "markdown",
   "id": "025955de",
   "metadata": {},
   "source": [
    "- What percent of employees earn between 65,000 and 80,000?"
   ]
  },
  {
   "cell_type": "code",
   "execution_count": 82,
   "id": "b51f3d44",
   "metadata": {},
   "outputs": [
    {
     "data": {
      "text/plain": [
       "41.13%"
      ]
     },
     "execution_count": 82,
     "metadata": {},
     "output_type": "execute_result"
    }
   ],
   "source": [
    "a = 65_000\n",
    "b = 90_000\n",
    "slice_sal = sal_dist.cdf([a,b])\n",
    "Percent(slice_sal[1] - slice_sal[0])"
   ]
  },
  {
   "cell_type": "code",
   "execution_count": 85,
   "id": "10c4c2fb",
   "metadata": {},
   "outputs": [
    {
     "data": {
      "text/plain": [
       "24.33%"
      ]
     },
     "execution_count": 85,
     "metadata": {},
     "output_type": "execute_result"
    }
   ],
   "source": [
    "Percent(((salaries['salary'] > 65_000) & (salaries['salary'] < 80_000)).mean())"
   ]
  },
  {
   "cell_type": "markdown",
   "id": "b52ef96e",
   "metadata": {},
   "source": [
    "- What do the top 5% of employees make?"
   ]
  },
  {
   "cell_type": "code",
   "execution_count": 89,
   "id": "69b6eb99",
   "metadata": {},
   "outputs": [
    {
     "data": {
      "text/plain": [
       "91616.72"
      ]
     },
     "execution_count": 89,
     "metadata": {},
     "output_type": "execute_result"
    }
   ],
   "source": [
    "round(sal_dist.isf(.05),2)"
   ]
  },
  {
   "cell_type": "code",
   "execution_count": 95,
   "id": "6b56e349",
   "metadata": {},
   "outputs": [],
   "source": [
    "salaries['sal_with_20_quantile'] = pd.qcut(salaries['salary'],20, labels=['bottom 5%',\n",
    "                                       '5% - 10%',\n",
    "                                       '10% - 15%',\n",
    "                                       '15% - 20%',\n",
    "                                       '20% - 25%',\n",
    "                                       '25% - 30%',\n",
    "                                       '30% - 35%',\n",
    "                                       '35% - 40%',\n",
    "                                       '40% - 45%',\n",
    "                                       '45% - 50%',\n",
    "                                       '50% - 55%',\n",
    "                                       '55% - 60%',\n",
    "                                       '60% - 65%',\n",
    "                                       '65% - 70%',\n",
    "                                       '70% - 75%',\n",
    "                                       '75% - 80%',\n",
    "                                       '80% - 85%',\n",
    "                                       '85% - 90%',\n",
    "                                       '90% - 95%',\n",
    "                                       '95% - 100%'\n",
    "                                      ])"
   ]
  },
  {
   "cell_type": "code",
   "execution_count": 99,
   "id": "acafefb8",
   "metadata": {},
   "outputs": [
    {
     "data": {
      "text/html": [
       "<div>\n",
       "<style scoped>\n",
       "    .dataframe tbody tr th:only-of-type {\n",
       "        vertical-align: middle;\n",
       "    }\n",
       "\n",
       "    .dataframe tbody tr th {\n",
       "        vertical-align: top;\n",
       "    }\n",
       "\n",
       "    .dataframe thead th {\n",
       "        text-align: right;\n",
       "    }\n",
       "</style>\n",
       "<table border=\"1\" class=\"dataframe\">\n",
       "  <thead>\n",
       "    <tr style=\"text-align: right;\">\n",
       "      <th></th>\n",
       "      <th>salary</th>\n",
       "      <th>sal_with_20_quantile</th>\n",
       "    </tr>\n",
       "  </thead>\n",
       "  <tbody>\n",
       "    <tr>\n",
       "      <th>0</th>\n",
       "      <td>60117</td>\n",
       "      <td>45% - 50%</td>\n",
       "    </tr>\n",
       "    <tr>\n",
       "      <th>1</th>\n",
       "      <td>62102</td>\n",
       "      <td>50% - 55%</td>\n",
       "    </tr>\n",
       "    <tr>\n",
       "      <th>2</th>\n",
       "      <td>66074</td>\n",
       "      <td>60% - 65%</td>\n",
       "    </tr>\n",
       "    <tr>\n",
       "      <th>3</th>\n",
       "      <td>66596</td>\n",
       "      <td>60% - 65%</td>\n",
       "    </tr>\n",
       "    <tr>\n",
       "      <th>4</th>\n",
       "      <td>66961</td>\n",
       "      <td>60% - 65%</td>\n",
       "    </tr>\n",
       "    <tr>\n",
       "      <th>...</th>\n",
       "      <td>...</td>\n",
       "      <td>...</td>\n",
       "    </tr>\n",
       "    <tr>\n",
       "      <th>2844042</th>\n",
       "      <td>63707</td>\n",
       "      <td>55% - 60%</td>\n",
       "    </tr>\n",
       "    <tr>\n",
       "      <th>2844043</th>\n",
       "      <td>67043</td>\n",
       "      <td>60% - 65%</td>\n",
       "    </tr>\n",
       "    <tr>\n",
       "      <th>2844044</th>\n",
       "      <td>70745</td>\n",
       "      <td>65% - 70%</td>\n",
       "    </tr>\n",
       "    <tr>\n",
       "      <th>2844045</th>\n",
       "      <td>74327</td>\n",
       "      <td>75% - 80%</td>\n",
       "    </tr>\n",
       "    <tr>\n",
       "      <th>2844046</th>\n",
       "      <td>77303</td>\n",
       "      <td>75% - 80%</td>\n",
       "    </tr>\n",
       "  </tbody>\n",
       "</table>\n",
       "<p>2844047 rows × 2 columns</p>\n",
       "</div>"
      ],
      "text/plain": [
       "         salary sal_with_20_quantile\n",
       "0         60117            45% - 50%\n",
       "1         62102            50% - 55%\n",
       "2         66074            60% - 65%\n",
       "3         66596            60% - 65%\n",
       "4         66961            60% - 65%\n",
       "...         ...                  ...\n",
       "2844042   63707            55% - 60%\n",
       "2844043   67043            60% - 65%\n",
       "2844044   70745            65% - 70%\n",
       "2844045   74327            75% - 80%\n",
       "2844046   77303            75% - 80%\n",
       "\n",
       "[2844047 rows x 2 columns]"
      ]
     },
     "execution_count": 99,
     "metadata": {},
     "output_type": "execute_result"
    }
   ],
   "source": [
    "salaries"
   ]
  },
  {
   "cell_type": "code",
   "execution_count": 100,
   "id": "616e26f0",
   "metadata": {},
   "outputs": [
    {
     "data": {
      "text/html": [
       "<div>\n",
       "<style scoped>\n",
       "    .dataframe tbody tr th:only-of-type {\n",
       "        vertical-align: middle;\n",
       "    }\n",
       "\n",
       "    .dataframe tbody tr th {\n",
       "        vertical-align: top;\n",
       "    }\n",
       "\n",
       "    .dataframe thead th {\n",
       "        text-align: right;\n",
       "    }\n",
       "</style>\n",
       "<table border=\"1\" class=\"dataframe\">\n",
       "  <thead>\n",
       "    <tr style=\"text-align: right;\">\n",
       "      <th></th>\n",
       "      <th>salary</th>\n",
       "      <th>sal_with_20_quantile</th>\n",
       "    </tr>\n",
       "  </thead>\n",
       "  <tbody>\n",
       "    <tr>\n",
       "      <th>168</th>\n",
       "      <td>96122</td>\n",
       "      <td>95% - 100%</td>\n",
       "    </tr>\n",
       "    <tr>\n",
       "      <th>169</th>\n",
       "      <td>98522</td>\n",
       "      <td>95% - 100%</td>\n",
       "    </tr>\n",
       "    <tr>\n",
       "      <th>170</th>\n",
       "      <td>99651</td>\n",
       "      <td>95% - 100%</td>\n",
       "    </tr>\n",
       "    <tr>\n",
       "      <th>221</th>\n",
       "      <td>96646</td>\n",
       "      <td>95% - 100%</td>\n",
       "    </tr>\n",
       "    <tr>\n",
       "      <th>482</th>\n",
       "      <td>97571</td>\n",
       "      <td>95% - 100%</td>\n",
       "    </tr>\n",
       "    <tr>\n",
       "      <th>...</th>\n",
       "      <td>...</td>\n",
       "      <td>...</td>\n",
       "    </tr>\n",
       "    <tr>\n",
       "      <th>2843949</th>\n",
       "      <td>120013</td>\n",
       "      <td>95% - 100%</td>\n",
       "    </tr>\n",
       "    <tr>\n",
       "      <th>2843950</th>\n",
       "      <td>119906</td>\n",
       "      <td>95% - 100%</td>\n",
       "    </tr>\n",
       "    <tr>\n",
       "      <th>2843965</th>\n",
       "      <td>96198</td>\n",
       "      <td>95% - 100%</td>\n",
       "    </tr>\n",
       "    <tr>\n",
       "      <th>2843966</th>\n",
       "      <td>98836</td>\n",
       "      <td>95% - 100%</td>\n",
       "    </tr>\n",
       "    <tr>\n",
       "      <th>2843967</th>\n",
       "      <td>102085</td>\n",
       "      <td>95% - 100%</td>\n",
       "    </tr>\n",
       "  </tbody>\n",
       "</table>\n",
       "<p>142199 rows × 2 columns</p>\n",
       "</div>"
      ],
      "text/plain": [
       "         salary sal_with_20_quantile\n",
       "168       96122           95% - 100%\n",
       "169       98522           95% - 100%\n",
       "170       99651           95% - 100%\n",
       "221       96646           95% - 100%\n",
       "482       97571           95% - 100%\n",
       "...         ...                  ...\n",
       "2843949  120013           95% - 100%\n",
       "2843950  119906           95% - 100%\n",
       "2843965   96198           95% - 100%\n",
       "2843966   98836           95% - 100%\n",
       "2843967  102085           95% - 100%\n",
       "\n",
       "[142199 rows x 2 columns]"
      ]
     },
     "execution_count": 100,
     "metadata": {},
     "output_type": "execute_result"
    }
   ],
   "source": [
    "salaries[salaries['sal_with_20_quantile'] == '95% - 100%']"
   ]
  },
  {
   "cell_type": "code",
   "execution_count": 102,
   "id": "6618f934",
   "metadata": {},
   "outputs": [
    {
     "data": {
      "text/plain": [
       "0.04999882210104123"
      ]
     },
     "execution_count": 102,
     "metadata": {},
     "output_type": "execute_result"
    }
   ],
   "source": [
    "(salaries['sal_with_20_quantile'] == '95% - 100%').mean()"
   ]
  },
  {
   "cell_type": "code",
   "execution_count": 105,
   "id": "ed1d149f",
   "metadata": {},
   "outputs": [],
   "source": [
    "top_5 = salaries[salaries['sal_with_20_quantile'] == '95% - 100%']"
   ]
  },
  {
   "cell_type": "code",
   "execution_count": 107,
   "id": "4881f148",
   "metadata": {},
   "outputs": [
    {
     "data": {
      "text/plain": [
       "95762"
      ]
     },
     "execution_count": 107,
     "metadata": {},
     "output_type": "execute_result"
    }
   ],
   "source": [
    "top_5['salary'].min()"
   ]
  },
  {
   "cell_type": "code",
   "execution_count": 108,
   "id": "43786d38",
   "metadata": {},
   "outputs": [
    {
     "data": {
      "text/plain": [
       "158220"
      ]
     },
     "execution_count": 108,
     "metadata": {},
     "output_type": "execute_result"
    }
   ],
   "source": [
    "top_5['salary'].max()"
   ]
  },
  {
   "cell_type": "code",
   "execution_count": 110,
   "id": "14ff6c41",
   "metadata": {},
   "outputs": [
    {
     "data": {
      "text/plain": [
       "1.1701836388176888e-08"
      ]
     },
     "execution_count": 110,
     "metadata": {},
     "output_type": "execute_result"
    }
   ],
   "source": [
    "sal_dist.sf(158_220)"
   ]
  },
  {
   "cell_type": "code",
   "execution_count": 114,
   "id": "2235c896",
   "metadata": {},
   "outputs": [
    {
     "data": {
      "text/plain": [
       "array([[<AxesSubplot:title={'center':'salary'}>]], dtype=object)"
      ]
     },
     "execution_count": 114,
     "metadata": {},
     "output_type": "execute_result"
    },
    {
     "data": {
      "image/png": "[encoded data removed]",
      "text/plain": [
       "<Figure size 432x288 with 1 Axes>"
      ]
     },
     "metadata": {
      "needs_background": "light"
     },
     "output_type": "display_data"
    }
   ],
   "source": [
    "salaries[['salary']].hist()"
   ]
  },
  {
   "cell_type": "markdown",
   "id": "0c997b93",
   "metadata": {},
   "source": [
    "**Hint:** If you're looking at this exercise and wondering \"How do I get pandas to talk the database, again?\", remember that you'll need 3 things: your `.gitignore`, your `env.py`, and to use `pd.read_sql`. Copy over your `.gitignore` and `env.py` from your data science libraries exercises folder, and connect to the employees database like so:"
   ]
  },
  {
   "cell_type": "code",
   "execution_count": null,
   "id": "7c270475",
   "metadata": {},
   "outputs": [],
   "source": [
    "import pandas as pd\n",
    "import env\n",
    "\n",
    "url = f'mysql+pymysql://{env.user}:{env.password}@{env.host}/employees'\n",
    "pd.read_sql('SELECT * FROM departments', url)\n",
    "While time is the most common interval used, the poisson distribution can also be used for intervals like distance, area, or volume. "
   ]
  }
 ],
 "metadata": {
  "kernelspec": {
   "display_name": "Python 3 (ipykernel)",
   "language": "python",
   "name": "python3"
  },
  "language_info": {
   "codemirror_mode": {
    "name": "ipython",
    "version": 3
   },
   "file_extension": ".py",
   "mimetype": "text/x-python",
   "name": "python",
   "nbconvert_exporter": "python",
   "pygments_lexer": "ipython3",
   "version": "3.9.12"
  }
 },
 "nbformat": 4,
 "nbformat_minor": 5
}
