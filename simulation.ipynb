{
 "cells": [
  {
   "cell_type": "markdown",
   "id": "4a99254b",
   "metadata": {},
   "source": [
    "# Exercises\n",
    "\n",
    "Using the repo setup directions, setup a new local and remote repository named `statistics-exercises`. The local version of your repo should live inside of `~/codeup-data-science`. This repo should be named `statistics-exercises`\n",
    "\n",
    "Do your work for this exercise in either a python file named `simulation.py` or a jupyter notebook named `simulation.ipynb`."
   ]
  },
  {
   "cell_type": "code",
   "execution_count": 1,
   "id": "69659942",
   "metadata": {},
   "outputs": [],
   "source": [
    "%matplotlib inline\n",
    "import numpy as np\n",
    "import pandas as pd\n",
    "\n",
    "import viz # curriculum example visualizations\n",
    "\n",
    "np.random.seed(29)"
   ]
  },
  {
   "cell_type": "markdown",
   "id": "8187b756",
   "metadata": {},
   "source": [
    "1. How likely is it that you roll doubles when rolling two dice?"
   ]
  },
  {
   "cell_type": "code",
   "execution_count": 3,
   "id": "90e9d5ef",
   "metadata": {},
   "outputs": [],
   "source": [
    "# define the possible outcomes\n",
    "outcomes = [1,2,3,4,5,6]\n",
    "\n",
    "# define the number of simulations\n",
    "n_sims = 100_000\n",
    "\n",
    "# define the number of trials\n",
    "n_trials = 2"
   ]
  },
  {
   "cell_type": "code",
   "execution_count": 4,
   "id": "c062fcbc",
   "metadata": {},
   "outputs": [
    {
     "data": {
      "text/plain": [
       "array([[6, 4],\n",
       "       [5, 6],\n",
       "       [3, 1],\n",
       "       ...,\n",
       "       [5, 6],\n",
       "       [5, 5],\n",
       "       [6, 5]])"
      ]
     },
     "execution_count": 4,
     "metadata": {},
     "output_type": "execute_result"
    }
   ],
   "source": [
    "rolls = np.random.choice(outcomes, (n_sims, n_trials))\n",
    "rolls"
   ]
  },
  {
   "cell_type": "code",
   "execution_count": 8,
   "id": "fa98925f",
   "metadata": {},
   "outputs": [
    {
     "data": {
      "text/html": [
       "<div>\n",
       "<style scoped>\n",
       "    .dataframe tbody tr th:only-of-type {\n",
       "        vertical-align: middle;\n",
       "    }\n",
       "\n",
       "    .dataframe tbody tr th {\n",
       "        vertical-align: top;\n",
       "    }\n",
       "\n",
       "    .dataframe thead th {\n",
       "        text-align: right;\n",
       "    }\n",
       "</style>\n",
       "<table border=\"1\" class=\"dataframe\">\n",
       "  <thead>\n",
       "    <tr style=\"text-align: right;\">\n",
       "      <th></th>\n",
       "      <th>0</th>\n",
       "      <th>1</th>\n",
       "    </tr>\n",
       "  </thead>\n",
       "  <tbody>\n",
       "    <tr>\n",
       "      <th>0</th>\n",
       "      <td>6</td>\n",
       "      <td>4</td>\n",
       "    </tr>\n",
       "    <tr>\n",
       "      <th>1</th>\n",
       "      <td>5</td>\n",
       "      <td>6</td>\n",
       "    </tr>\n",
       "    <tr>\n",
       "      <th>2</th>\n",
       "      <td>3</td>\n",
       "      <td>1</td>\n",
       "    </tr>\n",
       "    <tr>\n",
       "      <th>3</th>\n",
       "      <td>1</td>\n",
       "      <td>2</td>\n",
       "    </tr>\n",
       "    <tr>\n",
       "      <th>4</th>\n",
       "      <td>2</td>\n",
       "      <td>1</td>\n",
       "    </tr>\n",
       "    <tr>\n",
       "      <th>...</th>\n",
       "      <td>...</td>\n",
       "      <td>...</td>\n",
       "    </tr>\n",
       "    <tr>\n",
       "      <th>99995</th>\n",
       "      <td>3</td>\n",
       "      <td>5</td>\n",
       "    </tr>\n",
       "    <tr>\n",
       "      <th>99996</th>\n",
       "      <td>5</td>\n",
       "      <td>1</td>\n",
       "    </tr>\n",
       "    <tr>\n",
       "      <th>99997</th>\n",
       "      <td>5</td>\n",
       "      <td>6</td>\n",
       "    </tr>\n",
       "    <tr>\n",
       "      <th>99998</th>\n",
       "      <td>5</td>\n",
       "      <td>5</td>\n",
       "    </tr>\n",
       "    <tr>\n",
       "      <th>99999</th>\n",
       "      <td>6</td>\n",
       "      <td>5</td>\n",
       "    </tr>\n",
       "  </tbody>\n",
       "</table>\n",
       "<p>100000 rows × 2 columns</p>\n",
       "</div>"
      ],
      "text/plain": [
       "       0  1\n",
       "0      6  4\n",
       "1      5  6\n",
       "2      3  1\n",
       "3      1  2\n",
       "4      2  1\n",
       "...   .. ..\n",
       "99995  3  5\n",
       "99996  5  1\n",
       "99997  5  6\n",
       "99998  5  5\n",
       "99999  6  5\n",
       "\n",
       "[100000 rows x 2 columns]"
      ]
     },
     "execution_count": 8,
     "metadata": {},
     "output_type": "execute_result"
    }
   ],
   "source": [
    "rolls = pd.DataFrame(rolls)\n",
    "rolls"
   ]
  },
  {
   "cell_type": "code",
   "execution_count": 24,
   "id": "9e7bd2b5",
   "metadata": {},
   "outputs": [],
   "source": [
    "rolls.columns=['roll1', 'roll2']"
   ]
  },
  {
   "cell_type": "code",
   "execution_count": 26,
   "id": "de26b863",
   "metadata": {},
   "outputs": [
    {
     "data": {
      "text/html": [
       "<div>\n",
       "<style scoped>\n",
       "    .dataframe tbody tr th:only-of-type {\n",
       "        vertical-align: middle;\n",
       "    }\n",
       "\n",
       "    .dataframe tbody tr th {\n",
       "        vertical-align: top;\n",
       "    }\n",
       "\n",
       "    .dataframe thead th {\n",
       "        text-align: right;\n",
       "    }\n",
       "</style>\n",
       "<table border=\"1\" class=\"dataframe\">\n",
       "  <thead>\n",
       "    <tr style=\"text-align: right;\">\n",
       "      <th></th>\n",
       "      <th>roll1</th>\n",
       "      <th>roll2</th>\n",
       "    </tr>\n",
       "  </thead>\n",
       "  <tbody>\n",
       "    <tr>\n",
       "      <th>0</th>\n",
       "      <td>6</td>\n",
       "      <td>4</td>\n",
       "    </tr>\n",
       "    <tr>\n",
       "      <th>1</th>\n",
       "      <td>5</td>\n",
       "      <td>6</td>\n",
       "    </tr>\n",
       "    <tr>\n",
       "      <th>2</th>\n",
       "      <td>3</td>\n",
       "      <td>1</td>\n",
       "    </tr>\n",
       "    <tr>\n",
       "      <th>3</th>\n",
       "      <td>1</td>\n",
       "      <td>2</td>\n",
       "    </tr>\n",
       "    <tr>\n",
       "      <th>4</th>\n",
       "      <td>2</td>\n",
       "      <td>1</td>\n",
       "    </tr>\n",
       "    <tr>\n",
       "      <th>...</th>\n",
       "      <td>...</td>\n",
       "      <td>...</td>\n",
       "    </tr>\n",
       "    <tr>\n",
       "      <th>99995</th>\n",
       "      <td>3</td>\n",
       "      <td>5</td>\n",
       "    </tr>\n",
       "    <tr>\n",
       "      <th>99996</th>\n",
       "      <td>5</td>\n",
       "      <td>1</td>\n",
       "    </tr>\n",
       "    <tr>\n",
       "      <th>99997</th>\n",
       "      <td>5</td>\n",
       "      <td>6</td>\n",
       "    </tr>\n",
       "    <tr>\n",
       "      <th>99998</th>\n",
       "      <td>5</td>\n",
       "      <td>5</td>\n",
       "    </tr>\n",
       "    <tr>\n",
       "      <th>99999</th>\n",
       "      <td>6</td>\n",
       "      <td>5</td>\n",
       "    </tr>\n",
       "  </tbody>\n",
       "</table>\n",
       "<p>100000 rows × 2 columns</p>\n",
       "</div>"
      ],
      "text/plain": [
       "       roll1  roll2\n",
       "0          6      4\n",
       "1          5      6\n",
       "2          3      1\n",
       "3          1      2\n",
       "4          2      1\n",
       "...      ...    ...\n",
       "99995      3      5\n",
       "99996      5      1\n",
       "99997      5      6\n",
       "99998      5      5\n",
       "99999      6      5\n",
       "\n",
       "[100000 rows x 2 columns]"
      ]
     },
     "execution_count": 26,
     "metadata": {},
     "output_type": "execute_result"
    }
   ],
   "source": [
    "rolls"
   ]
  },
  {
   "cell_type": "code",
   "execution_count": 28,
   "id": "6c8ba00a",
   "metadata": {},
   "outputs": [
    {
     "data": {
      "text/html": [
       "<div>\n",
       "<style scoped>\n",
       "    .dataframe tbody tr th:only-of-type {\n",
       "        vertical-align: middle;\n",
       "    }\n",
       "\n",
       "    .dataframe tbody tr th {\n",
       "        vertical-align: top;\n",
       "    }\n",
       "\n",
       "    .dataframe thead th {\n",
       "        text-align: right;\n",
       "    }\n",
       "</style>\n",
       "<table border=\"1\" class=\"dataframe\">\n",
       "  <thead>\n",
       "    <tr style=\"text-align: right;\">\n",
       "      <th></th>\n",
       "      <th>roll1</th>\n",
       "      <th>roll2</th>\n",
       "    </tr>\n",
       "  </thead>\n",
       "  <tbody>\n",
       "    <tr>\n",
       "      <th>14</th>\n",
       "      <td>4</td>\n",
       "      <td>4</td>\n",
       "    </tr>\n",
       "    <tr>\n",
       "      <th>16</th>\n",
       "      <td>6</td>\n",
       "      <td>6</td>\n",
       "    </tr>\n",
       "    <tr>\n",
       "      <th>17</th>\n",
       "      <td>5</td>\n",
       "      <td>5</td>\n",
       "    </tr>\n",
       "    <tr>\n",
       "      <th>32</th>\n",
       "      <td>1</td>\n",
       "      <td>1</td>\n",
       "    </tr>\n",
       "    <tr>\n",
       "      <th>40</th>\n",
       "      <td>2</td>\n",
       "      <td>2</td>\n",
       "    </tr>\n",
       "    <tr>\n",
       "      <th>...</th>\n",
       "      <td>...</td>\n",
       "      <td>...</td>\n",
       "    </tr>\n",
       "    <tr>\n",
       "      <th>99972</th>\n",
       "      <td>2</td>\n",
       "      <td>2</td>\n",
       "    </tr>\n",
       "    <tr>\n",
       "      <th>99984</th>\n",
       "      <td>1</td>\n",
       "      <td>1</td>\n",
       "    </tr>\n",
       "    <tr>\n",
       "      <th>99990</th>\n",
       "      <td>6</td>\n",
       "      <td>6</td>\n",
       "    </tr>\n",
       "    <tr>\n",
       "      <th>99993</th>\n",
       "      <td>5</td>\n",
       "      <td>5</td>\n",
       "    </tr>\n",
       "    <tr>\n",
       "      <th>99998</th>\n",
       "      <td>5</td>\n",
       "      <td>5</td>\n",
       "    </tr>\n",
       "  </tbody>\n",
       "</table>\n",
       "<p>16645 rows × 2 columns</p>\n",
       "</div>"
      ],
      "text/plain": [
       "       roll1  roll2\n",
       "14         4      4\n",
       "16         6      6\n",
       "17         5      5\n",
       "32         1      1\n",
       "40         2      2\n",
       "...      ...    ...\n",
       "99972      2      2\n",
       "99984      1      1\n",
       "99990      6      6\n",
       "99993      5      5\n",
       "99998      5      5\n",
       "\n",
       "[16645 rows x 2 columns]"
      ]
     },
     "execution_count": 28,
     "metadata": {},
     "output_type": "execute_result"
    }
   ],
   "source": [
    "doubles = rolls[rolls['roll1'] == rolls['roll2']]\n",
    "doubles"
   ]
  },
  {
   "cell_type": "code",
   "execution_count": 31,
   "id": "aacab4ac",
   "metadata": {},
   "outputs": [],
   "source": [
    "class Percent(float):\n",
    "    def __str__(self):\n",
    "        return '{:.2%}'.format(self)\n",
    "    def __repr__(self):\n",
    "        return '{:.2%}'.format(self)"
   ]
  },
  {
   "cell_type": "code",
   "execution_count": 35,
   "id": "ab0d2eea",
   "metadata": {},
   "outputs": [
    {
     "name": "stdout",
     "output_type": "stream",
     "text": [
      "The experimental chance of rolling doubles when rolling 2 dice is 16.64%\n"
     ]
    }
   ],
   "source": [
    "print(f'The experimental chance of rolling doubles when rolling 2 dice is {Percent(len(doubles) / len(rolls))}')"
   ]
  },
  {
   "cell_type": "markdown",
   "id": "c466ba81",
   "metadata": {},
   "source": [
    "2. If you flip 8 coins, what is the probability of getting exactly 3 heads? What is the probability of getting more than 3 heads?"
   ]
  },
  {
   "cell_type": "code",
   "execution_count": 62,
   "id": "ae6f429a",
   "metadata": {},
   "outputs": [],
   "source": [
    "# set up the experiment\n",
    "# define the possible outcomes\n",
    "outcomes = [1,0]\n",
    "\n",
    "# define the number of simulations\n",
    "n_sims = 100_000\n",
    "\n",
    "# define the number of trials\n",
    "n_trials = 8\n",
    "\n",
    "n_heads = 3"
   ]
  },
  {
   "cell_type": "code",
   "execution_count": 50,
   "id": "0fb5c79b",
   "metadata": {},
   "outputs": [
    {
     "data": {
      "text/plain": [
       "array([[1, 1, 1, ..., 0, 0, 0],\n",
       "       [0, 0, 0, ..., 1, 1, 0],\n",
       "       [1, 0, 0, ..., 1, 1, 1],\n",
       "       ...,\n",
       "       [1, 1, 0, ..., 0, 1, 0],\n",
       "       [1, 1, 0, ..., 1, 1, 1],\n",
       "       [0, 0, 1, ..., 1, 0, 1]])"
      ]
     },
     "execution_count": 50,
     "metadata": {},
     "output_type": "execute_result"
    }
   ],
   "source": [
    "flips = np.random.choice(outcomes, (n_sims, n_trials))\n",
    "flips"
   ]
  },
  {
   "cell_type": "code",
   "execution_count": 51,
   "id": "1956b051",
   "metadata": {},
   "outputs": [
    {
     "data": {
      "text/html": [
       "<div>\n",
       "<style scoped>\n",
       "    .dataframe tbody tr th:only-of-type {\n",
       "        vertical-align: middle;\n",
       "    }\n",
       "\n",
       "    .dataframe tbody tr th {\n",
       "        vertical-align: top;\n",
       "    }\n",
       "\n",
       "    .dataframe thead th {\n",
       "        text-align: right;\n",
       "    }\n",
       "</style>\n",
       "<table border=\"1\" class=\"dataframe\">\n",
       "  <thead>\n",
       "    <tr style=\"text-align: right;\">\n",
       "      <th></th>\n",
       "      <th>0</th>\n",
       "      <th>1</th>\n",
       "      <th>2</th>\n",
       "      <th>3</th>\n",
       "      <th>4</th>\n",
       "      <th>5</th>\n",
       "      <th>6</th>\n",
       "      <th>7</th>\n",
       "    </tr>\n",
       "  </thead>\n",
       "  <tbody>\n",
       "    <tr>\n",
       "      <th>0</th>\n",
       "      <td>1</td>\n",
       "      <td>1</td>\n",
       "      <td>1</td>\n",
       "      <td>1</td>\n",
       "      <td>1</td>\n",
       "      <td>0</td>\n",
       "      <td>0</td>\n",
       "      <td>0</td>\n",
       "    </tr>\n",
       "    <tr>\n",
       "      <th>1</th>\n",
       "      <td>0</td>\n",
       "      <td>0</td>\n",
       "      <td>0</td>\n",
       "      <td>0</td>\n",
       "      <td>1</td>\n",
       "      <td>1</td>\n",
       "      <td>1</td>\n",
       "      <td>0</td>\n",
       "    </tr>\n",
       "    <tr>\n",
       "      <th>2</th>\n",
       "      <td>1</td>\n",
       "      <td>0</td>\n",
       "      <td>0</td>\n",
       "      <td>1</td>\n",
       "      <td>1</td>\n",
       "      <td>1</td>\n",
       "      <td>1</td>\n",
       "      <td>1</td>\n",
       "    </tr>\n",
       "    <tr>\n",
       "      <th>3</th>\n",
       "      <td>0</td>\n",
       "      <td>0</td>\n",
       "      <td>1</td>\n",
       "      <td>1</td>\n",
       "      <td>1</td>\n",
       "      <td>1</td>\n",
       "      <td>0</td>\n",
       "      <td>1</td>\n",
       "    </tr>\n",
       "    <tr>\n",
       "      <th>4</th>\n",
       "      <td>1</td>\n",
       "      <td>1</td>\n",
       "      <td>0</td>\n",
       "      <td>0</td>\n",
       "      <td>0</td>\n",
       "      <td>1</td>\n",
       "      <td>1</td>\n",
       "      <td>0</td>\n",
       "    </tr>\n",
       "    <tr>\n",
       "      <th>...</th>\n",
       "      <td>...</td>\n",
       "      <td>...</td>\n",
       "      <td>...</td>\n",
       "      <td>...</td>\n",
       "      <td>...</td>\n",
       "      <td>...</td>\n",
       "      <td>...</td>\n",
       "      <td>...</td>\n",
       "    </tr>\n",
       "    <tr>\n",
       "      <th>99995</th>\n",
       "      <td>0</td>\n",
       "      <td>0</td>\n",
       "      <td>1</td>\n",
       "      <td>1</td>\n",
       "      <td>1</td>\n",
       "      <td>1</td>\n",
       "      <td>1</td>\n",
       "      <td>1</td>\n",
       "    </tr>\n",
       "    <tr>\n",
       "      <th>99996</th>\n",
       "      <td>0</td>\n",
       "      <td>1</td>\n",
       "      <td>1</td>\n",
       "      <td>1</td>\n",
       "      <td>0</td>\n",
       "      <td>1</td>\n",
       "      <td>1</td>\n",
       "      <td>1</td>\n",
       "    </tr>\n",
       "    <tr>\n",
       "      <th>99997</th>\n",
       "      <td>1</td>\n",
       "      <td>1</td>\n",
       "      <td>0</td>\n",
       "      <td>1</td>\n",
       "      <td>1</td>\n",
       "      <td>0</td>\n",
       "      <td>1</td>\n",
       "      <td>0</td>\n",
       "    </tr>\n",
       "    <tr>\n",
       "      <th>99998</th>\n",
       "      <td>1</td>\n",
       "      <td>1</td>\n",
       "      <td>0</td>\n",
       "      <td>0</td>\n",
       "      <td>0</td>\n",
       "      <td>1</td>\n",
       "      <td>1</td>\n",
       "      <td>1</td>\n",
       "    </tr>\n",
       "    <tr>\n",
       "      <th>99999</th>\n",
       "      <td>0</td>\n",
       "      <td>0</td>\n",
       "      <td>1</td>\n",
       "      <td>0</td>\n",
       "      <td>0</td>\n",
       "      <td>1</td>\n",
       "      <td>0</td>\n",
       "      <td>1</td>\n",
       "    </tr>\n",
       "  </tbody>\n",
       "</table>\n",
       "<p>100000 rows × 8 columns</p>\n",
       "</div>"
      ],
      "text/plain": [
       "       0  1  2  3  4  5  6  7\n",
       "0      1  1  1  1  1  0  0  0\n",
       "1      0  0  0  0  1  1  1  0\n",
       "2      1  0  0  1  1  1  1  1\n",
       "3      0  0  1  1  1  1  0  1\n",
       "4      1  1  0  0  0  1  1  0\n",
       "...   .. .. .. .. .. .. .. ..\n",
       "99995  0  0  1  1  1  1  1  1\n",
       "99996  0  1  1  1  0  1  1  1\n",
       "99997  1  1  0  1  1  0  1  0\n",
       "99998  1  1  0  0  0  1  1  1\n",
       "99999  0  0  1  0  0  1  0  1\n",
       "\n",
       "[100000 rows x 8 columns]"
      ]
     },
     "execution_count": 51,
     "metadata": {},
     "output_type": "execute_result"
    }
   ],
   "source": [
    "flips_df = pd.DataFrame(flips)\n",
    "flips_df"
   ]
  },
  {
   "cell_type": "code",
   "execution_count": 53,
   "id": "2d614f4f",
   "metadata": {},
   "outputs": [
    {
     "data": {
      "text/plain": [
       "0        5\n",
       "1        3\n",
       "2        6\n",
       "3        5\n",
       "4        4\n",
       "        ..\n",
       "99995    6\n",
       "99996    6\n",
       "99997    5\n",
       "99998    5\n",
       "99999    3\n",
       "Length: 100000, dtype: int64"
      ]
     },
     "execution_count": 53,
     "metadata": {},
     "output_type": "execute_result"
    }
   ],
   "source": [
    "flips_df.sum(axis=1)"
   ]
  },
  {
   "cell_type": "code",
   "execution_count": 55,
   "id": "bd550e10",
   "metadata": {},
   "outputs": [
    {
     "data": {
      "text/plain": [
       "0         True\n",
       "1        False\n",
       "2         True\n",
       "3         True\n",
       "4         True\n",
       "         ...  \n",
       "99995     True\n",
       "99996     True\n",
       "99997     True\n",
       "99998     True\n",
       "99999    False\n",
       "Length: 100000, dtype: bool"
      ]
     },
     "execution_count": 55,
     "metadata": {},
     "output_type": "execute_result"
    }
   ],
   "source": [
    "flips_df.sum(axis=1)>3"
   ]
  },
  {
   "cell_type": "code",
   "execution_count": 56,
   "id": "c9c03253",
   "metadata": {},
   "outputs": [],
   "source": [
    "more_than_3_heads = (flips_df.sum(axis=1)>3).sum()"
   ]
  },
  {
   "cell_type": "code",
   "execution_count": 58,
   "id": "390d3133",
   "metadata": {},
   "outputs": [
    {
     "data": {
      "text/plain": [
       "63870"
      ]
     },
     "execution_count": 58,
     "metadata": {},
     "output_type": "execute_result"
    }
   ],
   "source": [
    "more_than_3_heads"
   ]
  },
  {
   "cell_type": "code",
   "execution_count": 66,
   "id": "833493df",
   "metadata": {},
   "outputs": [],
   "source": [
    "chance_more_than_3 = more_than_3_heads/len(flips_df)"
   ]
  },
  {
   "cell_type": "code",
   "execution_count": 60,
   "id": "04568f72",
   "metadata": {},
   "outputs": [
    {
     "data": {
      "text/plain": [
       "21797"
      ]
     },
     "execution_count": 60,
     "metadata": {},
     "output_type": "execute_result"
    }
   ],
   "source": [
    "three_heads = (flips_df.sum(axis=1)==3).sum()\n",
    "three_heads"
   ]
  },
  {
   "cell_type": "code",
   "execution_count": 61,
   "id": "6ccdf4d2",
   "metadata": {},
   "outputs": [
    {
     "data": {
      "text/plain": [
       "0.21797"
      ]
     },
     "execution_count": 61,
     "metadata": {},
     "output_type": "execute_result"
    }
   ],
   "source": [
    "chance_three_heads = three_heads / len(flips_df)\n",
    "chance_three_heads"
   ]
  },
  {
   "cell_type": "code",
   "execution_count": 65,
   "id": "38c23cd3",
   "metadata": {},
   "outputs": [
    {
     "name": "stdout",
     "output_type": "stream",
     "text": [
      "The experimental chance of getting exactly\n",
      "\n",
      "3 heads\n",
      "\n",
      "when flipping a coin 8 times\n",
      "\n",
      "after 100000 simulations is:\n",
      "\n",
      "21.80%\n",
      "\n"
     ]
    }
   ],
   "source": [
    "print(f'''The experimental chance of getting exactly\n",
    "\n",
    "{n_heads} heads\n",
    "\n",
    "when flipping a coin {n_trials} times\n",
    "\n",
    "after {n_sims} simulations is:\n",
    "\n",
    "{Percent(chance_three_heads)}\n",
    "''')"
   ]
  },
  {
   "cell_type": "code",
   "execution_count": 46,
   "id": "d8c71419",
   "metadata": {},
   "outputs": [],
   "source": [
    "flips_df.to_csv('flips_eight.csv')"
   ]
  },
  {
   "cell_type": "code",
   "execution_count": 67,
   "id": "97f451c2",
   "metadata": {},
   "outputs": [
    {
     "name": "stdout",
     "output_type": "stream",
     "text": [
      "The experimental chance of getting more than\n",
      "\n",
      "3 heads\n",
      "\n",
      "when flipping a coin 8 times\n",
      "\n",
      "after 100000 simulations is:\n",
      "\n",
      "63.87%\n",
      "\n"
     ]
    }
   ],
   "source": [
    "print(f'''The experimental chance of getting more than\n",
    "\n",
    "{n_heads} heads\n",
    "\n",
    "when flipping a coin {n_trials} times\n",
    "\n",
    "after {n_sims} simulations is:\n",
    "\n",
    "{Percent(chance_more_than_3)}\n",
    "''')"
   ]
  },
  {
   "cell_type": "code",
   "execution_count": null,
   "id": "533cdcf9",
   "metadata": {},
   "outputs": [],
   "source": []
  },
  {
   "cell_type": "markdown",
   "id": "3f1d374c",
   "metadata": {},
   "source": [
    "3. There are approximitely 3 web development cohorts for every 1 data science cohort at Codeup. Assuming that Codeup randomly selects an alumni to put on a billboard, what are the odds that the two billboards I drive past both have data science students on them?"
   ]
  },
  {
   "cell_type": "code",
   "execution_count": 68,
   "id": "5ac67668",
   "metadata": {},
   "outputs": [],
   "source": [
    "# setup the experiment\n",
    "# define the outcomes\n",
    "outcomes = ['web','web','web','DS']\n",
    "\n",
    "# define the number of simulations\n",
    "n_sims = 100_000\n",
    "\n",
    "# define the number of trials\n",
    "n_trials = 2\n"
   ]
  },
  {
   "cell_type": "code",
   "execution_count": 69,
   "id": "497f7cae",
   "metadata": {},
   "outputs": [
    {
     "data": {
      "text/plain": [
       "array([['web', 'DS'],\n",
       "       ['DS', 'web'],\n",
       "       ['web', 'web'],\n",
       "       ...,\n",
       "       ['DS', 'web'],\n",
       "       ['web', 'web'],\n",
       "       ['web', 'web']], dtype='<U3')"
      ]
     },
     "execution_count": 69,
     "metadata": {},
     "output_type": "execute_result"
    }
   ],
   "source": [
    "billboards = np.random.choice(outcomes, (n_sims, n_trials))\n",
    "billboards"
   ]
  },
  {
   "cell_type": "code",
   "execution_count": 71,
   "id": "c59f601a",
   "metadata": {},
   "outputs": [],
   "source": [
    "billboards_df = pd.DataFrame(billboards)"
   ]
  },
  {
   "cell_type": "code",
   "execution_count": 77,
   "id": "cca5d6a0",
   "metadata": {},
   "outputs": [
    {
     "data": {
      "text/plain": [
       "0        web\n",
       "1         DS\n",
       "2        web\n",
       "3         DS\n",
       "4        web\n",
       "        ... \n",
       "99995    web\n",
       "99996     DS\n",
       "99997     DS\n",
       "99998    web\n",
       "99999    web\n",
       "Name: 0, Length: 100000, dtype: object"
      ]
     },
     "execution_count": 77,
     "metadata": {},
     "output_type": "execute_result"
    }
   ],
   "source": [
    "billboards_df[0]"
   ]
  },
  {
   "cell_type": "code",
   "execution_count": 80,
   "id": "ac355fdf",
   "metadata": {},
   "outputs": [],
   "source": [
    "bills_both_ds = billboards_df[(billboards_df[0] == 'DS') & (billboards_df[1] == 'DS')]"
   ]
  },
  {
   "cell_type": "code",
   "execution_count": 81,
   "id": "1c78be20",
   "metadata": {},
   "outputs": [
    {
     "name": "stdout",
     "output_type": "stream",
     "text": [
      "\n",
      "The experimental chance of \n",
      "\n",
      "both Billboards having Data Science alumni,\n",
      "\n",
      "if they are chosen randomly, and assuming\n",
      "\n",
      "class sizes are fairly simular with 3 times \n",
      "\n",
      "as many Web Dev classes is: 6.37%\n",
      "\n"
     ]
    }
   ],
   "source": [
    "chance_of_both_ds = len(bills_both_ds) / len(billboards_df)\n",
    "\n",
    "print(f'''\n",
    "The experimental chance of \n",
    "\n",
    "both Billboards having Data Science alumni,\n",
    "\n",
    "if they are chosen randomly, and assuming\n",
    "\n",
    "class sizes are fairly simular with 3 times \n",
    "\n",
    "as many Web Dev classes is: {Percent(chance_of_both_ds)}\n",
    "''')"
   ]
  },
  {
   "cell_type": "markdown",
   "id": "fbe405ae",
   "metadata": {},
   "source": [
    "4. Codeup students buy, on average, 3 poptart packages with a standard deviation of 1.5 a day from the snack vending machine. If on monday the machine is restocked with 17 poptart packages, how likely is it that I will be able to buy some poptarts on Friday afternoon? (Remember, if you have mean and standard deviation, use the np.random.normal) You'll need to make a judgement call on how to handle some of your values"
   ]
  },
  {
   "cell_type": "code",
   "execution_count": 88,
   "id": "b9571482",
   "metadata": {},
   "outputs": [],
   "source": [
    "# let's get set up\n",
    "# set the average and std\n",
    "\n",
    "average_tarts = 3\n",
    "\n",
    "std_tarts = 1.5\n",
    "\n",
    "n_sims = 100_000\n",
    "\n",
    "start_tarts = 17\n",
    "\n",
    "days = 5"
   ]
  },
  {
   "cell_type": "code",
   "execution_count": 96,
   "id": "765a37d8",
   "metadata": {},
   "outputs": [
    {
     "data": {
      "text/html": [
       "<div>\n",
       "<style scoped>\n",
       "    .dataframe tbody tr th:only-of-type {\n",
       "        vertical-align: middle;\n",
       "    }\n",
       "\n",
       "    .dataframe tbody tr th {\n",
       "        vertical-align: top;\n",
       "    }\n",
       "\n",
       "    .dataframe thead th {\n",
       "        text-align: right;\n",
       "    }\n",
       "</style>\n",
       "<table border=\"1\" class=\"dataframe\">\n",
       "  <thead>\n",
       "    <tr style=\"text-align: right;\">\n",
       "      <th></th>\n",
       "      <th>day_1</th>\n",
       "      <th>day_2</th>\n",
       "      <th>day_3</th>\n",
       "      <th>day_4</th>\n",
       "      <th>day_5</th>\n",
       "    </tr>\n",
       "  </thead>\n",
       "  <tbody>\n",
       "    <tr>\n",
       "      <th>0</th>\n",
       "      <td>2.001760</td>\n",
       "      <td>2.403000</td>\n",
       "      <td>1.131766</td>\n",
       "      <td>4.649644</td>\n",
       "      <td>0.931287</td>\n",
       "    </tr>\n",
       "    <tr>\n",
       "      <th>1</th>\n",
       "      <td>0.437268</td>\n",
       "      <td>-0.305367</td>\n",
       "      <td>2.953083</td>\n",
       "      <td>0.763859</td>\n",
       "      <td>2.801115</td>\n",
       "    </tr>\n",
       "    <tr>\n",
       "      <th>2</th>\n",
       "      <td>2.145039</td>\n",
       "      <td>2.908359</td>\n",
       "      <td>3.939701</td>\n",
       "      <td>1.854442</td>\n",
       "      <td>3.854953</td>\n",
       "    </tr>\n",
       "    <tr>\n",
       "      <th>3</th>\n",
       "      <td>3.635148</td>\n",
       "      <td>-1.041474</td>\n",
       "      <td>2.905370</td>\n",
       "      <td>5.049475</td>\n",
       "      <td>4.710089</td>\n",
       "    </tr>\n",
       "    <tr>\n",
       "      <th>4</th>\n",
       "      <td>2.868999</td>\n",
       "      <td>3.851799</td>\n",
       "      <td>1.223297</td>\n",
       "      <td>4.236980</td>\n",
       "      <td>0.121004</td>\n",
       "    </tr>\n",
       "    <tr>\n",
       "      <th>...</th>\n",
       "      <td>...</td>\n",
       "      <td>...</td>\n",
       "      <td>...</td>\n",
       "      <td>...</td>\n",
       "      <td>...</td>\n",
       "    </tr>\n",
       "    <tr>\n",
       "      <th>99995</th>\n",
       "      <td>2.327262</td>\n",
       "      <td>5.742318</td>\n",
       "      <td>1.615623</td>\n",
       "      <td>3.202065</td>\n",
       "      <td>1.567706</td>\n",
       "    </tr>\n",
       "    <tr>\n",
       "      <th>99996</th>\n",
       "      <td>4.501666</td>\n",
       "      <td>4.357035</td>\n",
       "      <td>3.336938</td>\n",
       "      <td>1.754420</td>\n",
       "      <td>7.071648</td>\n",
       "    </tr>\n",
       "    <tr>\n",
       "      <th>99997</th>\n",
       "      <td>1.251647</td>\n",
       "      <td>3.361295</td>\n",
       "      <td>4.113088</td>\n",
       "      <td>0.093813</td>\n",
       "      <td>3.532392</td>\n",
       "    </tr>\n",
       "    <tr>\n",
       "      <th>99998</th>\n",
       "      <td>2.381362</td>\n",
       "      <td>4.829221</td>\n",
       "      <td>1.423411</td>\n",
       "      <td>2.727969</td>\n",
       "      <td>2.884980</td>\n",
       "    </tr>\n",
       "    <tr>\n",
       "      <th>99999</th>\n",
       "      <td>5.893195</td>\n",
       "      <td>3.904364</td>\n",
       "      <td>1.490692</td>\n",
       "      <td>1.109456</td>\n",
       "      <td>4.829435</td>\n",
       "    </tr>\n",
       "  </tbody>\n",
       "</table>\n",
       "<p>100000 rows × 5 columns</p>\n",
       "</div>"
      ],
      "text/plain": [
       "          day_1     day_2     day_3     day_4     day_5\n",
       "0      2.001760  2.403000  1.131766  4.649644  0.931287\n",
       "1      0.437268 -0.305367  2.953083  0.763859  2.801115\n",
       "2      2.145039  2.908359  3.939701  1.854442  3.854953\n",
       "3      3.635148 -1.041474  2.905370  5.049475  4.710089\n",
       "4      2.868999  3.851799  1.223297  4.236980  0.121004\n",
       "...         ...       ...       ...       ...       ...\n",
       "99995  2.327262  5.742318  1.615623  3.202065  1.567706\n",
       "99996  4.501666  4.357035  3.336938  1.754420  7.071648\n",
       "99997  1.251647  3.361295  4.113088  0.093813  3.532392\n",
       "99998  2.381362  4.829221  1.423411  2.727969  2.884980\n",
       "99999  5.893195  3.904364  1.490692  1.109456  4.829435\n",
       "\n",
       "[100000 rows x 5 columns]"
      ]
     },
     "execution_count": 96,
     "metadata": {},
     "output_type": "execute_result"
    }
   ],
   "source": [
    "tart_day_df = []\n",
    "tart_day_df = pd.DataFrame(tart_day_df)\n",
    "for i in range(1,6):\n",
    "    tart_day_df[f'day_{i}'] = pd.Series(np.random.normal(average_tarts, std_tarts, size = n_sims))\n",
    "    \n",
    "tart_day_df"
   ]
  },
  {
   "cell_type": "code",
   "execution_count": 98,
   "id": "6fe36a8d",
   "metadata": {},
   "outputs": [
    {
     "data": {
      "text/html": [
       "<div>\n",
       "<style scoped>\n",
       "    .dataframe tbody tr th:only-of-type {\n",
       "        vertical-align: middle;\n",
       "    }\n",
       "\n",
       "    .dataframe tbody tr th {\n",
       "        vertical-align: top;\n",
       "    }\n",
       "\n",
       "    .dataframe thead th {\n",
       "        text-align: right;\n",
       "    }\n",
       "</style>\n",
       "<table border=\"1\" class=\"dataframe\">\n",
       "  <thead>\n",
       "    <tr style=\"text-align: right;\">\n",
       "      <th></th>\n",
       "      <th>0</th>\n",
       "      <th>1</th>\n",
       "      <th>2</th>\n",
       "      <th>3</th>\n",
       "      <th>4</th>\n",
       "    </tr>\n",
       "  </thead>\n",
       "  <tbody>\n",
       "    <tr>\n",
       "      <th>0</th>\n",
       "      <td>1.391557</td>\n",
       "      <td>3.547353</td>\n",
       "      <td>2.196770</td>\n",
       "      <td>0.530197</td>\n",
       "      <td>3.804988</td>\n",
       "    </tr>\n",
       "    <tr>\n",
       "      <th>1</th>\n",
       "      <td>3.184853</td>\n",
       "      <td>3.557854</td>\n",
       "      <td>3.904312</td>\n",
       "      <td>1.375761</td>\n",
       "      <td>2.526878</td>\n",
       "    </tr>\n",
       "    <tr>\n",
       "      <th>2</th>\n",
       "      <td>4.019302</td>\n",
       "      <td>4.319118</td>\n",
       "      <td>1.916003</td>\n",
       "      <td>3.544466</td>\n",
       "      <td>0.807391</td>\n",
       "    </tr>\n",
       "    <tr>\n",
       "      <th>3</th>\n",
       "      <td>4.325610</td>\n",
       "      <td>0.017281</td>\n",
       "      <td>4.973648</td>\n",
       "      <td>3.832555</td>\n",
       "      <td>2.141827</td>\n",
       "    </tr>\n",
       "    <tr>\n",
       "      <th>4</th>\n",
       "      <td>3.172564</td>\n",
       "      <td>3.629927</td>\n",
       "      <td>1.921441</td>\n",
       "      <td>2.098063</td>\n",
       "      <td>5.021935</td>\n",
       "    </tr>\n",
       "    <tr>\n",
       "      <th>...</th>\n",
       "      <td>...</td>\n",
       "      <td>...</td>\n",
       "      <td>...</td>\n",
       "      <td>...</td>\n",
       "      <td>...</td>\n",
       "    </tr>\n",
       "    <tr>\n",
       "      <th>99995</th>\n",
       "      <td>3.172344</td>\n",
       "      <td>2.837669</td>\n",
       "      <td>3.464653</td>\n",
       "      <td>4.278032</td>\n",
       "      <td>3.912513</td>\n",
       "    </tr>\n",
       "    <tr>\n",
       "      <th>99996</th>\n",
       "      <td>3.895868</td>\n",
       "      <td>4.309488</td>\n",
       "      <td>2.518988</td>\n",
       "      <td>2.201708</td>\n",
       "      <td>3.384971</td>\n",
       "    </tr>\n",
       "    <tr>\n",
       "      <th>99997</th>\n",
       "      <td>3.189470</td>\n",
       "      <td>4.820361</td>\n",
       "      <td>3.154341</td>\n",
       "      <td>3.704210</td>\n",
       "      <td>3.659003</td>\n",
       "    </tr>\n",
       "    <tr>\n",
       "      <th>99998</th>\n",
       "      <td>4.928662</td>\n",
       "      <td>2.600177</td>\n",
       "      <td>5.203094</td>\n",
       "      <td>5.054176</td>\n",
       "      <td>1.288524</td>\n",
       "    </tr>\n",
       "    <tr>\n",
       "      <th>99999</th>\n",
       "      <td>3.622859</td>\n",
       "      <td>4.044278</td>\n",
       "      <td>3.003904</td>\n",
       "      <td>0.424773</td>\n",
       "      <td>3.556270</td>\n",
       "    </tr>\n",
       "  </tbody>\n",
       "</table>\n",
       "<p>100000 rows × 5 columns</p>\n",
       "</div>"
      ],
      "text/plain": [
       "              0         1         2         3         4\n",
       "0      1.391557  3.547353  2.196770  0.530197  3.804988\n",
       "1      3.184853  3.557854  3.904312  1.375761  2.526878\n",
       "2      4.019302  4.319118  1.916003  3.544466  0.807391\n",
       "3      4.325610  0.017281  4.973648  3.832555  2.141827\n",
       "4      3.172564  3.629927  1.921441  2.098063  5.021935\n",
       "...         ...       ...       ...       ...       ...\n",
       "99995  3.172344  2.837669  3.464653  4.278032  3.912513\n",
       "99996  3.895868  4.309488  2.518988  2.201708  3.384971\n",
       "99997  3.189470  4.820361  3.154341  3.704210  3.659003\n",
       "99998  4.928662  2.600177  5.203094  5.054176  1.288524\n",
       "99999  3.622859  4.044278  3.003904  0.424773  3.556270\n",
       "\n",
       "[100000 rows x 5 columns]"
      ]
     },
     "execution_count": 98,
     "metadata": {},
     "output_type": "execute_result"
    }
   ],
   "source": [
    "tart_day = pd.DataFrame(np.random.normal(average_tarts, std_tarts, size = (n_sims, days)))\n",
    "tart_day"
   ]
  },
  {
   "cell_type": "code",
   "execution_count": 99,
   "id": "2b6ef4cd",
   "metadata": {},
   "outputs": [
    {
     "data": {
      "text/plain": [
       "0        11.117457\n",
       "1         6.649958\n",
       "2        14.702494\n",
       "3        15.258608\n",
       "4        12.302078\n",
       "           ...    \n",
       "99995    14.454973\n",
       "99996    21.021706\n",
       "99997    12.352235\n",
       "99998    14.246943\n",
       "99999    17.227142\n",
       "Length: 100000, dtype: float64"
      ]
     },
     "execution_count": 99,
     "metadata": {},
     "output_type": "execute_result"
    }
   ],
   "source": [
    "tart_day_df.sum(axis=1)"
   ]
  },
  {
   "cell_type": "code",
   "execution_count": 102,
   "id": "12c85a1e",
   "metadata": {},
   "outputs": [],
   "source": [
    "bought_17 = tart_day_df.sum(axis=1)>=17"
   ]
  },
  {
   "cell_type": "code",
   "execution_count": 105,
   "id": "517e5cdf",
   "metadata": {},
   "outputs": [],
   "source": [
    "# the length of bought_17 where bought_17 is True\n",
    "# divided by the length of tart_day_df\n",
    "sold_out = len(bought_17[bought_17])/len(tart_day_df)"
   ]
  },
  {
   "cell_type": "code",
   "execution_count": 110,
   "id": "15103a93",
   "metadata": {},
   "outputs": [
    {
     "name": "stdout",
     "output_type": "stream",
     "text": [
      "\n",
      "The number of times the vending machine sold out\n",
      "\n",
      "after running 100000 simulations/day over the course of 5 days\n",
      "\n",
      "is 27464 which is 27.46% of the time.\n",
      "\n",
      "This means by the end of the day on Friday, one might expect\n",
      "\n",
      "to still be able to buy a poptart about 72.54% of the time.\n",
      "\n"
     ]
    }
   ],
   "source": [
    "print(\n",
    "f'''\n",
    "The number of times the vending machine sold out\n",
    "\n",
    "after running {n_sims} simulations/day over the course of {days} days\n",
    "\n",
    "is {len(bought_17[bought_17])} which is {Percent(sold_out)} of the time.\n",
    "\n",
    "This means by the end of the day on Friday, one might expect\n",
    "\n",
    "to still be able to buy a poptart about {Percent(1-sold_out)} of the time.\n",
    "''')"
   ]
  },
  {
   "cell_type": "code",
   "execution_count": null,
   "id": "99e75e89",
   "metadata": {},
   "outputs": [],
   "source": []
  },
  {
   "cell_type": "markdown",
   "id": "97e06094",
   "metadata": {},
   "source": [
    "5. Compare Heights\n",
    "\n",
    "- Men have an average height of 178 cm and standard deviation of 8cm.\n",
    "- Women have a mean of 170, sd = 6cm.\n",
    "- Since you have means and standard deviations, you can use np.random.normal to generate observations.\n",
    "- If a man and woman are chosen at random, what is the likelihood the woman is taller than the man?"
   ]
  },
  {
   "cell_type": "code",
   "execution_count": 111,
   "id": "176433cd",
   "metadata": {},
   "outputs": [],
   "source": [
    "# set up the experiment\n",
    "# set the variables\n",
    "\n",
    "# men's average height and standard deviation\n",
    "man_avg = 178\n",
    "\n",
    "man_std = 8\n",
    "\n",
    "woman_avg = 170\n",
    "\n",
    "woman_std = 6\n",
    "\n",
    "n_sims = 100_000\n",
    "\n"
   ]
  },
  {
   "cell_type": "code",
   "execution_count": 187,
   "id": "cf6c9b35",
   "metadata": {},
   "outputs": [],
   "source": [
    "import matplotlib.pyplot as plt"
   ]
  },
  {
   "cell_type": "code",
   "execution_count": 188,
   "id": "814f6b5c",
   "metadata": {},
   "outputs": [
    {
     "data": {
      "text/plain": [
       "<function matplotlib.pyplot.show(close=None, block=None)>"
      ]
     },
     "execution_count": 188,
     "metadata": {},
     "output_type": "execute_result"
    },
    {
     "data": {
      "image/png": "[encoded data removed]",
      "text/plain": [
       "<Figure size 648x432 with 1 Axes>"
      ]
     },
     "metadata": {
      "needs_background": "light"
     },
     "output_type": "display_data"
    }
   ],
   "source": [
    "pd.Series(np.random.normal(man_avg, man_std, n_sims)).hist()\n",
    "plt.title('Heights of 100,000 Random Men')\n",
    "plt.show"
   ]
  },
  {
   "cell_type": "code",
   "execution_count": 113,
   "id": "c9bef1a9",
   "metadata": {},
   "outputs": [
    {
     "data": {
      "text/plain": [
       "<AxesSubplot:>"
      ]
     },
     "execution_count": 113,
     "metadata": {},
     "output_type": "execute_result"
    },
    {
     "data": {
      "image/png": "[encoded data removed]",
      "text/plain": [
       "<Figure size 648x432 with 1 Axes>"
      ]
     },
     "metadata": {
      "needs_background": "light"
     },
     "output_type": "display_data"
    }
   ],
   "source": [
    "pd.Series(np.random.normal(woman_avg,woman_std,n_sims)).hist()"
   ]
  },
  {
   "cell_type": "code",
   "execution_count": 114,
   "id": "f74beb01",
   "metadata": {},
   "outputs": [],
   "source": [
    "men = pd.Series(np.random.normal(man_avg, man_std, n_sims))\n",
    "women = pd.Series(np.random.normal(woman_avg,woman_std,n_sims))"
   ]
  },
  {
   "cell_type": "code",
   "execution_count": 116,
   "id": "48a0e664",
   "metadata": {},
   "outputs": [],
   "source": [
    "pairs = pd.DataFrame({'men': men, 'women': women})"
   ]
  },
  {
   "cell_type": "code",
   "execution_count": 117,
   "id": "51b2d795",
   "metadata": {},
   "outputs": [
    {
     "data": {
      "text/html": [
       "<div>\n",
       "<style scoped>\n",
       "    .dataframe tbody tr th:only-of-type {\n",
       "        vertical-align: middle;\n",
       "    }\n",
       "\n",
       "    .dataframe tbody tr th {\n",
       "        vertical-align: top;\n",
       "    }\n",
       "\n",
       "    .dataframe thead th {\n",
       "        text-align: right;\n",
       "    }\n",
       "</style>\n",
       "<table border=\"1\" class=\"dataframe\">\n",
       "  <thead>\n",
       "    <tr style=\"text-align: right;\">\n",
       "      <th></th>\n",
       "      <th>men</th>\n",
       "      <th>women</th>\n",
       "    </tr>\n",
       "  </thead>\n",
       "  <tbody>\n",
       "    <tr>\n",
       "      <th>0</th>\n",
       "      <td>170.064200</td>\n",
       "      <td>165.476263</td>\n",
       "    </tr>\n",
       "    <tr>\n",
       "      <th>1</th>\n",
       "      <td>183.214993</td>\n",
       "      <td>169.176461</td>\n",
       "    </tr>\n",
       "    <tr>\n",
       "      <th>2</th>\n",
       "      <td>188.541722</td>\n",
       "      <td>176.187425</td>\n",
       "    </tr>\n",
       "    <tr>\n",
       "      <th>3</th>\n",
       "      <td>188.170371</td>\n",
       "      <td>177.213136</td>\n",
       "    </tr>\n",
       "    <tr>\n",
       "      <th>4</th>\n",
       "      <td>169.211538</td>\n",
       "      <td>179.174854</td>\n",
       "    </tr>\n",
       "    <tr>\n",
       "      <th>...</th>\n",
       "      <td>...</td>\n",
       "      <td>...</td>\n",
       "    </tr>\n",
       "    <tr>\n",
       "      <th>99995</th>\n",
       "      <td>175.033728</td>\n",
       "      <td>161.110901</td>\n",
       "    </tr>\n",
       "    <tr>\n",
       "      <th>99996</th>\n",
       "      <td>174.922291</td>\n",
       "      <td>177.260513</td>\n",
       "    </tr>\n",
       "    <tr>\n",
       "      <th>99997</th>\n",
       "      <td>186.179400</td>\n",
       "      <td>170.447019</td>\n",
       "    </tr>\n",
       "    <tr>\n",
       "      <th>99998</th>\n",
       "      <td>188.015947</td>\n",
       "      <td>175.665386</td>\n",
       "    </tr>\n",
       "    <tr>\n",
       "      <th>99999</th>\n",
       "      <td>174.646623</td>\n",
       "      <td>178.219935</td>\n",
       "    </tr>\n",
       "  </tbody>\n",
       "</table>\n",
       "<p>100000 rows × 2 columns</p>\n",
       "</div>"
      ],
      "text/plain": [
       "              men       women\n",
       "0      170.064200  165.476263\n",
       "1      183.214993  169.176461\n",
       "2      188.541722  176.187425\n",
       "3      188.170371  177.213136\n",
       "4      169.211538  179.174854\n",
       "...           ...         ...\n",
       "99995  175.033728  161.110901\n",
       "99996  174.922291  177.260513\n",
       "99997  186.179400  170.447019\n",
       "99998  188.015947  175.665386\n",
       "99999  174.646623  178.219935\n",
       "\n",
       "[100000 rows x 2 columns]"
      ]
     },
     "execution_count": 117,
     "metadata": {},
     "output_type": "execute_result"
    }
   ],
   "source": [
    "pairs"
   ]
  },
  {
   "cell_type": "code",
   "execution_count": 118,
   "id": "234046e2",
   "metadata": {},
   "outputs": [
    {
     "data": {
      "text/html": [
       "<div>\n",
       "<style scoped>\n",
       "    .dataframe tbody tr th:only-of-type {\n",
       "        vertical-align: middle;\n",
       "    }\n",
       "\n",
       "    .dataframe tbody tr th {\n",
       "        vertical-align: top;\n",
       "    }\n",
       "\n",
       "    .dataframe thead th {\n",
       "        text-align: right;\n",
       "    }\n",
       "</style>\n",
       "<table border=\"1\" class=\"dataframe\">\n",
       "  <thead>\n",
       "    <tr style=\"text-align: right;\">\n",
       "      <th></th>\n",
       "      <th>men</th>\n",
       "      <th>women</th>\n",
       "    </tr>\n",
       "  </thead>\n",
       "  <tbody>\n",
       "    <tr>\n",
       "      <th>4</th>\n",
       "      <td>169.211538</td>\n",
       "      <td>179.174854</td>\n",
       "    </tr>\n",
       "    <tr>\n",
       "      <th>13</th>\n",
       "      <td>172.571613</td>\n",
       "      <td>176.694948</td>\n",
       "    </tr>\n",
       "    <tr>\n",
       "      <th>31</th>\n",
       "      <td>173.862601</td>\n",
       "      <td>174.773767</td>\n",
       "    </tr>\n",
       "    <tr>\n",
       "      <th>35</th>\n",
       "      <td>174.938604</td>\n",
       "      <td>183.680415</td>\n",
       "    </tr>\n",
       "    <tr>\n",
       "      <th>41</th>\n",
       "      <td>159.326457</td>\n",
       "      <td>173.087710</td>\n",
       "    </tr>\n",
       "    <tr>\n",
       "      <th>...</th>\n",
       "      <td>...</td>\n",
       "      <td>...</td>\n",
       "    </tr>\n",
       "    <tr>\n",
       "      <th>99971</th>\n",
       "      <td>164.187488</td>\n",
       "      <td>166.792082</td>\n",
       "    </tr>\n",
       "    <tr>\n",
       "      <th>99975</th>\n",
       "      <td>174.483842</td>\n",
       "      <td>177.408875</td>\n",
       "    </tr>\n",
       "    <tr>\n",
       "      <th>99981</th>\n",
       "      <td>171.995146</td>\n",
       "      <td>175.718565</td>\n",
       "    </tr>\n",
       "    <tr>\n",
       "      <th>99996</th>\n",
       "      <td>174.922291</td>\n",
       "      <td>177.260513</td>\n",
       "    </tr>\n",
       "    <tr>\n",
       "      <th>99999</th>\n",
       "      <td>174.646623</td>\n",
       "      <td>178.219935</td>\n",
       "    </tr>\n",
       "  </tbody>\n",
       "</table>\n",
       "<p>21308 rows × 2 columns</p>\n",
       "</div>"
      ],
      "text/plain": [
       "              men       women\n",
       "4      169.211538  179.174854\n",
       "13     172.571613  176.694948\n",
       "31     173.862601  174.773767\n",
       "35     174.938604  183.680415\n",
       "41     159.326457  173.087710\n",
       "...           ...         ...\n",
       "99971  164.187488  166.792082\n",
       "99975  174.483842  177.408875\n",
       "99981  171.995146  175.718565\n",
       "99996  174.922291  177.260513\n",
       "99999  174.646623  178.219935\n",
       "\n",
       "[21308 rows x 2 columns]"
      ]
     },
     "execution_count": 118,
     "metadata": {},
     "output_type": "execute_result"
    }
   ],
   "source": [
    "pairs[pairs['women'] > pairs['men']]"
   ]
  },
  {
   "cell_type": "code",
   "execution_count": 119,
   "id": "9fbfc702",
   "metadata": {},
   "outputs": [],
   "source": [
    "taller_lady = pairs[pairs['women'] > pairs['men']]"
   ]
  },
  {
   "cell_type": "code",
   "execution_count": 120,
   "id": "478da6e4",
   "metadata": {},
   "outputs": [],
   "source": [
    "chance_taller_lady = len(taller_lady)/len(pairs)"
   ]
  },
  {
   "cell_type": "code",
   "execution_count": 121,
   "id": "8474d1ba",
   "metadata": {},
   "outputs": [
    {
     "name": "stdout",
     "output_type": "stream",
     "text": [
      "\n",
      "After running 100000 simulations of pairing\n",
      "\n",
      "random women with random men (steamy)\n",
      "\n",
      "21308 times the woman was taller than the man.\n",
      "\n",
      "This means that if you pair a random man and woman\n",
      "\n",
      "the chances that the woman is taller than the man\n",
      "\n",
      "is about 21.31%\n",
      "\n"
     ]
    }
   ],
   "source": [
    "print(\n",
    "f'''\n",
    "After running {n_sims} simulations of pairing\n",
    "\n",
    "random women with random men (steamy)\n",
    "\n",
    "{len(taller_lady)} times the woman was taller than the man.\n",
    "\n",
    "This means that if you pair a random man and woman\n",
    "\n",
    "the chances that the woman is taller than the man\n",
    "\n",
    "is about {Percent(chance_taller_lady)}\n",
    "''')"
   ]
  },
  {
   "cell_type": "code",
   "execution_count": 125,
   "id": "f97d7cad",
   "metadata": {},
   "outputs": [
    {
     "data": {
      "text/plain": [
       "0        165\n",
       "1        169\n",
       "2        176\n",
       "3        177\n",
       "4        179\n",
       "        ... \n",
       "99995    161\n",
       "99996    177\n",
       "99997    170\n",
       "99998    176\n",
       "99999    178\n",
       "Name: women, Length: 100000, dtype: int64"
      ]
     },
     "execution_count": 125,
     "metadata": {},
     "output_type": "execute_result"
    }
   ],
   "source": [
    "# round_pairs = \n",
    "round(pairs['women']).astype(int)"
   ]
  },
  {
   "cell_type": "code",
   "execution_count": 129,
   "id": "620719ce",
   "metadata": {},
   "outputs": [],
   "source": [
    "round_pairs = round(pairs).astype(int)"
   ]
  },
  {
   "cell_type": "code",
   "execution_count": 131,
   "id": "00a04636",
   "metadata": {},
   "outputs": [],
   "source": [
    "same_height = round_pairs[round_pairs['women'] == round_pairs['men']]"
   ]
  },
  {
   "cell_type": "code",
   "execution_count": 133,
   "id": "9051e958",
   "metadata": {},
   "outputs": [],
   "source": [
    "chance_same_height = len(same_height)/len(pairs)"
   ]
  },
  {
   "cell_type": "code",
   "execution_count": 134,
   "id": "f3d7c14b",
   "metadata": {},
   "outputs": [
    {
     "name": "stdout",
     "output_type": "stream",
     "text": [
      "\n",
      "Interestingly, if you round to the centimeter in the same simulation\n",
      "\n",
      "about 2893 times the man and the woman are the same height.\n",
      "\n",
      "This leads to the conclusion that the chance of pairing a random man\n",
      "\n",
      "with a random woman that is the same height is about 2.89%\n",
      "\n"
     ]
    }
   ],
   "source": [
    "print(\n",
    "f'''\n",
    "Interestingly, if you round to the centimeter in the same simulation\n",
    "\n",
    "about {len(same_height)} times the man and the woman are the same height.\n",
    "\n",
    "This leads to the conclusion that the chance of pairing a random man\n",
    "\n",
    "with a random woman that is the same height is about {Percent(chance_same_height)}\n",
    "''')"
   ]
  },
  {
   "cell_type": "markdown",
   "id": "15cb3227",
   "metadata": {},
   "source": [
    "6. When installing anaconda on a student's computer, there's a 1 in 250 chance that the download is corrupted and the installation fails. What are the odds that after having 50 students download anaconda, no one has an installation issue? 100 students?"
   ]
  },
  {
   "cell_type": "code",
   "execution_count": 147,
   "id": "432267ef",
   "metadata": {},
   "outputs": [
    {
     "data": {
      "text/plain": [
       "array([0, 0, 0, ..., 0, 0, 1])"
      ]
     },
     "execution_count": 147,
     "metadata": {},
     "output_type": "execute_result"
    }
   ],
   "source": [
    "# set up the experiment\n",
    "\n",
    "n_sims = 100_000\n",
    "\n",
    "n_trials = 50\n",
    "\n",
    "outcomes = np.zeros(n_sims - 1, dtype=int)\n",
    "\n",
    "# outcomes.append(1)\n",
    "outcomes = np.append(outcomes, 1)\n",
    "\n",
    "outcomes"
   ]
  },
  {
   "cell_type": "code",
   "execution_count": 148,
   "id": "08004003",
   "metadata": {},
   "outputs": [],
   "source": [
    "crashes = np.random.choice(outcomes, (n_sims, n_trials))"
   ]
  },
  {
   "cell_type": "code",
   "execution_count": 149,
   "id": "a4a82e10",
   "metadata": {},
   "outputs": [
    {
     "data": {
      "text/plain": [
       "array([[0, 0, 0, ..., 0, 0, 0],\n",
       "       [0, 0, 0, ..., 0, 0, 0],\n",
       "       [0, 0, 0, ..., 0, 0, 0],\n",
       "       ...,\n",
       "       [0, 0, 0, ..., 0, 0, 0],\n",
       "       [0, 0, 0, ..., 0, 0, 0],\n",
       "       [0, 0, 0, ..., 0, 0, 0]])"
      ]
     },
     "execution_count": 149,
     "metadata": {},
     "output_type": "execute_result"
    }
   ],
   "source": [
    "crashes"
   ]
  },
  {
   "cell_type": "code",
   "execution_count": 150,
   "id": "aa1543c9",
   "metadata": {},
   "outputs": [],
   "source": [
    "crash_df = pd.DataFrame(crashes)"
   ]
  },
  {
   "cell_type": "code",
   "execution_count": 152,
   "id": "73ecba4d",
   "metadata": {},
   "outputs": [
    {
     "data": {
      "text/plain": [
       "0        0\n",
       "1        0\n",
       "2        0\n",
       "3        0\n",
       "4        0\n",
       "        ..\n",
       "99995    0\n",
       "99996    0\n",
       "99997    0\n",
       "99998    0\n",
       "99999    0\n",
       "Length: 100000, dtype: int64"
      ]
     },
     "execution_count": 152,
     "metadata": {},
     "output_type": "execute_result"
    }
   ],
   "source": [
    "crash_df.sum(axis=1)"
   ]
  },
  {
   "cell_type": "code",
   "execution_count": 159,
   "id": "29e0f102",
   "metadata": {},
   "outputs": [],
   "source": [
    "crash_sum = crash_df.sum(axis=1)"
   ]
  },
  {
   "cell_type": "code",
   "execution_count": 160,
   "id": "c06250b7",
   "metadata": {},
   "outputs": [
    {
     "data": {
      "text/plain": [
       "100000"
      ]
     },
     "execution_count": 160,
     "metadata": {},
     "output_type": "execute_result"
    }
   ],
   "source": [
    "len(crash_sum)"
   ]
  },
  {
   "cell_type": "code",
   "execution_count": 156,
   "id": "0078d23e",
   "metadata": {},
   "outputs": [
    {
     "data": {
      "text/plain": [
       "54"
      ]
     },
     "execution_count": 156,
     "metadata": {},
     "output_type": "execute_result"
    }
   ],
   "source": [
    "len(crash_sum[crash_sum == 1])"
   ]
  },
  {
   "cell_type": "code",
   "execution_count": 157,
   "id": "05c7d12c",
   "metadata": {},
   "outputs": [
    {
     "data": {
      "text/plain": [
       "Series([], dtype: int64)"
      ]
     },
     "execution_count": 157,
     "metadata": {},
     "output_type": "execute_result"
    }
   ],
   "source": [
    "crash_sum[crash_sum > 1]"
   ]
  },
  {
   "cell_type": "code",
   "execution_count": 161,
   "id": "3dd6278b",
   "metadata": {},
   "outputs": [
    {
     "data": {
      "text/plain": [
       "0.00054"
      ]
     },
     "execution_count": 161,
     "metadata": {},
     "output_type": "execute_result"
    }
   ],
   "source": [
    "len(crash_sum[crash_sum == 1])/len(crash_sum)"
   ]
  },
  {
   "cell_type": "code",
   "execution_count": 190,
   "id": "4a20be92",
   "metadata": {},
   "outputs": [],
   "source": [
    "def install_success(n_students, n_sims = 100_000):\n",
    "    '''\n",
    "    install_success is a Function to tell us \n",
    "    the chance that a classroom of students \n",
    "    is able to install anaconda without anyone getting a corrupted version\n",
    "    it takes in two arguments (n_students [, n_sims])\n",
    "                    \n",
    "                        n_students: the number of students in the class ;dtype = int\n",
    "                        \n",
    "                        n_sims: preset to 100_000 this is the number of times to run \n",
    "                        the simulation ;dtype = int\n",
    "                        \n",
    "    the return of the function is a float decimal between 0 and 1 representing\n",
    "    the percentage chance that all the installations went off without a corruption\n",
    "    '''\n",
    "    # set up the experiment\n",
    "    n_trials = n_students\n",
    "    outcomes = np.zeros(n_sims - 1, dtype=int)\n",
    "    outcomes = np.append(outcomes, 1)\n",
    "    \n",
    "    crashes = np.random.choice(outcomes, (n_sims, n_trials))\n",
    "    crash_df = pd.DataFrame(crashes)\n",
    "    crash_sum = crash_df.sum(axis=1)\n",
    "    crash_chance = len(crash_sum[crash_sum == 1])/len(crash_sum)\n",
    "    return 1 - crash_chance"
   ]
  },
  {
   "cell_type": "code",
   "execution_count": 166,
   "id": "157d51a4",
   "metadata": {},
   "outputs": [
    {
     "data": {
      "text/plain": [
       "0.99949"
      ]
     },
     "execution_count": 166,
     "metadata": {},
     "output_type": "execute_result"
    }
   ],
   "source": [
    "install_success(50)"
   ]
  },
  {
   "cell_type": "code",
   "execution_count": 168,
   "id": "1c09eb6b",
   "metadata": {},
   "outputs": [
    {
     "name": "stdout",
     "output_type": "stream",
     "text": [
      "\n",
      "Running the experiment through 100,000 simulations\n",
      "\n",
      "The chance of a class of size 50 installing anaconda\n",
      "\n",
      "without anyone having a corruption issue is 99.95%\n",
      "\n",
      "in a class of 100 the chances go down to 99.89%\n",
      "\n"
     ]
    }
   ],
   "source": [
    "print(\n",
    "f'''\n",
    "Running the experiment through 100,000 simulations\n",
    "\n",
    "The chance of a class of size 50 installing anaconda\n",
    "\n",
    "without anyone having a corruption issue is {Percent(install_success(50))}\n",
    "\n",
    "in a class of 100 the chances go down to {Percent(install_success(100))}\n",
    "''')"
   ]
  },
  {
   "cell_type": "markdown",
   "id": "c71bf709",
   "metadata": {},
   "source": [
    "- What is the probability that we observe an installation issue within the first 150 students that download anaconda?"
   ]
  },
  {
   "cell_type": "code",
   "execution_count": 169,
   "id": "460010a8",
   "metadata": {},
   "outputs": [
    {
     "name": "stdout",
     "output_type": "stream",
     "text": [
      "\n",
      "    The chances that anyone will have a corruption problem\n",
      "    \n",
      "    even in a class of 150 students is only 0.16%\n",
      "\n",
      "\n"
     ]
    }
   ],
   "source": [
    "print(\n",
    "    f'''\n",
    "    The chances that anyone will have a corruption problem\n",
    "    \n",
    "    even in a class of 150 students is only {Percent(1-install_success(150))}\n",
    "\n",
    "''')"
   ]
  },
  {
   "cell_type": "markdown",
   "id": "f8a4e8a0",
   "metadata": {},
   "source": [
    "- How likely is it that 450 students all download anaconda without an issue?"
   ]
  },
  {
   "cell_type": "code",
   "execution_count": 170,
   "id": "21ddab21",
   "metadata": {},
   "outputs": [
    {
     "name": "stdout",
     "output_type": "stream",
     "text": [
      "\n",
      "    The likelyhood that a class of 450 students will all\n",
      "    \n",
      "    successful download anaconda without any corruption issues\n",
      "    \n",
      "    is about 99.59%\n",
      "    \n"
     ]
    }
   ],
   "source": [
    "print(\n",
    "    f'''\n",
    "    The likelyhood that a class of 450 students will all\n",
    "    \n",
    "    successful download anaconda without any corruption issues\n",
    "    \n",
    "    is about {Percent(install_success(450))}\n",
    "    ''')"
   ]
  },
  {
   "cell_type": "markdown",
   "id": "b16e8c8f",
   "metadata": {},
   "source": [
    "7. There's a 70% chance on any given day that there will be at least one food truck at Travis Park. However, you haven't seen a food truck there in 3 days. How unlikely is this?"
   ]
  },
  {
   "cell_type": "code",
   "execution_count": 171,
   "id": "fe631b0c",
   "metadata": {},
   "outputs": [],
   "source": [
    "# let's set it up\n",
    "# define vars\n",
    "\n",
    "n_sims = 100_000\n",
    "n_trials = 3\n",
    "\n",
    "outcomes = [1,1,1,1,1,1,1,0,0,0]\n"
   ]
  },
  {
   "cell_type": "code",
   "execution_count": 173,
   "id": "67aa360c",
   "metadata": {},
   "outputs": [
    {
     "data": {
      "text/plain": [
       "array([[1, 1, 1],\n",
       "       [1, 1, 1],\n",
       "       [1, 1, 1],\n",
       "       ...,\n",
       "       [1, 1, 1],\n",
       "       [1, 1, 0],\n",
       "       [1, 1, 0]])"
      ]
     },
     "execution_count": 173,
     "metadata": {},
     "output_type": "execute_result"
    }
   ],
   "source": [
    "food_truck = np.random.choice(outcomes, (n_sims, n_trials))\n",
    "food_truck_df = pd.DataFrame(food_truck)"
   ]
  },
  {
   "cell_type": "code",
   "execution_count": 175,
   "id": "4794e474",
   "metadata": {},
   "outputs": [],
   "source": [
    "gone_3_days = food_truck[food_truck.sum(axis=1) == 0]"
   ]
  },
  {
   "cell_type": "code",
   "execution_count": 177,
   "id": "5c74258b",
   "metadata": {},
   "outputs": [],
   "source": [
    "chance_gone_3_days = len(gone_3_days)/len(food_truck)"
   ]
  },
  {
   "cell_type": "code",
   "execution_count": 178,
   "id": "9a2e34fd",
   "metadata": {},
   "outputs": [
    {
     "name": "stdout",
     "output_type": "stream",
     "text": [
      "\n",
      "    This is very odd indeed.\n",
      "    \n",
      "    According to experimental data, being that there is\n",
      "    \n",
      "    a 70% chance on any given day that at least one food truck\n",
      "    \n",
      "    will be at Travis Park, the chances that there isn't one\n",
      "    \n",
      "    for 3 days in a row is about 2.66%\n",
      "    \n"
     ]
    }
   ],
   "source": [
    "print(\n",
    "    f'''\n",
    "    This is very odd indeed.\n",
    "    \n",
    "    According to experimental data, being that there is\n",
    "    \n",
    "    a 70% chance on any given day that at least one food truck\n",
    "    \n",
    "    will be at Travis Park, the chances that there isn't one\n",
    "    \n",
    "    for 3 days in a row is about {Percent(chance_gone_3_days)}\n",
    "    ''')"
   ]
  },
  {
   "cell_type": "markdown",
   "id": "56b36cb2",
   "metadata": {},
   "source": [
    "- How likely is it that a food truck will show up sometime this week?"
   ]
  },
  {
   "cell_type": "code",
   "execution_count": 179,
   "id": "41c29295",
   "metadata": {},
   "outputs": [],
   "source": [
    "n_sims = 100_000\n",
    "n_trials = 7\n",
    "\n",
    "outcomes = [1,1,1,1,1,1,1,0,0,0]"
   ]
  },
  {
   "cell_type": "code",
   "execution_count": 180,
   "id": "27d622f4",
   "metadata": {},
   "outputs": [],
   "source": [
    "food_truck = np.random.choice(outcomes, (n_sims, n_trials))\n",
    "food_truck_df = pd.DataFrame(food_truck)"
   ]
  },
  {
   "cell_type": "code",
   "execution_count": 181,
   "id": "31dc5db8",
   "metadata": {},
   "outputs": [],
   "source": [
    "# gone_3_days = food_truck[food_truck.sum(axis=1) == 0]\n",
    "eat_this_week = food_truck[food_truck.sum(axis=1) > 0]"
   ]
  },
  {
   "cell_type": "code",
   "execution_count": 182,
   "id": "926f2c83",
   "metadata": {},
   "outputs": [],
   "source": [
    "chance_to_eat_this_week = len(eat_this_week)/len(food_truck)"
   ]
  },
  {
   "cell_type": "code",
   "execution_count": 185,
   "id": "c06e9ee4",
   "metadata": {},
   "outputs": [
    {
     "name": "stdout",
     "output_type": "stream",
     "text": [
      "\n",
      "    The chances that a food truck will show up at some point this week\n",
      "    \n",
      "    is pretty good. Bring your lunch money, 'cause there's a 97.33%\n",
      "    \n",
      "    chance a food truck will show up sometime this week!\n",
      "    \n"
     ]
    }
   ],
   "source": [
    "print(\n",
    "    f'''\n",
    "    The chances that a food truck will show up at some point this week\n",
    "    \n",
    "    is pretty good. Bring your lunch money, \\'cause there\\'s a {Percent(chance_to_eat_this_week)}\n",
    "    \n",
    "    chance a food truck will show up sometime this week!\n",
    "    ''')"
   ]
  },
  {
   "cell_type": "markdown",
   "id": "0bb5c512",
   "metadata": {},
   "source": [
    "8. If 23 people are in the same room, what are the odds that two of them share a birthday? What if it's 20 people? 40?"
   ]
  },
  {
   "cell_type": "code",
   "execution_count": 201,
   "id": "e2598c1a",
   "metadata": {},
   "outputs": [],
   "source": [
    "# setup time!\n",
    "# set the vars\n",
    "\n",
    "n_sims = 100_000\n",
    "n_trials = 23\n",
    "n_outcomes = range(366)\n",
    "# I wonder if there's a random date..."
   ]
  },
  {
   "cell_type": "code",
   "execution_count": 202,
   "id": "c6774974",
   "metadata": {},
   "outputs": [
    {
     "data": {
      "text/html": [
       "<div>\n",
       "<style scoped>\n",
       "    .dataframe tbody tr th:only-of-type {\n",
       "        vertical-align: middle;\n",
       "    }\n",
       "\n",
       "    .dataframe tbody tr th {\n",
       "        vertical-align: top;\n",
       "    }\n",
       "\n",
       "    .dataframe thead th {\n",
       "        text-align: right;\n",
       "    }\n",
       "</style>\n",
       "<table border=\"1\" class=\"dataframe\">\n",
       "  <thead>\n",
       "    <tr style=\"text-align: right;\">\n",
       "      <th></th>\n",
       "      <th>0</th>\n",
       "      <th>1</th>\n",
       "      <th>2</th>\n",
       "      <th>3</th>\n",
       "      <th>4</th>\n",
       "      <th>5</th>\n",
       "      <th>6</th>\n",
       "      <th>7</th>\n",
       "      <th>8</th>\n",
       "      <th>9</th>\n",
       "      <th>...</th>\n",
       "      <th>13</th>\n",
       "      <th>14</th>\n",
       "      <th>15</th>\n",
       "      <th>16</th>\n",
       "      <th>17</th>\n",
       "      <th>18</th>\n",
       "      <th>19</th>\n",
       "      <th>20</th>\n",
       "      <th>21</th>\n",
       "      <th>22</th>\n",
       "    </tr>\n",
       "  </thead>\n",
       "  <tbody>\n",
       "    <tr>\n",
       "      <th>0</th>\n",
       "      <td>84</td>\n",
       "      <td>83</td>\n",
       "      <td>16</td>\n",
       "      <td>258</td>\n",
       "      <td>97</td>\n",
       "      <td>224</td>\n",
       "      <td>289</td>\n",
       "      <td>143</td>\n",
       "      <td>232</td>\n",
       "      <td>123</td>\n",
       "      <td>...</td>\n",
       "      <td>317</td>\n",
       "      <td>336</td>\n",
       "      <td>338</td>\n",
       "      <td>15</td>\n",
       "      <td>272</td>\n",
       "      <td>217</td>\n",
       "      <td>281</td>\n",
       "      <td>180</td>\n",
       "      <td>128</td>\n",
       "      <td>266</td>\n",
       "    </tr>\n",
       "    <tr>\n",
       "      <th>1</th>\n",
       "      <td>347</td>\n",
       "      <td>304</td>\n",
       "      <td>52</td>\n",
       "      <td>82</td>\n",
       "      <td>231</td>\n",
       "      <td>79</td>\n",
       "      <td>264</td>\n",
       "      <td>127</td>\n",
       "      <td>99</td>\n",
       "      <td>224</td>\n",
       "      <td>...</td>\n",
       "      <td>241</td>\n",
       "      <td>339</td>\n",
       "      <td>108</td>\n",
       "      <td>281</td>\n",
       "      <td>59</td>\n",
       "      <td>344</td>\n",
       "      <td>263</td>\n",
       "      <td>36</td>\n",
       "      <td>149</td>\n",
       "      <td>254</td>\n",
       "    </tr>\n",
       "    <tr>\n",
       "      <th>2</th>\n",
       "      <td>152</td>\n",
       "      <td>37</td>\n",
       "      <td>357</td>\n",
       "      <td>156</td>\n",
       "      <td>23</td>\n",
       "      <td>252</td>\n",
       "      <td>40</td>\n",
       "      <td>114</td>\n",
       "      <td>305</td>\n",
       "      <td>299</td>\n",
       "      <td>...</td>\n",
       "      <td>329</td>\n",
       "      <td>288</td>\n",
       "      <td>213</td>\n",
       "      <td>160</td>\n",
       "      <td>313</td>\n",
       "      <td>54</td>\n",
       "      <td>138</td>\n",
       "      <td>346</td>\n",
       "      <td>150</td>\n",
       "      <td>361</td>\n",
       "    </tr>\n",
       "    <tr>\n",
       "      <th>3</th>\n",
       "      <td>252</td>\n",
       "      <td>359</td>\n",
       "      <td>359</td>\n",
       "      <td>51</td>\n",
       "      <td>145</td>\n",
       "      <td>308</td>\n",
       "      <td>28</td>\n",
       "      <td>48</td>\n",
       "      <td>43</td>\n",
       "      <td>331</td>\n",
       "      <td>...</td>\n",
       "      <td>20</td>\n",
       "      <td>159</td>\n",
       "      <td>278</td>\n",
       "      <td>114</td>\n",
       "      <td>267</td>\n",
       "      <td>147</td>\n",
       "      <td>31</td>\n",
       "      <td>252</td>\n",
       "      <td>109</td>\n",
       "      <td>222</td>\n",
       "    </tr>\n",
       "    <tr>\n",
       "      <th>4</th>\n",
       "      <td>26</td>\n",
       "      <td>105</td>\n",
       "      <td>167</td>\n",
       "      <td>359</td>\n",
       "      <td>263</td>\n",
       "      <td>103</td>\n",
       "      <td>281</td>\n",
       "      <td>245</td>\n",
       "      <td>242</td>\n",
       "      <td>299</td>\n",
       "      <td>...</td>\n",
       "      <td>127</td>\n",
       "      <td>318</td>\n",
       "      <td>121</td>\n",
       "      <td>116</td>\n",
       "      <td>291</td>\n",
       "      <td>59</td>\n",
       "      <td>316</td>\n",
       "      <td>363</td>\n",
       "      <td>279</td>\n",
       "      <td>5</td>\n",
       "    </tr>\n",
       "    <tr>\n",
       "      <th>...</th>\n",
       "      <td>...</td>\n",
       "      <td>...</td>\n",
       "      <td>...</td>\n",
       "      <td>...</td>\n",
       "      <td>...</td>\n",
       "      <td>...</td>\n",
       "      <td>...</td>\n",
       "      <td>...</td>\n",
       "      <td>...</td>\n",
       "      <td>...</td>\n",
       "      <td>...</td>\n",
       "      <td>...</td>\n",
       "      <td>...</td>\n",
       "      <td>...</td>\n",
       "      <td>...</td>\n",
       "      <td>...</td>\n",
       "      <td>...</td>\n",
       "      <td>...</td>\n",
       "      <td>...</td>\n",
       "      <td>...</td>\n",
       "      <td>...</td>\n",
       "    </tr>\n",
       "    <tr>\n",
       "      <th>99995</th>\n",
       "      <td>24</td>\n",
       "      <td>213</td>\n",
       "      <td>275</td>\n",
       "      <td>354</td>\n",
       "      <td>257</td>\n",
       "      <td>12</td>\n",
       "      <td>230</td>\n",
       "      <td>332</td>\n",
       "      <td>161</td>\n",
       "      <td>49</td>\n",
       "      <td>...</td>\n",
       "      <td>67</td>\n",
       "      <td>243</td>\n",
       "      <td>311</td>\n",
       "      <td>194</td>\n",
       "      <td>83</td>\n",
       "      <td>113</td>\n",
       "      <td>85</td>\n",
       "      <td>67</td>\n",
       "      <td>365</td>\n",
       "      <td>90</td>\n",
       "    </tr>\n",
       "    <tr>\n",
       "      <th>99996</th>\n",
       "      <td>192</td>\n",
       "      <td>260</td>\n",
       "      <td>196</td>\n",
       "      <td>218</td>\n",
       "      <td>15</td>\n",
       "      <td>303</td>\n",
       "      <td>273</td>\n",
       "      <td>152</td>\n",
       "      <td>240</td>\n",
       "      <td>52</td>\n",
       "      <td>...</td>\n",
       "      <td>82</td>\n",
       "      <td>232</td>\n",
       "      <td>103</td>\n",
       "      <td>57</td>\n",
       "      <td>279</td>\n",
       "      <td>201</td>\n",
       "      <td>40</td>\n",
       "      <td>239</td>\n",
       "      <td>298</td>\n",
       "      <td>13</td>\n",
       "    </tr>\n",
       "    <tr>\n",
       "      <th>99997</th>\n",
       "      <td>351</td>\n",
       "      <td>202</td>\n",
       "      <td>51</td>\n",
       "      <td>171</td>\n",
       "      <td>68</td>\n",
       "      <td>165</td>\n",
       "      <td>119</td>\n",
       "      <td>20</td>\n",
       "      <td>121</td>\n",
       "      <td>280</td>\n",
       "      <td>...</td>\n",
       "      <td>308</td>\n",
       "      <td>100</td>\n",
       "      <td>352</td>\n",
       "      <td>281</td>\n",
       "      <td>135</td>\n",
       "      <td>43</td>\n",
       "      <td>193</td>\n",
       "      <td>295</td>\n",
       "      <td>171</td>\n",
       "      <td>93</td>\n",
       "    </tr>\n",
       "    <tr>\n",
       "      <th>99998</th>\n",
       "      <td>353</td>\n",
       "      <td>55</td>\n",
       "      <td>240</td>\n",
       "      <td>55</td>\n",
       "      <td>143</td>\n",
       "      <td>160</td>\n",
       "      <td>70</td>\n",
       "      <td>271</td>\n",
       "      <td>232</td>\n",
       "      <td>334</td>\n",
       "      <td>...</td>\n",
       "      <td>89</td>\n",
       "      <td>74</td>\n",
       "      <td>199</td>\n",
       "      <td>208</td>\n",
       "      <td>313</td>\n",
       "      <td>350</td>\n",
       "      <td>346</td>\n",
       "      <td>55</td>\n",
       "      <td>12</td>\n",
       "      <td>287</td>\n",
       "    </tr>\n",
       "    <tr>\n",
       "      <th>99999</th>\n",
       "      <td>89</td>\n",
       "      <td>211</td>\n",
       "      <td>143</td>\n",
       "      <td>104</td>\n",
       "      <td>272</td>\n",
       "      <td>87</td>\n",
       "      <td>97</td>\n",
       "      <td>300</td>\n",
       "      <td>184</td>\n",
       "      <td>76</td>\n",
       "      <td>...</td>\n",
       "      <td>289</td>\n",
       "      <td>210</td>\n",
       "      <td>168</td>\n",
       "      <td>1</td>\n",
       "      <td>129</td>\n",
       "      <td>120</td>\n",
       "      <td>49</td>\n",
       "      <td>327</td>\n",
       "      <td>61</td>\n",
       "      <td>98</td>\n",
       "    </tr>\n",
       "  </tbody>\n",
       "</table>\n",
       "<p>100000 rows × 23 columns</p>\n",
       "</div>"
      ],
      "text/plain": [
       "        0    1    2    3    4    5    6    7    8    9   ...   13   14   15  \\\n",
       "0       84   83   16  258   97  224  289  143  232  123  ...  317  336  338   \n",
       "1      347  304   52   82  231   79  264  127   99  224  ...  241  339  108   \n",
       "2      152   37  357  156   23  252   40  114  305  299  ...  329  288  213   \n",
       "3      252  359  359   51  145  308   28   48   43  331  ...   20  159  278   \n",
       "4       26  105  167  359  263  103  281  245  242  299  ...  127  318  121   \n",
       "...    ...  ...  ...  ...  ...  ...  ...  ...  ...  ...  ...  ...  ...  ...   \n",
       "99995   24  213  275  354  257   12  230  332  161   49  ...   67  243  311   \n",
       "99996  192  260  196  218   15  303  273  152  240   52  ...   82  232  103   \n",
       "99997  351  202   51  171   68  165  119   20  121  280  ...  308  100  352   \n",
       "99998  353   55  240   55  143  160   70  271  232  334  ...   89   74  199   \n",
       "99999   89  211  143  104  272   87   97  300  184   76  ...  289  210  168   \n",
       "\n",
       "        16   17   18   19   20   21   22  \n",
       "0       15  272  217  281  180  128  266  \n",
       "1      281   59  344  263   36  149  254  \n",
       "2      160  313   54  138  346  150  361  \n",
       "3      114  267  147   31  252  109  222  \n",
       "4      116  291   59  316  363  279    5  \n",
       "...    ...  ...  ...  ...  ...  ...  ...  \n",
       "99995  194   83  113   85   67  365   90  \n",
       "99996   57  279  201   40  239  298   13  \n",
       "99997  281  135   43  193  295  171   93  \n",
       "99998  208  313  350  346   55   12  287  \n",
       "99999    1  129  120   49  327   61   98  \n",
       "\n",
       "[100000 rows x 23 columns]"
      ]
     },
     "execution_count": 202,
     "metadata": {},
     "output_type": "execute_result"
    }
   ],
   "source": [
    "# setup the simulator\n",
    "\n",
    "birthdays = pd.DataFrame(np.random.choice(n_outcomes, (n_sims, n_trials)))\n",
    "birthdays"
   ]
  },
  {
   "cell_type": "code",
   "execution_count": 203,
   "id": "016a50ef",
   "metadata": {},
   "outputs": [
    {
     "data": {
      "text/plain": [
       "0        23\n",
       "1        22\n",
       "2        23\n",
       "3        21\n",
       "4        23\n",
       "         ..\n",
       "99995    22\n",
       "99996    23\n",
       "99997    22\n",
       "99998    21\n",
       "99999    23\n",
       "Length: 100000, dtype: int64"
      ]
     },
     "execution_count": 203,
     "metadata": {},
     "output_type": "execute_result"
    }
   ],
   "source": [
    "birthdays.nunique(axis=1)"
   ]
  },
  {
   "cell_type": "code",
   "execution_count": 205,
   "id": "3f606d78",
   "metadata": {},
   "outputs": [
    {
     "data": {
      "text/html": [
       "<div>\n",
       "<style scoped>\n",
       "    .dataframe tbody tr th:only-of-type {\n",
       "        vertical-align: middle;\n",
       "    }\n",
       "\n",
       "    .dataframe tbody tr th {\n",
       "        vertical-align: top;\n",
       "    }\n",
       "\n",
       "    .dataframe thead th {\n",
       "        text-align: right;\n",
       "    }\n",
       "</style>\n",
       "<table border=\"1\" class=\"dataframe\">\n",
       "  <thead>\n",
       "    <tr style=\"text-align: right;\">\n",
       "      <th></th>\n",
       "      <th>0</th>\n",
       "      <th>1</th>\n",
       "      <th>2</th>\n",
       "      <th>3</th>\n",
       "      <th>4</th>\n",
       "      <th>5</th>\n",
       "      <th>6</th>\n",
       "      <th>7</th>\n",
       "      <th>8</th>\n",
       "      <th>9</th>\n",
       "      <th>...</th>\n",
       "      <th>13</th>\n",
       "      <th>14</th>\n",
       "      <th>15</th>\n",
       "      <th>16</th>\n",
       "      <th>17</th>\n",
       "      <th>18</th>\n",
       "      <th>19</th>\n",
       "      <th>20</th>\n",
       "      <th>21</th>\n",
       "      <th>22</th>\n",
       "    </tr>\n",
       "  </thead>\n",
       "  <tbody>\n",
       "    <tr>\n",
       "      <th>1</th>\n",
       "      <td>347</td>\n",
       "      <td>304</td>\n",
       "      <td>52</td>\n",
       "      <td>82</td>\n",
       "      <td>231</td>\n",
       "      <td>79</td>\n",
       "      <td>264</td>\n",
       "      <td>127</td>\n",
       "      <td>99</td>\n",
       "      <td>224</td>\n",
       "      <td>...</td>\n",
       "      <td>241</td>\n",
       "      <td>339</td>\n",
       "      <td>108</td>\n",
       "      <td>281</td>\n",
       "      <td>59</td>\n",
       "      <td>344</td>\n",
       "      <td>263</td>\n",
       "      <td>36</td>\n",
       "      <td>149</td>\n",
       "      <td>254</td>\n",
       "    </tr>\n",
       "    <tr>\n",
       "      <th>3</th>\n",
       "      <td>252</td>\n",
       "      <td>359</td>\n",
       "      <td>359</td>\n",
       "      <td>51</td>\n",
       "      <td>145</td>\n",
       "      <td>308</td>\n",
       "      <td>28</td>\n",
       "      <td>48</td>\n",
       "      <td>43</td>\n",
       "      <td>331</td>\n",
       "      <td>...</td>\n",
       "      <td>20</td>\n",
       "      <td>159</td>\n",
       "      <td>278</td>\n",
       "      <td>114</td>\n",
       "      <td>267</td>\n",
       "      <td>147</td>\n",
       "      <td>31</td>\n",
       "      <td>252</td>\n",
       "      <td>109</td>\n",
       "      <td>222</td>\n",
       "    </tr>\n",
       "    <tr>\n",
       "      <th>9</th>\n",
       "      <td>34</td>\n",
       "      <td>55</td>\n",
       "      <td>8</td>\n",
       "      <td>194</td>\n",
       "      <td>211</td>\n",
       "      <td>105</td>\n",
       "      <td>186</td>\n",
       "      <td>124</td>\n",
       "      <td>145</td>\n",
       "      <td>32</td>\n",
       "      <td>...</td>\n",
       "      <td>358</td>\n",
       "      <td>161</td>\n",
       "      <td>59</td>\n",
       "      <td>83</td>\n",
       "      <td>39</td>\n",
       "      <td>102</td>\n",
       "      <td>235</td>\n",
       "      <td>193</td>\n",
       "      <td>343</td>\n",
       "      <td>352</td>\n",
       "    </tr>\n",
       "    <tr>\n",
       "      <th>10</th>\n",
       "      <td>107</td>\n",
       "      <td>327</td>\n",
       "      <td>96</td>\n",
       "      <td>44</td>\n",
       "      <td>274</td>\n",
       "      <td>19</td>\n",
       "      <td>118</td>\n",
       "      <td>108</td>\n",
       "      <td>317</td>\n",
       "      <td>148</td>\n",
       "      <td>...</td>\n",
       "      <td>65</td>\n",
       "      <td>295</td>\n",
       "      <td>220</td>\n",
       "      <td>220</td>\n",
       "      <td>204</td>\n",
       "      <td>76</td>\n",
       "      <td>275</td>\n",
       "      <td>218</td>\n",
       "      <td>297</td>\n",
       "      <td>229</td>\n",
       "    </tr>\n",
       "    <tr>\n",
       "      <th>13</th>\n",
       "      <td>8</td>\n",
       "      <td>350</td>\n",
       "      <td>130</td>\n",
       "      <td>123</td>\n",
       "      <td>328</td>\n",
       "      <td>19</td>\n",
       "      <td>300</td>\n",
       "      <td>312</td>\n",
       "      <td>278</td>\n",
       "      <td>108</td>\n",
       "      <td>...</td>\n",
       "      <td>288</td>\n",
       "      <td>137</td>\n",
       "      <td>281</td>\n",
       "      <td>119</td>\n",
       "      <td>194</td>\n",
       "      <td>238</td>\n",
       "      <td>138</td>\n",
       "      <td>312</td>\n",
       "      <td>241</td>\n",
       "      <td>115</td>\n",
       "    </tr>\n",
       "    <tr>\n",
       "      <th>...</th>\n",
       "      <td>...</td>\n",
       "      <td>...</td>\n",
       "      <td>...</td>\n",
       "      <td>...</td>\n",
       "      <td>...</td>\n",
       "      <td>...</td>\n",
       "      <td>...</td>\n",
       "      <td>...</td>\n",
       "      <td>...</td>\n",
       "      <td>...</td>\n",
       "      <td>...</td>\n",
       "      <td>...</td>\n",
       "      <td>...</td>\n",
       "      <td>...</td>\n",
       "      <td>...</td>\n",
       "      <td>...</td>\n",
       "      <td>...</td>\n",
       "      <td>...</td>\n",
       "      <td>...</td>\n",
       "      <td>...</td>\n",
       "      <td>...</td>\n",
       "    </tr>\n",
       "    <tr>\n",
       "      <th>99988</th>\n",
       "      <td>205</td>\n",
       "      <td>345</td>\n",
       "      <td>326</td>\n",
       "      <td>304</td>\n",
       "      <td>359</td>\n",
       "      <td>359</td>\n",
       "      <td>150</td>\n",
       "      <td>355</td>\n",
       "      <td>229</td>\n",
       "      <td>304</td>\n",
       "      <td>...</td>\n",
       "      <td>306</td>\n",
       "      <td>358</td>\n",
       "      <td>57</td>\n",
       "      <td>241</td>\n",
       "      <td>88</td>\n",
       "      <td>254</td>\n",
       "      <td>317</td>\n",
       "      <td>362</td>\n",
       "      <td>170</td>\n",
       "      <td>0</td>\n",
       "    </tr>\n",
       "    <tr>\n",
       "      <th>99992</th>\n",
       "      <td>86</td>\n",
       "      <td>45</td>\n",
       "      <td>47</td>\n",
       "      <td>319</td>\n",
       "      <td>36</td>\n",
       "      <td>356</td>\n",
       "      <td>165</td>\n",
       "      <td>352</td>\n",
       "      <td>99</td>\n",
       "      <td>277</td>\n",
       "      <td>...</td>\n",
       "      <td>363</td>\n",
       "      <td>241</td>\n",
       "      <td>81</td>\n",
       "      <td>260</td>\n",
       "      <td>182</td>\n",
       "      <td>140</td>\n",
       "      <td>67</td>\n",
       "      <td>220</td>\n",
       "      <td>64</td>\n",
       "      <td>260</td>\n",
       "    </tr>\n",
       "    <tr>\n",
       "      <th>99995</th>\n",
       "      <td>24</td>\n",
       "      <td>213</td>\n",
       "      <td>275</td>\n",
       "      <td>354</td>\n",
       "      <td>257</td>\n",
       "      <td>12</td>\n",
       "      <td>230</td>\n",
       "      <td>332</td>\n",
       "      <td>161</td>\n",
       "      <td>49</td>\n",
       "      <td>...</td>\n",
       "      <td>67</td>\n",
       "      <td>243</td>\n",
       "      <td>311</td>\n",
       "      <td>194</td>\n",
       "      <td>83</td>\n",
       "      <td>113</td>\n",
       "      <td>85</td>\n",
       "      <td>67</td>\n",
       "      <td>365</td>\n",
       "      <td>90</td>\n",
       "    </tr>\n",
       "    <tr>\n",
       "      <th>99997</th>\n",
       "      <td>351</td>\n",
       "      <td>202</td>\n",
       "      <td>51</td>\n",
       "      <td>171</td>\n",
       "      <td>68</td>\n",
       "      <td>165</td>\n",
       "      <td>119</td>\n",
       "      <td>20</td>\n",
       "      <td>121</td>\n",
       "      <td>280</td>\n",
       "      <td>...</td>\n",
       "      <td>308</td>\n",
       "      <td>100</td>\n",
       "      <td>352</td>\n",
       "      <td>281</td>\n",
       "      <td>135</td>\n",
       "      <td>43</td>\n",
       "      <td>193</td>\n",
       "      <td>295</td>\n",
       "      <td>171</td>\n",
       "      <td>93</td>\n",
       "    </tr>\n",
       "    <tr>\n",
       "      <th>99998</th>\n",
       "      <td>353</td>\n",
       "      <td>55</td>\n",
       "      <td>240</td>\n",
       "      <td>55</td>\n",
       "      <td>143</td>\n",
       "      <td>160</td>\n",
       "      <td>70</td>\n",
       "      <td>271</td>\n",
       "      <td>232</td>\n",
       "      <td>334</td>\n",
       "      <td>...</td>\n",
       "      <td>89</td>\n",
       "      <td>74</td>\n",
       "      <td>199</td>\n",
       "      <td>208</td>\n",
       "      <td>313</td>\n",
       "      <td>350</td>\n",
       "      <td>346</td>\n",
       "      <td>55</td>\n",
       "      <td>12</td>\n",
       "      <td>287</td>\n",
       "    </tr>\n",
       "  </tbody>\n",
       "</table>\n",
       "<p>50638 rows × 23 columns</p>\n",
       "</div>"
      ],
      "text/plain": [
       "        0    1    2    3    4    5    6    7    8    9   ...   13   14   15  \\\n",
       "1      347  304   52   82  231   79  264  127   99  224  ...  241  339  108   \n",
       "3      252  359  359   51  145  308   28   48   43  331  ...   20  159  278   \n",
       "9       34   55    8  194  211  105  186  124  145   32  ...  358  161   59   \n",
       "10     107  327   96   44  274   19  118  108  317  148  ...   65  295  220   \n",
       "13       8  350  130  123  328   19  300  312  278  108  ...  288  137  281   \n",
       "...    ...  ...  ...  ...  ...  ...  ...  ...  ...  ...  ...  ...  ...  ...   \n",
       "99988  205  345  326  304  359  359  150  355  229  304  ...  306  358   57   \n",
       "99992   86   45   47  319   36  356  165  352   99  277  ...  363  241   81   \n",
       "99995   24  213  275  354  257   12  230  332  161   49  ...   67  243  311   \n",
       "99997  351  202   51  171   68  165  119   20  121  280  ...  308  100  352   \n",
       "99998  353   55  240   55  143  160   70  271  232  334  ...   89   74  199   \n",
       "\n",
       "        16   17   18   19   20   21   22  \n",
       "1      281   59  344  263   36  149  254  \n",
       "3      114  267  147   31  252  109  222  \n",
       "9       83   39  102  235  193  343  352  \n",
       "10     220  204   76  275  218  297  229  \n",
       "13     119  194  238  138  312  241  115  \n",
       "...    ...  ...  ...  ...  ...  ...  ...  \n",
       "99988  241   88  254  317  362  170    0  \n",
       "99992  260  182  140   67  220   64  260  \n",
       "99995  194   83  113   85   67  365   90  \n",
       "99997  281  135   43  193  295  171   93  \n",
       "99998  208  313  350  346   55   12  287  \n",
       "\n",
       "[50638 rows x 23 columns]"
      ]
     },
     "execution_count": 205,
     "metadata": {},
     "output_type": "execute_result"
    }
   ],
   "source": [
    "double_birthdays = birthdays[birthdays.nunique(axis=1)<23]\n",
    "double_birthdays"
   ]
  },
  {
   "cell_type": "code",
   "execution_count": 208,
   "id": "44ebd033",
   "metadata": {},
   "outputs": [
    {
     "data": {
      "text/plain": [
       "0.50638"
      ]
     },
     "execution_count": 208,
     "metadata": {},
     "output_type": "execute_result"
    }
   ],
   "source": [
    "len(double_birthdays)/len(birthdays)"
   ]
  },
  {
   "cell_type": "markdown",
   "id": "66563552",
   "metadata": {},
   "source": [
    "Be sure to add, commit, and push your work.\n",
    "\n",
    "Bonus Exercises\n",
    "Mage Duel\n",
    "Chuck a Luck"
   ]
  },
  {
   "cell_type": "code",
   "execution_count": null,
   "id": "1ffbd6f9",
   "metadata": {},
   "outputs": [],
   "source": []
  }
 ],
 "metadata": {
  "kernelspec": {
   "display_name": "Python 3 (ipykernel)",
   "language": "python",
   "name": "python3"
  },
  "language_info": {
   "codemirror_mode": {
    "name": "ipython",
    "version": 3
   },
   "file_extension": ".py",
   "mimetype": "text/x-python",
   "name": "python",
   "nbconvert_exporter": "python",
   "pygments_lexer": "ipython3",
   "version": "3.9.12"
  }
 },
 "nbformat": 4,
 "nbformat_minor": 5
}
